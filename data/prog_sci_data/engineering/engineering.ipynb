{
 "cells": [
  {
   "cell_type": "code",
   "execution_count": 7,
   "id": "8b72e11d-6539-404a-b9a8-2e9ab053506d",
   "metadata": {},
   "outputs": [],
   "source": [
    "import numpy as np # linear algebra\n",
    "import pandas as pd # data processing, CSV file I/O (e.g. pd.read_csv)\n"
   ]
  },
  {
   "cell_type": "code",
   "execution_count": 8,
   "id": "a3c5ddca-b94a-4019-89b6-f145608652e1",
   "metadata": {},
   "outputs": [],
   "source": [
    "data = pd.read_csv(\"engineering_dataset.csv\")"
   ]
  },
  {
   "cell_type": "code",
   "execution_count": null,
   "id": "fd6b5af5-4d71-45ed-a22d-4be60806d4ec",
   "metadata": {},
   "outputs": [],
   "source": [
    "df.describe()"
   ]
  },
  {
   "cell_type": "markdown",
   "id": "3ebcc13b-fbe6-4edc-a82e-852273605b94",
   "metadata": {},
   "source": [
    "## About: \n",
    "\n",
    "The dataset was created by Angeliki Xifara (angxifara '@' gmail.com, Civil/Structural Engineer) and was processed by Athanasios Tsanas (tsanasthanasis '@' gmail.com, Oxford Centre for Industrial and Applied Mathematics, University of Oxford, UK). \n",
    "\n",
    "This dataset allows you to perform an energy analysis using 12 different building shapes simulated in Ecotect. The buildings differ with respect to the glazing area, the glazing area distribution, and the orientation, amongst other parameters. This simulates various settings as functions of the afore-mentioned characteristics to obtain many building shapes.\n",
    "\n",
    "Architectural Features: Relative compactness, surface area, wall area, roof area, overall height, and orientation are all key architectural characteristics that significantly impact a building's thermal performance and, consequently, its heating and cooling loads.\n",
    "\n",
    "Glazing: The amount and distribution of glazing (windows) directly affect solar heat gain and heat loss through conduction, making them important factors in determining heating and cooling loads.\n",
    "\n",
    "\n",
    "## Variables:\n",
    "\n",
    "Relative Compactness: This represents the shape and form of the building, with higher values indicating a more compact shape (e.g., closer to a sphere or cube). This variable might be calculated as a ratio of the building's volume to its surface area.\n",
    "\n",
    "Surface Area: The total external surface area of the building.\n",
    "\n",
    "Wall Area: The area of the building's walls.\n",
    "\n",
    "Roof Area: The area of the building's roof.\n",
    "\n",
    "Overall Height: The height of the building.\n",
    "\n",
    "Orientation: This variable likely represents the cardinal orientation of the building, which can influence solar gain.\n",
    "\n",
    "Glazing Area: The total area of windows in the building.\n",
    "\n",
    "Glazing Area Distribution: This variable likely describes how the glazing area is distributed across the building's facades.\n",
    "\n",
    "### What to predict: \n",
    "\n",
    "Heating load and cooling load are the 2 target variables used to assess a building's energy efficiency. By predicting these values based on the building's characteristics, architects, engineers, and researchers can design more energy-efficient buildings and optimize energy consumption.\n",
    "\n",
    "Heating Load: The amount of energy required to heat the building to maintain a comfortable indoor temperature.\n",
    "\n",
    "Cooling Load: The amount of energy required to cool the building to maintain a comfortable indoor temperature. \n",
    "\n",
    "This datasets can be viewed as a regression task but can also be used as a multi-class classification problem if the response is rounded to the nearest integer.\n"
   ]
  }
 ],
 "metadata": {
  "kernelspec": {
   "display_name": "Python 3 (ipykernel)",
   "language": "python",
   "name": "python3"
  },
  "language_info": {
   "codemirror_mode": {
    "name": "ipython",
    "version": 3
   },
   "file_extension": ".py",
   "mimetype": "text/x-python",
   "name": "python",
   "nbconvert_exporter": "python",
   "pygments_lexer": "ipython3",
   "version": "3.9.23"
  }
 },
 "nbformat": 4,
 "nbformat_minor": 5
}
