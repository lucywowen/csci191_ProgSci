{
 "cells": [
  {
   "cell_type": "code",
   "execution_count": 1,
   "id": "1247c7db-7158-4fb6-9f27-06bf3ed6ba0d",
   "metadata": {},
   "outputs": [],
   "source": [
    "import numpy as np # linear algebra\n",
    "import pandas as pd # data processing, CSV file I/O (e.g. pd.read_csv)\n"
   ]
  },
  {
   "cell_type": "code",
   "execution_count": 2,
   "id": "b5e36303-0c70-4395-b174-ae32faf4283a",
   "metadata": {},
   "outputs": [],
   "source": [
    "df = pd.read_csv(\"biology_dataset.csv\")"
   ]
  },
  {
   "cell_type": "code",
   "execution_count": 3,
   "id": "a1b43fb5-90ea-4a19-9d4f-45e63a457115",
   "metadata": {},
   "outputs": [
    {
     "data": {
      "text/html": [
       "<div>\n",
       "<style scoped>\n",
       "    .dataframe tbody tr th:only-of-type {\n",
       "        vertical-align: middle;\n",
       "    }\n",
       "\n",
       "    .dataframe tbody tr th {\n",
       "        vertical-align: top;\n",
       "    }\n",
       "\n",
       "    .dataframe thead th {\n",
       "        text-align: right;\n",
       "    }\n",
       "</style>\n",
       "<table border=\"1\" class=\"dataframe\">\n",
       "  <thead>\n",
       "    <tr style=\"text-align: right;\">\n",
       "      <th></th>\n",
       "      <th>T_degC</th>\n",
       "      <th>Salnty</th>\n",
       "    </tr>\n",
       "  </thead>\n",
       "  <tbody>\n",
       "    <tr>\n",
       "      <th>count</th>\n",
       "      <td>337.000000</td>\n",
       "      <td>337.000000</td>\n",
       "    </tr>\n",
       "    <tr>\n",
       "      <th>mean</th>\n",
       "      <td>7.970979</td>\n",
       "      <td>33.594947</td>\n",
       "    </tr>\n",
       "    <tr>\n",
       "      <th>std</th>\n",
       "      <td>2.944004</td>\n",
       "      <td>0.564838</td>\n",
       "    </tr>\n",
       "    <tr>\n",
       "      <th>min</th>\n",
       "      <td>2.780000</td>\n",
       "      <td>32.630000</td>\n",
       "    </tr>\n",
       "    <tr>\n",
       "      <th>25%</th>\n",
       "      <td>5.120000</td>\n",
       "      <td>33.010000</td>\n",
       "    </tr>\n",
       "    <tr>\n",
       "      <th>50%</th>\n",
       "      <td>8.260000</td>\n",
       "      <td>33.770000</td>\n",
       "    </tr>\n",
       "    <tr>\n",
       "      <th>75%</th>\n",
       "      <td>10.450000</td>\n",
       "      <td>34.101000</td>\n",
       "    </tr>\n",
       "    <tr>\n",
       "      <th>max</th>\n",
       "      <td>12.660000</td>\n",
       "      <td>34.450000</td>\n",
       "    </tr>\n",
       "  </tbody>\n",
       "</table>\n",
       "</div>"
      ],
      "text/plain": [
       "           T_degC      Salnty\n",
       "count  337.000000  337.000000\n",
       "mean     7.970979   33.594947\n",
       "std      2.944004    0.564838\n",
       "min      2.780000   32.630000\n",
       "25%      5.120000   33.010000\n",
       "50%      8.260000   33.770000\n",
       "75%     10.450000   34.101000\n",
       "max     12.660000   34.450000"
      ]
     },
     "execution_count": 3,
     "metadata": {},
     "output_type": "execute_result"
    }
   ],
   "source": [
    "df.describe()"
   ]
  },
  {
   "cell_type": "markdown",
   "id": "2be51b8d-e64a-487c-bbc5-b4d258510777",
   "metadata": {},
   "source": [
    "## About\n",
    "\n",
    "We are going to be working with the [CalCOFI Dataset](https://www.kaggle.com/datasets/sohier/calcofi\n",
    ") (CC BY 4.0 License). The CalCOFI data set represents the longest (1949-present) and most complete (more than 50,000 sampling stations) time series of oceanographic and larval fish data in the world. It includes abundance data on the larvae of over 250 species of fish; larval length frequency data and egg abundance data on key commercial species; and oceanographic and plankton data. The physical, chemical, and biological data collected at regular time and space intervals quickly became valuable for documenting climatic cycles in the California Current and a range of biological responses to them. CalCOFI research drew world attention to the biological response to the dramatic Pacific-warming event in 1957-58 and introduced the term “El Niño” into the scientific literature.\n",
    "\n",
    "The California Cooperative Oceanic Fisheries Investigations (CalCOFI) are a unique partnership of the California Department of Fish & Wildlife, NOAA Fisheries Service and Scripps Institution of Oceanography. The organization was formed in 1949 to study the ecological aspects of the sardine population collapse off California. Today our focus has shifted to the study of the marine environment off the coast of California, the management of its living resources, and monitoring the indicators of El Nino and climate change. CalCOFI conducts quarterly cruises off southern & central California, collecting a suite of hydrographic and biological data on station and underway. Data collected at depths down to 500 m include: temperature, salinity, oxygen, phosphate, silicate, nitrate and nitrite, chlorophyll, transmissometer, PAR, C14 primary productivity, phytoplankton biodiversity, zooplankton biomass, and zooplankton biodiversity.\n",
    "\n",
    "\n",
    "The full dataset includes features such as water temperature, salinity, measurement depth, O2 level, and more (and you're more than welcome to explore the full dataset!) I've included the original dataset in a subfolder (`ocean_data.zip`). This dataset inlcudes not only all the features described above (in `bottle.csv`) but also the coordinates of the data (in `cast.csv`).  If you want a challenge... go for it!  There are lots of questions you can explore... and you try your had at some GIS data (plotting data on maps!).  \n",
    "\n",
    "However, for this beginner class I've already cleaned some of the data... we'll just be using a subsample of the data and only water temperature and the water salinity features. You can find this data in `biology_dataset.csv.`.  \n",
    "\n",
    "## Variables:\n",
    "\n",
    "Salinity: Refers to the amount of dissolved salts in water, typically measured in parts per thousand (ppt) or percentage (%). \n",
    "\n",
    "\n",
    "### What to predict: \n",
    "\n",
    "Temperature: Refers to water temperature in degrees celcius.  \n",
    "\n",
    "This dataset should be used as a regression problem.  In particular, can you use polynomial regression to find the best fitting line??\n",
    "\n",
    "\n",
    "\n",
    "\n"
   ]
  },
  {
   "cell_type": "code",
   "execution_count": null,
   "id": "5e4128cc-8294-4181-ba1a-646aa47467ff",
   "metadata": {},
   "outputs": [],
   "source": []
  }
 ],
 "metadata": {
  "kernelspec": {
   "display_name": "Python 3 (ipykernel)",
   "language": "python",
   "name": "python3"
  },
  "language_info": {
   "codemirror_mode": {
    "name": "ipython",
    "version": 3
   },
   "file_extension": ".py",
   "mimetype": "text/x-python",
   "name": "python",
   "nbconvert_exporter": "python",
   "pygments_lexer": "ipython3",
   "version": "3.9.23"
  }
 },
 "nbformat": 4,
 "nbformat_minor": 5
}
