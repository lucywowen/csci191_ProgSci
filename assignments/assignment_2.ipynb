{
  "cells": [
    {
      "cell_type": "markdown",
      "metadata": {
        "id": "view-in-github",
        "colab_type": "text"
      },
      "source": [
        "<a href=\"https://colab.research.google.com/github/lucywowen/csci191_ProgSci/blob/main/assignments/assignment_2.ipynb\" target=\"_parent\"><img src=\"https://colab.research.google.com/assets/colab-badge.svg\" alt=\"Open In Colab\"/></a>"
      ]
    },
    {
      "cell_type": "markdown",
      "metadata": {
        "id": "INkAgt-hTY_-"
      },
      "source": [
        "# Assignment 2 -  More advanced visualization and some stats"
      ]
    },
    {
      "cell_type": "markdown",
      "metadata": {
        "id": "FTEAadCkTZAA"
      },
      "source": [
        "## *YOUR FULL NAME HERE*\n",
        "Netid: Your netid here\n",
        "\n",
        "*Names of students you worked with on this assignment*: LIST HERE IF APPLICABLE (delete if not)\n",
        "\n",
        "Note: this assignment falls under collaboration Mode 2: Individual Assignment – Collaboration Permitted. Please refer to the syllabus on Canvas for additional information."
      ]
    },
    {
      "cell_type": "markdown",
      "metadata": {
        "id": "mzkmvTNfTZAA"
      },
      "source": [
        "Instructions for all assignments can be found [here](https://github.com/kylebradbury/ids705/blob/master/assignments/_Assignment%20Instructions.ipynb), and is also linked to from the [course syllabus](https://kylebradbury.github.io/ids705/index.html).\n",
        "\n",
        "Total points in the assignment add up to 90; an additional 10 points are allocated to presentation quality."
      ]
    },
    {
      "cell_type": "markdown",
      "metadata": {
        "id": "IAPvzGDXTZAA"
      },
      "source": [
        "#  Learning Objectives\n",
        "The purpose of this assignment is to provide practice in fundamental concepts that we will use throughout this course. By completing this assignment, you will...\n",
        "- Practice **for-loops**, **conditionals**, and **functions** on a familiar dataset (penguins).\n",
        "- Write reusable **plotting functions** and make more advanced figures.\n",
        "- Run a lightweight **EDA** (missing data, structure, and visuals) on two new datasets, and **choose one** for our end‑of‑semester *Kaggle* challenge.\n",
        "\n",
        "\n",
        "We've used most of this knowledge in class, but now it's time to put it together!\n"
      ]
    },
    {
      "cell_type": "markdown",
      "metadata": {
        "id": "ntZoXcmBTZAB"
      },
      "source": [
        "*Note: for all assignments, write out all equations and math using markdown and [LaTeX](https://tobi.oetiker.ch/lshort/lshort.pdf). For this assignment show ALL math work*"
      ]
    },
    {
      "cell_type": "markdown",
      "metadata": {
        "id": "8kS629PqTZAD"
      },
      "source": [
        "**ANSWER**"
      ]
    },
    {
      "cell_type": "markdown",
      "metadata": {
        "id": "zJo_2az4TZAD"
      },
      "source": [
        "# For-loops, conditionals, and functions!"
      ]
    },
    {
      "cell_type": "markdown",
      "metadata": {
        "id": "QeMy78fGTZAD"
      },
      "source": [
        "## 1\n",
        "**[32 points]** Loading data and gathering insights from a real dataset. In this section, you're asked to **avoid `groupby` / built-ins first** and lean on **for‑loops** and **if/elif/else**. After you finish a loop-based solution, you *may* then check your work with `groupby`.\n",
        "\n",
        "\n",
        "**Data**. The data for this problem will be the penguins dataset. This time you'll just use `pip install` to load the data.\n",
        "\n",
        "\n",
        "This dataset consists of 7 columns.\n",
        "\n",
        "- species: penguin species (Chinstrap, Adélie, or Gentoo)\n",
        "- bill_length_mm: bill length (mm)\n",
        "- bill_depth_mm: bill depth (mm)\n",
        "- flipper_length_mm: flipper length (mm)\n",
        "- body_mass_g: body mass (g)\n",
        "- island: island name (Dream, Torgersen, or Biscoe) in the Palmer Archipelago (Antarctica)\n",
        "- sex: penguin sex\n",
        "\n",
        "\n",
        "\n",
        "**Your objective**. For this dataset, your goal is to follow these instructions and answer the following questions:\n",
        "\n",
        "\n",
        "**(a)** Load the penguins dataset using `!pip install palmerpenguins`.  Load the library using `from palmerpenguins import load_penguins` and then load the data using `penguins = load_penguins()`.  \n",
        "\n",
        "First, load penguins:\n",
        "`penguins = load_penguins()`. Then standardize expected column names.\n",
        "`penguins.columns = [c.strip().lower().replace(' ', '_') for c in penguins.columns]`. And preview your work: `penguins.head()`.\n",
        "\n",
        "_The following questions are worth 8 points each._\n",
        "\n",
        "**(b)  ** Write a function `mean_by_species_loops(df, column)` that returns a dictionary like `{'Adelie': 190.0, 'Chinstrap': ...}` of the **mean** of `column` for each species, **skipping missing values**, implemented with loops and conditionals (no `groupby`). Starter code provided below.\n",
        "\n",
        "**(c)** Create a new column `mass_class` with values `'light'`, `'medium'`, or `'heavy'` using **if/elif/else** on `body_mass_g`. Use the **33rd and 66th percentiles** of `body_mass_g` (computed on the full dataset) as cut-points.\n",
        "\n",
        "Additionally:\n",
        "- Missing `body_mass_g` should map to `np.nan`.\n",
        "- **(extra credit +1)** Do this once using **loops** (e.g., iterating rows) and then, if you like, re-implement using **vectorized** code.\n",
        "\n",
        "Your goal is to populate `mass_class` column and a value count by species and mass class. Starter code provided below.\n",
        "\n",
        "**(d)** Ok, now let's try to build a nested dictionary of counts for `island` × `mass_class`, e.g.\n",
        "\n",
        "```python\n",
        "{\n",
        "  'Biscoe': {'light': 12, 'medium': 34, 'heavy': 11},\n",
        "  'Dream':  {'light':  8, 'medium': 17, 'heavy': 15},\n",
        "  'Torgersen': {...}\n",
        "}\n",
        "```\n",
        "\n",
        "Implement with loops (no `crosstab` / `pivot_table` at first). Started code provided.\n",
        "\n",
        "**(e)**  Write a reusable function `group_mean_loops(df, by, col)` that returns a dictionary mapping each value of `by` to the **mean** of `col`, **implemented with loops and conditionals**. The goal of this task is to create a general-purpose aggregator. Starter code provided.\n",
        "\n",
        "\n",
        "\n"
      ]
    },
    {
      "cell_type": "markdown",
      "metadata": {
        "id": "NFX1SSqATZAD"
      },
      "source": [
        "**ANSWER**"
      ]
    },
    {
      "cell_type": "code",
      "source": [
        "## For 1b\n",
        "\n",
        "def mean_by_species_loops(df: pd.DataFrame, column: str) -> dict:\n",
        "    \"\"\"Compute mean of `column` per species using loops/conditionals only.\n",
        "    Returns: dict species -> mean_value (float)\n",
        "    \"\"\"\n",
        "    # TODO: implement with loops (no groupby). Skip NaNs.\n",
        "    # Hints: you'll want two accumulators per species: sum and count.\n",
        "    sums = {}\n",
        "    counts = {}\n",
        "    # YOUR CODE HERE\n",
        "    # raise NotImplementedError()\n",
        "    return {sp: (sums[sp] / counts[sp]) for sp in sums if counts[sp] > 0}\n",
        "\n",
        "# --- Quick check (you may peek AFTER you've implemented the loops):\n",
        "try:\n",
        "    loop_means = mean_by_species_loops(penguins, 'flipper_length_mm')\n",
        "    # Compare to groupby (just for a sanity check)\n",
        "    gb_means = penguins.dropna(subset=['species','flipper_length_mm']).groupby('species')['flipper_length_mm'].mean().to_dict()\n",
        "    print('Your loop means:', {k: round(v, 2) for k, v in loop_means.items()})\n",
        "    print('Groupby means  :', {k: round(v, 2) for k, v in gb_means.items()})\n",
        "except Exception as e:\n",
        "    print('Check failed (implement the function first):', e)\n"
      ],
      "metadata": {
        "id": "m_rv2PQko4W6"
      },
      "execution_count": null,
      "outputs": []
    },
    {
      "cell_type": "code",
      "source": [
        "## for 1c\n",
        "# Compute quantile cut-points\n",
        "q1 = penguins['body_mass_g'].quantile(0.33)\n",
        "q2 = penguins['body_mass_g'].quantile(0.66)\n",
        "\n",
        "def classify_mass(value: float) -> str:\n",
        "    # TODO: implement: return 'light' / 'medium' / 'heavy' based on q1,q2. np.nan -> np.nan\n",
        "    # YOUR CODE HERE\n",
        "    # raise NotImplementedError()\n",
        "    return ...\n",
        "\n",
        "# Loop-based application\n",
        "mass_labels = []\n",
        "for _, row in penguins.iterrows():\n",
        "    mass_labels.append(classify_mass(row.get('body_mass_g')))\n",
        "penguins['mass_class'] = mass_labels\n",
        "\n",
        "# Quick check\n",
        "print(penguins['mass_class'].value_counts(dropna=False).to_frame('count'))\n",
        "\n",
        "# Optional extra credit (1 point): a vectorized approach (uncomment and complete if you want)\n",
        "# penguins['mass_class_vec'] = np.select(\n",
        "#     condlist=[penguins['body_mass_g'] < q1, penguins['body_mass_g'] < q2],\n",
        "#     choicelist=['light', 'medium'],\n",
        "#     default='heavy'\n",
        "# )"
      ],
      "metadata": {
        "id": "BbNSEY7cpfZd"
      },
      "execution_count": null,
      "outputs": []
    },
    {
      "cell_type": "code",
      "source": [
        "## 1d\n",
        "def island_mass_counts(df: pd.DataFrame) -> dict:\n",
        "    # TODO: implement with loops\n",
        "    out = {}\n",
        "    # YOUR CODE HERE\n",
        "    # raise NotImplementedError()\n",
        "    return out\n",
        "\n",
        "counts_loop = island_mass_counts(penguins)\n",
        "print(counts_loop)\n",
        "\n",
        "# Check (after you have a result)\n",
        "try:\n",
        "    check = pd.crosstab(penguins['island'], penguins['mass_class'])\n",
        "    print('\\nCrosstab (check):\\n', check)\n",
        "except Exception as e:\n",
        "    print('Crosstab check skipped:', e)"
      ],
      "metadata": {
        "id": "8gWIFotmqH-G"
      },
      "execution_count": null,
      "outputs": []
    },
    {
      "cell_type": "code",
      "source": [
        "## 1e\n",
        "\n",
        "def group_mean_loops(df: pd.DataFrame, by: str, col: str) -> dict:\n",
        "    # TODO: implement with loops/conditionals (no groupby)\n",
        "    sums, counts = {}, {}\n",
        "    # YOUR CODE HERE\n",
        "    # raise NotImplementedError()\n",
        "    return {g: (sums[g] / counts[g]) for g in sums if counts[g] > 0}\n",
        "\n",
        "# Quick test\n",
        "try:\n",
        "    result = group_mean_loops(penguins, 'island', 'bill_length_mm')\n",
        "    print({k: round(v, 2) for k, v in result.items()})\n",
        "except Exception as e:\n",
        "    print('Implement the function first:', e)"
      ],
      "metadata": {
        "id": "kS-YvtpGq02f"
      },
      "execution_count": null,
      "outputs": []
    },
    {
      "cell_type": "markdown",
      "metadata": {
        "id": "uENxx9_VTZAD"
      },
      "source": [
        "# Visualization"
      ]
    },
    {
      "cell_type": "markdown",
      "metadata": {
        "id": "shzvGVzgTZAE"
      },
      "source": [
        "## 2\n",
        "**[20 points]** Visualization\n",
        "\n",
        "\n",
        "**Data**. Use the `penguins` dataframe for the following questions, again.\n",
        "\n",
        "\n",
        "**Your objective**. Your goal here is to write your plotting code inside functions that return `(fig, ax)` (or `(fig, axes)` for grids). Aim for publication-quality figures with labeled axes/titles/legends and clear design.\n",
        "\n",
        "_The following questions are worth 5 points each._\n",
        "\n",
        "**(a)** Write a function `plot_bill_scatter(df, x='bill_length_mm', y='bill_depth_mm', hue='species')` that:\n",
        "\n",
        "- Creates a scatter plot of `x` vs `y`.\n",
        "- Colors points by `hue` (species).\n",
        "- Adds a least‑squares regression line **per species** (you may use `numpy.polyfit` or a library helper).\n",
        "- Returns `(fig, ax)`.\n",
        "\n",
        "**(b)** Write a function `plot_flipper_distribution(df)` that shows the distribution of `flipper_length_mm` by `species` using either:\n",
        "- A **violin** or **box** plot with\n",
        "- A jittered overlay of individual points\n",
        "\n",
        "Then return `(fig, ax)`.\n",
        "\n",
        "**(c)** Create a function `plot_mass_by_island(df)` that generates **one subplot per island** showing the distribution of `body_mass_g` for each `species` (e.g., side‑by‑side box plots). Return `(fig, axes)`.\n",
        "\n",
        "**(d)** Write a function `plot_numeric_correlation(df)` that computes the correlation matrix across **numeric columns** only and plots a heatmap (with values annotated). Return `(fig, ax)`.\n",
        "\n"
      ]
    },
    {
      "cell_type": "markdown",
      "metadata": {
        "id": "BASw0yPhTZAE"
      },
      "source": [
        "**ANSWER**\n"
      ]
    },
    {
      "cell_type": "code",
      "source": [
        "## 2a\n",
        "import matplotlib.pyplot as plt\n",
        "\n",
        "def plot_bill_scatter(df, x='bill_length_mm', y='bill_depth_mm', hue='species'):\n",
        "    # TODO: implement\n",
        "    # Hints:\n",
        "    # - you can loop over unique values of `hue` to plot subsets\n",
        "    # - fit a simple linear model per group with np.polyfit and draw a line\n",
        "    # - label axes, add legend, set a clear title\n",
        "    # YOUR CODE HERE\n",
        "    # raise NotImplementedError()\n",
        "    return None, None\n",
        "\n",
        "# Example calls (uncomment after implementation)\n",
        "# fig, ax = plot_bill_scatter(penguins)\n",
        "# fig, ax = plot_bill_scatter(penguins, hue='island')\n"
      ],
      "metadata": {
        "id": "Q0ps2HgartwZ"
      },
      "execution_count": null,
      "outputs": []
    },
    {
      "cell_type": "code",
      "source": [
        "## 2b\n",
        "\n",
        "def plot_flipper_distribution(df):\n",
        "    # TODO: implement (matplotlib or seaborn). Return (fig, ax).\n",
        "    # YOUR CODE HERE\n",
        "    # raise NotImplementedError()\n",
        "    return None, None\n",
        "\n",
        "# fig, ax = plot_flipper_distribution(penguins)\n"
      ],
      "metadata": {
        "id": "HJCd0bycr6dI"
      },
      "execution_count": null,
      "outputs": []
    },
    {
      "cell_type": "code",
      "source": [
        "## 2c\n",
        "def plot_mass_by_island(df):\n",
        "    # TODO: implement a 1×N grid (N=islands), each with the distribution of body_mass_g by species.\n",
        "    # Hints: iterate islands with a loop.\n",
        "    # YOUR CODE HERE\n",
        "    # raise NotImplementedError()\n",
        "    return None, None\n",
        "\n",
        "# fig, axes = plot_mass_by_island(penguins)"
      ],
      "metadata": {
        "id": "wdnI71FbsAP9"
      },
      "execution_count": null,
      "outputs": []
    },
    {
      "cell_type": "code",
      "source": [
        "## 2d\n",
        "def plot_numeric_correlation(df):\n",
        "    # TODO: implement: select numeric columns, compute corr(), and plot as a heatmap with annotations.\n",
        "    # YOUR CODE HERE\n",
        "    # raise NotImplementedError()\n",
        "    return None, None\n",
        "\n",
        "# fig, ax = plot_numeric_correlation(penguins)\n"
      ],
      "metadata": {
        "id": "bW8bIJbGsQpU"
      },
      "execution_count": null,
      "outputs": []
    },
    {
      "cell_type": "markdown",
      "metadata": {
        "id": "Ip7LwEpCTZAE"
      },
      "source": [
        "# Exploratory Data Analysis\n",
        "## 3\n",
        "**[38 points]** In your previous assignment, you selected **two datasets**. You'll do a quick EDA on both, then **choose one** to take forward for our end‑of‑semester Kaggle-style challenge.\n",
        "\n",
        "\n",
        "1. (2 points)  Pick 2 datasets from the [datasets available](https://github.com/lucywowen/csci191_ProgSci/tree/main/data/prog_sci_data) and briefly reiterate the questions or problems you're interested in working with.  \n",
        "\n",
        "_The following questions are worth 9 points each (4.5 points for each dataset)._\n",
        "\n",
        "2. Check the data and see if they need to be cleaned: are there missing values? Are there clearly erroneous values? Do tables need to be merged together? Clean the data so it can be visualized. If the data are clean, state how you know they are clean (what did you check?).\n",
        "\n",
        "3. Plot the data, demonstrating interesting features that you discover. Are there any relationships between variables that were surprising or patterns that emerged? Please exercise creativity and curiosity in your plots. You should have at least a ~3 plots exploring the data in different ways ... so at least 6 plots total.\n",
        "\n",
        "4. What insights are you able to take away from exploring the data? Is there a reason why analyzing the dataset you chose is particularly interesting or important? Summarize this for a general audience - boil down your findings in a way that is accessible, but still accurate.\n",
        "\n",
        "5. Redefine a clear question for each dataset that you would be interested in working on for the remainder of the semester. What outcome would you try to predict (target)? Be prepared to pitch your project proposals to the class!"
      ]
    },
    {
      "cell_type": "markdown",
      "metadata": {
        "id": "l56U-8r9TZAE"
      },
      "source": [
        "**ANSWER**"
      ]
    }
  ],
  "metadata": {
    "kernelspec": {
      "display_name": "Python 3 (ipykernel)",
      "language": "python",
      "name": "python3"
    },
    "language_info": {
      "codemirror_mode": {
        "name": "ipython",
        "version": 3
      },
      "file_extension": ".py",
      "mimetype": "text/x-python",
      "name": "python",
      "nbconvert_exporter": "python",
      "pygments_lexer": "ipython3",
      "version": "3.11.5"
    },
    "nteract": {
      "version": "0.28.0"
    },
    "varInspector": {
      "cols": {
        "lenName": 16,
        "lenType": 16,
        "lenVar": 40
      },
      "kernels_config": {
        "python": {
          "delete_cmd_postfix": "",
          "delete_cmd_prefix": "del ",
          "library": "var_list.py",
          "varRefreshCmd": "print(var_dic_list())"
        },
        "r": {
          "delete_cmd_postfix": ") ",
          "delete_cmd_prefix": "rm(",
          "library": "var_list.r",
          "varRefreshCmd": "cat(var_dic_list()) "
        }
      },
      "position": {
        "height": "643px",
        "left": "1548px",
        "right": "20px",
        "top": "121px",
        "width": "350px"
      },
      "types_to_exclude": [
        "module",
        "function",
        "builtin_function_or_method",
        "instance",
        "_Feature"
      ],
      "window_display": true
    },
    "colab": {
      "provenance": [],
      "include_colab_link": true
    }
  },
  "nbformat": 4,
  "nbformat_minor": 0
}