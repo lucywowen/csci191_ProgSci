{
  "nbformat": 4,
  "nbformat_minor": 0,
  "metadata": {
    "colab": {
      "provenance": [],
      "authorship_tag": "ABX9TyNf9CZFSRpI/fe5B52W5r+R",
      "include_colab_link": true
    },
    "kernelspec": {
      "name": "python3",
      "display_name": "Python 3"
    },
    "language_info": {
      "name": "python"
    }
  },
  "cells": [
    {
      "cell_type": "markdown",
      "metadata": {
        "id": "view-in-github",
        "colab_type": "text"
      },
      "source": [
        "<a href=\"https://colab.research.google.com/github/lucywowen/csci191_ProgSci/blob/main/workshops/analyzing_data.ipynb\" target=\"_parent\"><img src=\"https://colab.research.google.com/assets/colab-badge.svg\" alt=\"Open In Colab\"/></a>"
      ]
    },
    {
      "cell_type": "markdown",
      "source": [
        "# Analyzing patient data\n",
        "\n",
        "We're going to go over the basics of libraries today, which is basically just specialized functions packaged together.  We'll also go over how to read in data and work with tabular data all with a super useful library called `NumPy`!  Pronounced numb - pie ... not numpee."
      ],
      "metadata": {
        "id": "1qzA0RRZIiU_"
      }
    },
    {
      "cell_type": "markdown",
      "source": [
        "### Loading data into python\n",
        "\n",
        "To begin processing the clinical trial inflammation data, we need to load it into Python. We can do that using a library called `NumPy`, which stands for Numerical Python. In general, you should use this library when you want to do fancy things with lots of numbers, especially if you have matrices or arrays. To tell Python that we’d like to start using `NumPy`, we need to import it:"
      ],
      "metadata": {
        "id": "DQnx1iEVJQZ7"
      }
    },
    {
      "cell_type": "code",
      "execution_count": 2,
      "metadata": {
        "id": "tcsdkaWHG-qk"
      },
      "outputs": [],
      "source": [
        "import numpy"
      ]
    },
    {
      "cell_type": "markdown",
      "source": [
        "Importing a library is like getting a piece of lab equipment out of a storage locker and setting it up on the bench. Libraries provide additional functionality to the basic Python package, much like a new piece of equipment adds functionality to a lab space. Just like in the lab, importing too many libraries can sometimes complicate and slow down your programs - so we only import what we need for each program.\n",
        "\n",
        "Once we’ve imported the library, we can ask the library to read our data file for us:"
      ],
      "metadata": {
        "id": "fOZUdPfTJm8S"
      }
    },
    {
      "cell_type": "markdown",
      "source": [
        "Ok now a word on this... what we want is this file.  Since we're working in Colab, we'll need to load it in manually.  But eventually, when we're running this on our computer, we'll be able to just load it like this:"
      ],
      "metadata": {
        "id": "aJoVuiMjKtRp"
      }
    },
    {
      "cell_type": "code",
      "source": [
        "# numpy.loadtxt(fname='/swc-python/data/inflammation-01.csv', delimiter=',')"
      ],
      "metadata": {
        "id": "Y41f-1C1JeJV"
      },
      "execution_count": 3,
      "outputs": []
    },
    {
      "cell_type": "markdown",
      "source": [
        "For now, here's our work around.  Make sure you can load the data in before we continue!!"
      ],
      "metadata": {
        "id": "YPSfLHkvLrEO"
      }
    },
    {
      "cell_type": "code",
      "source": [
        "from google.colab import files\n",
        "files.upload()"
      ],
      "metadata": {
        "colab": {
          "base_uri": "https://localhost:8080/",
          "height": 128
        },
        "id": "A5NHwuNSLBC5",
        "outputId": "9a79c50c-c34c-4569-d529-0797c6218304"
      },
      "execution_count": 4,
      "outputs": [
        {
          "output_type": "display_data",
          "data": {
            "text/plain": [
              "<IPython.core.display.HTML object>"
            ],
            "text/html": [
              "\n",
              "     <input type=\"file\" id=\"files-ce2e8b6a-7f8f-4888-b9b3-9acfd27389c6\" name=\"files[]\" multiple disabled\n",
              "        style=\"border:none\" />\n",
              "     <output id=\"result-ce2e8b6a-7f8f-4888-b9b3-9acfd27389c6\">\n",
              "      Upload widget is only available when the cell has been executed in the\n",
              "      current browser session. Please rerun this cell to enable.\n",
              "      </output>\n",
              "      <script>// Copyright 2017 Google LLC\n",
              "//\n",
              "// Licensed under the Apache License, Version 2.0 (the \"License\");\n",
              "// you may not use this file except in compliance with the License.\n",
              "// You may obtain a copy of the License at\n",
              "//\n",
              "//      http://www.apache.org/licenses/LICENSE-2.0\n",
              "//\n",
              "// Unless required by applicable law or agreed to in writing, software\n",
              "// distributed under the License is distributed on an \"AS IS\" BASIS,\n",
              "// WITHOUT WARRANTIES OR CONDITIONS OF ANY KIND, either express or implied.\n",
              "// See the License for the specific language governing permissions and\n",
              "// limitations under the License.\n",
              "\n",
              "/**\n",
              " * @fileoverview Helpers for google.colab Python module.\n",
              " */\n",
              "(function(scope) {\n",
              "function span(text, styleAttributes = {}) {\n",
              "  const element = document.createElement('span');\n",
              "  element.textContent = text;\n",
              "  for (const key of Object.keys(styleAttributes)) {\n",
              "    element.style[key] = styleAttributes[key];\n",
              "  }\n",
              "  return element;\n",
              "}\n",
              "\n",
              "// Max number of bytes which will be uploaded at a time.\n",
              "const MAX_PAYLOAD_SIZE = 100 * 1024;\n",
              "\n",
              "function _uploadFiles(inputId, outputId) {\n",
              "  const steps = uploadFilesStep(inputId, outputId);\n",
              "  const outputElement = document.getElementById(outputId);\n",
              "  // Cache steps on the outputElement to make it available for the next call\n",
              "  // to uploadFilesContinue from Python.\n",
              "  outputElement.steps = steps;\n",
              "\n",
              "  return _uploadFilesContinue(outputId);\n",
              "}\n",
              "\n",
              "// This is roughly an async generator (not supported in the browser yet),\n",
              "// where there are multiple asynchronous steps and the Python side is going\n",
              "// to poll for completion of each step.\n",
              "// This uses a Promise to block the python side on completion of each step,\n",
              "// then passes the result of the previous step as the input to the next step.\n",
              "function _uploadFilesContinue(outputId) {\n",
              "  const outputElement = document.getElementById(outputId);\n",
              "  const steps = outputElement.steps;\n",
              "\n",
              "  const next = steps.next(outputElement.lastPromiseValue);\n",
              "  return Promise.resolve(next.value.promise).then((value) => {\n",
              "    // Cache the last promise value to make it available to the next\n",
              "    // step of the generator.\n",
              "    outputElement.lastPromiseValue = value;\n",
              "    return next.value.response;\n",
              "  });\n",
              "}\n",
              "\n",
              "/**\n",
              " * Generator function which is called between each async step of the upload\n",
              " * process.\n",
              " * @param {string} inputId Element ID of the input file picker element.\n",
              " * @param {string} outputId Element ID of the output display.\n",
              " * @return {!Iterable<!Object>} Iterable of next steps.\n",
              " */\n",
              "function* uploadFilesStep(inputId, outputId) {\n",
              "  const inputElement = document.getElementById(inputId);\n",
              "  inputElement.disabled = false;\n",
              "\n",
              "  const outputElement = document.getElementById(outputId);\n",
              "  outputElement.innerHTML = '';\n",
              "\n",
              "  const pickedPromise = new Promise((resolve) => {\n",
              "    inputElement.addEventListener('change', (e) => {\n",
              "      resolve(e.target.files);\n",
              "    });\n",
              "  });\n",
              "\n",
              "  const cancel = document.createElement('button');\n",
              "  inputElement.parentElement.appendChild(cancel);\n",
              "  cancel.textContent = 'Cancel upload';\n",
              "  const cancelPromise = new Promise((resolve) => {\n",
              "    cancel.onclick = () => {\n",
              "      resolve(null);\n",
              "    };\n",
              "  });\n",
              "\n",
              "  // Wait for the user to pick the files.\n",
              "  const files = yield {\n",
              "    promise: Promise.race([pickedPromise, cancelPromise]),\n",
              "    response: {\n",
              "      action: 'starting',\n",
              "    }\n",
              "  };\n",
              "\n",
              "  cancel.remove();\n",
              "\n",
              "  // Disable the input element since further picks are not allowed.\n",
              "  inputElement.disabled = true;\n",
              "\n",
              "  if (!files) {\n",
              "    return {\n",
              "      response: {\n",
              "        action: 'complete',\n",
              "      }\n",
              "    };\n",
              "  }\n",
              "\n",
              "  for (const file of files) {\n",
              "    const li = document.createElement('li');\n",
              "    li.append(span(file.name, {fontWeight: 'bold'}));\n",
              "    li.append(span(\n",
              "        `(${file.type || 'n/a'}) - ${file.size} bytes, ` +\n",
              "        `last modified: ${\n",
              "            file.lastModifiedDate ? file.lastModifiedDate.toLocaleDateString() :\n",
              "                                    'n/a'} - `));\n",
              "    const percent = span('0% done');\n",
              "    li.appendChild(percent);\n",
              "\n",
              "    outputElement.appendChild(li);\n",
              "\n",
              "    const fileDataPromise = new Promise((resolve) => {\n",
              "      const reader = new FileReader();\n",
              "      reader.onload = (e) => {\n",
              "        resolve(e.target.result);\n",
              "      };\n",
              "      reader.readAsArrayBuffer(file);\n",
              "    });\n",
              "    // Wait for the data to be ready.\n",
              "    let fileData = yield {\n",
              "      promise: fileDataPromise,\n",
              "      response: {\n",
              "        action: 'continue',\n",
              "      }\n",
              "    };\n",
              "\n",
              "    // Use a chunked sending to avoid message size limits. See b/62115660.\n",
              "    let position = 0;\n",
              "    do {\n",
              "      const length = Math.min(fileData.byteLength - position, MAX_PAYLOAD_SIZE);\n",
              "      const chunk = new Uint8Array(fileData, position, length);\n",
              "      position += length;\n",
              "\n",
              "      const base64 = btoa(String.fromCharCode.apply(null, chunk));\n",
              "      yield {\n",
              "        response: {\n",
              "          action: 'append',\n",
              "          file: file.name,\n",
              "          data: base64,\n",
              "        },\n",
              "      };\n",
              "\n",
              "      let percentDone = fileData.byteLength === 0 ?\n",
              "          100 :\n",
              "          Math.round((position / fileData.byteLength) * 100);\n",
              "      percent.textContent = `${percentDone}% done`;\n",
              "\n",
              "    } while (position < fileData.byteLength);\n",
              "  }\n",
              "\n",
              "  // All done.\n",
              "  yield {\n",
              "    response: {\n",
              "      action: 'complete',\n",
              "    }\n",
              "  };\n",
              "}\n",
              "\n",
              "scope.google = scope.google || {};\n",
              "scope.google.colab = scope.google.colab || {};\n",
              "scope.google.colab._files = {\n",
              "  _uploadFiles,\n",
              "  _uploadFilesContinue,\n",
              "};\n",
              "})(self);\n",
              "</script> "
            ]
          },
          "metadata": {}
        },
        {
          "output_type": "stream",
          "name": "stdout",
          "text": [
            "Saving inflammation-01.csv to inflammation-01.csv\n"
          ]
        },
        {
          "output_type": "execute_result",
          "data": {
            "text/plain": [
              "{'inflammation-01.csv': b'0,0,1,3,1,2,4,7,8,3,3,3,10,5,7,4,7,7,12,18,6,13,11,11,7,7,4,6,8,8,4,4,5,7,3,4,2,3,0,0\\n0,1,2,1,2,1,3,2,2,6,10,11,5,9,4,4,7,16,8,6,18,4,12,5,12,7,11,5,11,3,3,5,4,4,5,5,1,1,0,1\\n0,1,1,3,3,2,6,2,5,9,5,7,4,5,4,15,5,11,9,10,19,14,12,17,7,12,11,7,4,2,10,5,4,2,2,3,2,2,1,1\\n0,0,2,0,4,2,2,1,6,7,10,7,9,13,8,8,15,10,10,7,17,4,4,7,6,15,6,4,9,11,3,5,6,3,3,4,2,3,2,1\\n0,1,1,3,3,1,3,5,2,4,4,7,6,5,3,10,8,10,6,17,9,14,9,7,13,9,12,6,7,7,9,6,3,2,2,4,2,0,1,1\\n0,0,1,2,2,4,2,1,6,4,7,6,6,9,9,15,4,16,18,12,12,5,18,9,5,3,10,3,12,7,8,4,7,3,5,4,4,3,2,1\\n0,0,2,2,4,2,2,5,5,8,6,5,11,9,4,13,5,12,10,6,9,17,15,8,9,3,13,7,8,2,8,8,4,2,3,5,4,1,1,1\\n0,0,1,2,3,1,2,3,5,3,7,8,8,5,10,9,15,11,18,19,20,8,5,13,15,10,6,10,6,7,4,9,3,5,2,5,3,2,2,1\\n0,0,0,3,1,5,6,5,5,8,2,4,11,12,10,11,9,10,17,11,6,16,12,6,8,14,6,13,10,11,4,6,4,7,6,3,2,1,0,0\\n0,1,1,2,1,3,5,3,5,8,6,8,12,5,13,6,13,8,16,8,18,15,16,14,12,7,3,8,9,11,2,5,4,5,1,4,1,2,0,0\\n0,1,0,0,4,3,3,5,5,4,5,8,7,10,13,3,7,13,15,18,8,15,15,16,11,14,12,4,10,10,4,3,4,5,5,3,3,2,2,1\\n0,1,0,0,3,4,2,7,8,5,2,8,11,5,5,8,14,11,6,11,9,16,18,6,12,5,4,3,5,7,8,3,5,4,5,5,4,0,1,1\\n0,0,2,1,4,3,6,4,6,7,9,9,3,11,6,12,4,17,13,15,13,12,8,7,4,7,12,9,5,6,5,4,7,3,5,4,2,3,0,1\\n0,0,0,0,1,3,1,6,6,5,5,6,3,6,13,3,10,13,9,16,15,9,11,4,6,4,11,11,12,3,5,8,7,4,6,4,1,3,0,0\\n0,1,2,1,1,1,4,1,5,2,3,3,10,7,13,5,7,17,6,9,12,13,10,4,12,4,6,7,6,10,8,2,5,1,3,4,2,0,2,0\\n0,1,1,0,1,2,4,3,6,4,7,5,5,7,5,10,7,8,18,17,9,8,12,11,11,11,14,6,11,2,10,9,5,6,5,3,4,2,2,0\\n0,0,0,0,2,3,6,5,7,4,3,2,10,7,9,11,12,5,12,9,13,19,14,17,5,13,8,11,5,10,9,8,7,5,3,1,4,0,2,1\\n0,0,0,1,2,1,4,3,6,7,4,2,12,6,12,4,14,7,8,14,13,19,6,9,12,6,4,13,6,7,2,3,6,5,4,2,3,0,1,0\\n0,0,2,1,2,5,4,2,7,8,4,7,11,9,8,11,15,17,11,12,7,12,7,6,7,4,13,5,7,6,6,9,2,1,1,2,2,0,1,0\\n0,1,2,0,1,4,3,2,2,7,3,3,12,13,11,13,6,5,9,16,9,19,16,11,8,9,14,12,11,9,6,6,6,1,1,2,4,3,1,1\\n0,1,1,3,1,4,4,1,8,2,2,3,12,12,10,15,13,6,5,5,18,19,9,6,11,12,7,6,3,6,3,2,4,3,1,5,4,2,2,0\\n0,0,2,3,2,3,2,6,3,8,7,4,6,6,9,5,12,12,8,5,12,10,16,7,14,12,5,4,6,9,8,5,6,6,1,4,3,0,2,0\\n0,0,0,3,4,5,1,7,7,8,2,5,12,4,10,14,5,5,17,13,16,15,13,6,12,9,10,3,3,7,4,4,8,2,6,5,1,0,1,0\\n0,1,1,1,1,3,3,2,6,3,9,7,8,8,4,13,7,14,11,15,14,13,5,13,7,14,9,10,5,11,5,3,5,1,1,4,4,1,2,0\\n0,1,1,1,2,3,5,3,6,3,7,10,3,8,12,4,12,9,15,5,17,16,5,10,10,15,7,5,3,11,5,5,6,1,1,1,1,0,2,1\\n0,0,2,1,3,3,2,7,4,4,3,8,12,9,12,9,5,16,8,17,7,11,14,7,13,11,7,12,12,7,8,5,7,2,2,4,1,1,1,0\\n0,0,1,2,4,2,2,3,5,7,10,5,5,12,3,13,4,13,7,15,9,12,18,14,16,12,3,11,3,2,7,4,8,2,2,1,3,0,1,1\\n0,0,1,1,1,5,1,5,2,2,4,10,4,8,14,6,15,6,12,15,15,13,7,17,4,5,11,4,8,7,9,4,5,3,2,5,4,3,2,1\\n0,0,2,2,3,4,6,3,7,6,4,5,8,4,7,7,6,11,12,19,20,18,9,5,4,7,14,8,4,3,7,7,8,3,5,4,1,3,1,0\\n0,0,0,1,4,4,6,3,8,6,4,10,12,3,3,6,8,7,17,16,14,15,17,4,14,13,4,4,12,11,6,9,5,5,2,5,2,1,0,1\\n0,1,1,0,3,2,4,6,8,6,2,3,11,3,14,14,12,8,8,16,13,7,6,9,15,7,6,4,10,8,10,4,2,6,5,5,2,3,2,1\\n0,0,2,3,3,4,5,3,6,7,10,5,10,13,14,3,8,10,9,9,19,15,15,6,8,8,11,5,5,7,3,6,6,4,5,2,2,3,0,0\\n0,1,2,2,2,3,6,6,6,7,6,3,11,12,13,15,15,10,14,11,11,8,6,12,10,5,12,7,7,11,5,8,5,2,5,5,2,0,2,1\\n0,0,2,1,3,5,6,7,5,8,9,3,12,10,12,4,12,9,13,10,10,6,10,11,4,15,13,7,3,4,2,9,7,2,4,2,1,2,1,1\\n0,0,1,2,4,1,5,5,2,3,4,8,8,12,5,15,9,17,7,19,14,18,12,17,14,4,13,13,8,11,5,6,6,2,3,5,2,1,1,1\\n0,0,0,3,1,3,6,4,3,4,8,3,4,8,3,11,5,7,10,5,15,9,16,17,16,3,8,9,8,3,3,9,5,1,6,5,4,2,2,0\\n0,1,2,2,2,5,5,1,4,6,3,6,5,9,6,7,4,7,16,7,16,13,9,16,12,6,7,9,10,3,6,4,5,4,6,3,4,3,2,1\\n0,1,1,2,3,1,5,1,2,2,5,7,6,6,5,10,6,7,17,13,15,16,17,14,4,4,10,10,10,11,9,9,5,4,4,2,1,0,1,0\\n0,1,0,3,2,4,1,1,5,9,10,7,12,10,9,15,12,13,13,6,19,9,10,6,13,5,13,6,7,2,5,5,2,1,1,1,1,3,0,1\\n0,1,1,3,1,1,5,5,3,7,2,2,3,12,4,6,8,15,16,16,15,4,14,5,13,10,7,10,6,3,2,3,6,3,3,5,4,3,2,1\\n0,0,0,2,2,1,3,4,5,5,6,5,5,12,13,5,7,5,11,15,18,7,9,10,14,12,11,9,10,3,2,9,6,2,2,5,3,0,0,1\\n0,0,1,3,3,1,2,1,8,9,2,8,10,3,8,6,10,13,11,17,19,6,4,11,6,12,7,5,5,4,4,8,2,6,6,4,2,2,0,0\\n0,1,1,3,4,5,2,1,3,7,9,6,10,5,8,15,11,12,15,6,12,16,6,4,14,3,12,9,6,11,5,8,5,5,6,1,2,1,2,0\\n0,0,1,3,1,4,3,6,7,8,5,7,11,3,6,11,6,10,6,19,18,14,6,10,7,9,8,5,8,3,10,2,5,1,5,4,2,1,0,1\\n0,1,1,3,3,4,4,6,3,4,9,9,7,6,8,15,12,15,6,11,6,18,5,14,15,12,9,8,3,6,10,6,8,7,2,5,4,3,1,1\\n0,1,2,2,4,3,1,4,8,9,5,10,10,3,4,6,7,11,16,6,14,9,11,10,10,7,10,8,8,4,5,8,4,4,5,2,4,1,1,0\\n0,0,2,3,4,5,4,6,2,9,7,4,9,10,8,11,16,12,15,17,19,10,18,13,15,11,8,4,7,11,6,7,6,5,1,3,1,0,0,0\\n0,1,1,3,1,4,6,2,8,2,10,3,11,9,13,15,5,15,6,10,10,5,14,15,12,7,4,5,11,4,6,9,5,6,1,1,2,1,2,1\\n0,0,1,3,2,5,1,2,7,6,6,3,12,9,4,14,4,6,12,9,12,7,11,7,16,8,13,6,7,6,10,7,6,3,1,5,4,3,0,0\\n0,0,1,2,3,4,5,7,5,4,10,5,12,12,5,4,7,9,18,16,16,10,15,15,10,4,3,7,5,9,4,6,2,4,1,4,2,2,2,1\\n0,1,2,1,1,3,5,3,6,3,10,10,11,10,13,10,13,6,6,14,5,4,5,5,9,4,12,7,7,4,7,9,3,3,6,3,4,1,2,0\\n0,1,2,2,3,5,2,4,5,6,8,3,5,4,3,15,15,12,16,7,20,15,12,8,9,6,12,5,8,3,8,5,4,1,3,2,1,3,1,0\\n0,0,0,2,4,4,5,3,3,3,10,4,4,4,14,11,15,13,10,14,11,17,9,11,11,7,10,12,10,10,10,8,7,5,2,2,4,1,2,1\\n0,0,2,1,1,4,4,7,2,9,4,10,12,7,6,6,11,12,9,15,15,6,6,13,5,12,9,6,4,7,7,6,5,4,1,4,2,2,2,1\\n0,1,2,1,1,4,5,4,4,5,9,7,10,3,13,13,8,9,17,16,16,15,12,13,5,12,10,9,11,9,4,5,5,2,2,5,1,0,0,1\\n0,0,1,3,2,3,6,4,5,7,2,4,11,11,3,8,8,16,5,13,16,5,8,8,6,9,10,10,9,3,3,5,3,5,4,5,3,3,0,1\\n0,1,1,2,2,5,1,7,4,2,5,5,4,6,6,4,16,11,14,16,14,14,8,17,4,14,13,7,6,3,7,7,5,6,3,4,2,2,1,1\\n0,1,1,1,4,1,6,4,6,3,6,5,6,4,14,13,13,9,12,19,9,10,15,10,9,10,10,7,5,6,8,6,6,4,3,5,2,1,1,1\\n0,0,0,1,4,5,6,3,8,7,9,10,8,6,5,12,15,5,10,5,8,13,18,17,14,9,13,4,10,11,10,8,8,6,5,5,2,0,2,0\\n0,0,1,0,3,2,5,4,8,2,9,3,3,10,12,9,14,11,13,8,6,18,11,9,13,11,8,5,5,2,8,5,3,5,4,1,3,1,1,0\\n'}"
            ]
          },
          "metadata": {},
          "execution_count": 4
        }
      ]
    },
    {
      "cell_type": "markdown",
      "source": [
        "Ok and now let's load that csv file into `NumPy` like this:"
      ],
      "metadata": {
        "id": "xH7zXNulL4os"
      }
    },
    {
      "cell_type": "code",
      "source": [
        "numpy.loadtxt(fname='inflammation-01.csv', delimiter=',')"
      ],
      "metadata": {
        "colab": {
          "base_uri": "https://localhost:8080/"
        },
        "id": "eX_3e5K0LLjW",
        "outputId": "0f3b8a5a-440b-4d53-bc7b-8ab858e40ac2"
      },
      "execution_count": 16,
      "outputs": [
        {
          "output_type": "execute_result",
          "data": {
            "text/plain": [
              "array([[0., 0., 1., ..., 3., 0., 0.],\n",
              "       [0., 1., 2., ..., 1., 0., 1.],\n",
              "       [0., 1., 1., ..., 2., 1., 1.],\n",
              "       ...,\n",
              "       [0., 1., 1., ..., 1., 1., 1.],\n",
              "       [0., 0., 0., ..., 0., 2., 0.],\n",
              "       [0., 0., 1., ..., 1., 1., 0.]])"
            ]
          },
          "metadata": {},
          "execution_count": 16
        }
      ]
    },
    {
      "cell_type": "markdown",
      "source": [
        "The expression `numpy.loadtxt(...)` is a function call that asks Python to run the function loadtxt which belongs to the numpy library. The dot notation in Python is used most of all as an object attribute/property specifier or for invoking its method. `object.property` will give you the `object.property` value, `object_name.method()` will invoke on object_name method.  We'll dive more into this in a bit.\n",
        "\n",
        "`numpy.loadtxt` has two parameters: the name of the file we want to read and the delimiter that separates values on a line. These both need to be character strings (or strings for short), so we put them in quotes.\n",
        "\n",
        "Since we haven’t told it to do anything else with the function’s output, the notebook displays it. In this case, that output is the data we just loaded. By default, only a few rows and columns are shown (with ... to omit elements when displaying big arrays). Note that, to save space when displaying `NumPy` arrays, Python does not show us trailing zeros, so 1.0 becomes 1..\n",
        "\n",
        "Our call to `numpy.loadtxt` read our file but didn’t save the data in memory. To do that, we need to assign the array to a variable. In a similar manner to how we assign a single value to a variable, we can also assign an array of values to a variable using the same syntax. Let’s re-run `numpy.loadtxt` and save the returned data:"
      ],
      "metadata": {
        "id": "cLkH8jkEL0ev"
      }
    },
    {
      "cell_type": "code",
      "source": [
        "data = numpy.loadtxt(fname='inflammation-01.csv', delimiter=',')"
      ],
      "metadata": {
        "id": "fFN8N6kgLVN1"
      },
      "execution_count": 17,
      "outputs": []
    },
    {
      "cell_type": "markdown",
      "source": [
        "\n",
        "This statement doesn’t produce any output because we’ve assigned the output to the variable `data`. If we want to check that the data have been loaded, we can print the variable’s value:"
      ],
      "metadata": {
        "id": "A4aO8XblMmE6"
      }
    },
    {
      "cell_type": "code",
      "source": [
        "print(data)"
      ],
      "metadata": {
        "colab": {
          "base_uri": "https://localhost:8080/"
        },
        "id": "sgO4k73nMlOs",
        "outputId": "9268656c-ebb7-4e49-ddf8-977e4d56d8b2"
      },
      "execution_count": 18,
      "outputs": [
        {
          "output_type": "stream",
          "name": "stdout",
          "text": [
            "[[0. 0. 1. ... 3. 0. 0.]\n",
            " [0. 1. 2. ... 1. 0. 1.]\n",
            " [0. 1. 1. ... 2. 1. 1.]\n",
            " ...\n",
            " [0. 1. 1. ... 1. 1. 1.]\n",
            " [0. 0. 0. ... 0. 2. 0.]\n",
            " [0. 0. 1. ... 1. 1. 0.]]\n"
          ]
        }
      ]
    },
    {
      "cell_type": "markdown",
      "source": [
        "Now that the data are in memory, we can manipulate them. First, let’s ask what `type` of thing data refers to:\n",
        "\n"
      ],
      "metadata": {
        "id": "M2rxAOWDMyLU"
      }
    },
    {
      "cell_type": "code",
      "source": [
        "print(type(data))"
      ],
      "metadata": {
        "colab": {
          "base_uri": "https://localhost:8080/"
        },
        "id": "c-xedxYaMvjC",
        "outputId": "4285311d-ccef-49f6-ed0b-fde2843b550d"
      },
      "execution_count": 19,
      "outputs": [
        {
          "output_type": "stream",
          "name": "stdout",
          "text": [
            "<class 'numpy.ndarray'>\n"
          ]
        }
      ]
    },
    {
      "cell_type": "markdown",
      "source": [
        "The output tells us that `data` currently refers to an N-dimensional array, the functionality for which is provided by the `NumPy` library. These data correspond to arthritis patients’ inflammation. The rows are the individual patients, and the columns are their daily inflammation measurements.\n",
        "\n",
        "Just a note:\n",
        "\n",
        "A Numpy array contains one or more elements of the same type. The `type` function will only tell you that a variable is a NumPy array but won’t tell you the type of thing inside the array. We can find out the type of the data contained in the NumPy array."
      ],
      "metadata": {
        "id": "wC6xCnAuM6uQ"
      }
    },
    {
      "cell_type": "code",
      "source": [
        "print(data.dtype)"
      ],
      "metadata": {
        "colab": {
          "base_uri": "https://localhost:8080/"
        },
        "id": "kJXwVFkhM2Y4",
        "outputId": "2e803768-854b-4b61-e026-c3b78966b6cf"
      },
      "execution_count": 20,
      "outputs": [
        {
          "output_type": "stream",
          "name": "stdout",
          "text": [
            "float64\n"
          ]
        }
      ]
    },
    {
      "cell_type": "markdown",
      "source": [
        "This tells us that the NumPy array’s elements are floating-point numbers.  And with the following command, we can see the array’s shape:"
      ],
      "metadata": {
        "id": "EOFnR2wBNUGq"
      }
    },
    {
      "cell_type": "code",
      "source": [
        "print(data.shape)"
      ],
      "metadata": {
        "colab": {
          "base_uri": "https://localhost:8080/"
        },
        "id": "R06KJTHpNRh-",
        "outputId": "126eb9f0-f371-44a1-85e0-4fac507304fa"
      },
      "execution_count": 21,
      "outputs": [
        {
          "output_type": "stream",
          "name": "stdout",
          "text": [
            "(60, 40)\n"
          ]
        }
      ]
    },
    {
      "cell_type": "markdown",
      "source": [
        "### Attributes\n",
        "\n",
        "The output tells us that the `data` array variable contains 60 rows and 40 columns. When we created the variable `data` to store our arthritis data, we did not only create the array; we also created information about the array, called members or attributes. This extra information describes `data` in the same way an adjective describes a noun. `data.shape` is an attribute of `data` which describes the dimensions of data. We use the same dotted notation for the attributes of variables that we use for the functions in libraries because they have the same part-and-whole relationship.\n",
        "\n",
        "\n",
        "### Indexing\n",
        "\n",
        "If we want to get a single number from the array, we must provide an index in square brackets after the variable name, just as we do in math when referring to an element of a matrix. Our inflammation data has two dimensions, so we will need to use two indices to refer to one specific value:"
      ],
      "metadata": {
        "id": "-r4rN4H7NmZp"
      }
    },
    {
      "cell_type": "code",
      "source": [
        "print('first value in data:', data[0, 0])"
      ],
      "metadata": {
        "colab": {
          "base_uri": "https://localhost:8080/"
        },
        "id": "D9aallfYNc7C",
        "outputId": "91b35f23-aed1-4b50-cca9-4875c3442bc1"
      },
      "execution_count": 22,
      "outputs": [
        {
          "output_type": "stream",
          "name": "stdout",
          "text": [
            "first value in data: 0.0\n"
          ]
        }
      ]
    },
    {
      "cell_type": "code",
      "source": [
        "print('middle value in data:', data[29, 19])"
      ],
      "metadata": {
        "colab": {
          "base_uri": "https://localhost:8080/"
        },
        "id": "iHQZE6sYQGFc",
        "outputId": "d0a3a941-659d-4ff1-c693-1f9cc8f99829"
      },
      "execution_count": 23,
      "outputs": [
        {
          "output_type": "stream",
          "name": "stdout",
          "text": [
            "middle value in data: 16.0\n"
          ]
        }
      ]
    },
    {
      "cell_type": "markdown",
      "source": [
        "Ok now that may seem weird. The expression `data[29, 19]` accesses the element at row 30, column 20. Programming languages like Fortran, MATLAB and R start counting at 1 because that’s what human beings have done for thousands of years. Languages in the C family (including C++, Java, Perl, and Python) count from 0 because it represents an offset from the first value in the array (the second value is offset by one index from the first value).\n",
        "\n",
        "This is closer to the way that computers represent arrays (if you are interested in the historical reasons behind counting indices from zero, you can read [Mike Hoye’s blog post](https://exple.tive.org/blarg/2013/10/22/citation-needed/)). As a result, if we have an M×N array in Python, its indices go from 0 to M-1 on the first axis and 0 to N-1 on the second. It takes a bit of getting used to, but one way to remember the rule is that the index is how many steps we have to take from the start to get the item we want.\n"
      ],
      "metadata": {
        "id": "RR-1PSOmQaYk"
      }
    },
    {
      "cell_type": "markdown",
      "source": [
        "\n",
        "<p align=\"center\">\n",
        "  <img src=\"\n",
        "https://swcarpentry.github.io/python-novice-inflammation/fig/python-zero-index.svg\" width=\"950\" />\n",
        "</p>\n"
      ],
      "metadata": {
        "id": "PBWCD3gsVfx8"
      }
    },
    {
      "cell_type": "markdown",
      "source": [
        "## Slicing data\n",
        "\n",
        "An index like [30, 20] selects a single element of an array, but we can select whole sections as well.  These operations are crucial when working with data.\n",
        "\n",
        " For example, we can select the first ten days (columns) of values for the first four patients (rows) like this:"
      ],
      "metadata": {
        "id": "X9-xYypEVvSa"
      }
    },
    {
      "cell_type": "code",
      "source": [
        "print(data[0:4, 0:10])"
      ],
      "metadata": {
        "colab": {
          "base_uri": "https://localhost:8080/"
        },
        "id": "hVnzqByBVRyu",
        "outputId": "b4612e7a-f60c-44ad-defe-59058c28cb07"
      },
      "execution_count": 24,
      "outputs": [
        {
          "output_type": "stream",
          "name": "stdout",
          "text": [
            "[[0. 0. 1. 3. 1. 2. 4. 7. 8. 3.]\n",
            " [0. 1. 2. 1. 2. 1. 3. 2. 2. 6.]\n",
            " [0. 1. 1. 3. 3. 2. 6. 2. 5. 9.]\n",
            " [0. 0. 2. 0. 4. 2. 2. 1. 6. 7.]]\n"
          ]
        }
      ]
    },
    {
      "cell_type": "markdown",
      "source": [
        "The slice 0:4 means, “Start at index 0 and go up to, but not including, index 4”. Again, the up-to-but-not-including takes a bit of getting used to, but the rule is that the difference between the upper and lower bounds is the number of values in the slice.\n",
        "\n",
        "We don’t have to start slices at 0:"
      ],
      "metadata": {
        "id": "loRG2QYyWEaG"
      }
    },
    {
      "cell_type": "code",
      "source": [
        "print(data[5:10, 0:10])"
      ],
      "metadata": {
        "colab": {
          "base_uri": "https://localhost:8080/"
        },
        "id": "nh79taZkWBgt",
        "outputId": "0f51ce86-4759-47b5-be06-468d06ff6ece"
      },
      "execution_count": 25,
      "outputs": [
        {
          "output_type": "stream",
          "name": "stdout",
          "text": [
            "[[0. 0. 1. 2. 2. 4. 2. 1. 6. 4.]\n",
            " [0. 0. 2. 2. 4. 2. 2. 5. 5. 8.]\n",
            " [0. 0. 1. 2. 3. 1. 2. 3. 5. 3.]\n",
            " [0. 0. 0. 3. 1. 5. 6. 5. 5. 8.]\n",
            " [0. 1. 1. 2. 1. 3. 5. 3. 5. 8.]]\n"
          ]
        }
      ]
    },
    {
      "cell_type": "markdown",
      "source": [
        "We also don’t have to include the upper and lower bound on the slice. If we don’t include the lower bound, Python uses 0 by default; if we don’t include the upper, the slice runs to the end of the axis, and if we don’t include either (i.e., if we use `:` on its own), the slice includes everything:"
      ],
      "metadata": {
        "id": "rDviOF5rjdJ_"
      }
    },
    {
      "cell_type": "code",
      "source": [
        "small = data[:3, 36:]\n",
        "print('small is:')\n",
        "print(small)"
      ],
      "metadata": {
        "id": "Keyv9zcHjWI7",
        "outputId": "ab91cbb5-a485-4220-a853-f3a159b539db",
        "colab": {
          "base_uri": "https://localhost:8080/"
        }
      },
      "execution_count": 26,
      "outputs": [
        {
          "output_type": "stream",
          "name": "stdout",
          "text": [
            "small is:\n",
            "[[2. 3. 0. 0.]\n",
            " [1. 1. 0. 1.]\n",
            " [2. 2. 1. 1.]]\n"
          ]
        }
      ]
    },
    {
      "cell_type": "markdown",
      "source": [
        "The above example selects rows 0 through 2 and columns 36 through to the end of the array."
      ],
      "metadata": {
        "id": "33NIf7oLjoYt"
      }
    },
    {
      "cell_type": "markdown",
      "source": [
        "## Analyzing data\n",
        "\n",
        "---\n",
        "\n"
      ],
      "metadata": {
        "id": "F8V87IIBjq8r"
      }
    },
    {
      "cell_type": "markdown",
      "source": [
        "NumPy has several useful functions that take an array as input to perform operations on its values. If we want to find the average inflammation for all patients on all days, for example, we can ask NumPy to compute data’s mean value:"
      ],
      "metadata": {
        "id": "PAwa1vijjwWh"
      }
    },
    {
      "cell_type": "code",
      "source": [
        "print(numpy.mean(data))"
      ],
      "metadata": {
        "id": "6ws-n-t4jmB0",
        "outputId": "534d3d4f-8171-4511-939f-3f50a71dd606",
        "colab": {
          "base_uri": "https://localhost:8080/"
        }
      },
      "execution_count": 27,
      "outputs": [
        {
          "output_type": "stream",
          "name": "stdout",
          "text": [
            "6.14875\n"
          ]
        }
      ]
    },
    {
      "cell_type": "markdown",
      "source": [
        "`mean` is a function that takes an array as an argument."
      ],
      "metadata": {
        "id": "cqD9V5iFj10p"
      }
    },
    {
      "cell_type": "markdown",
      "source": [
        "\n",
        "\n",
        "---\n",
        "\n",
        "\n",
        "\n",
        "### FYI\n",
        "\n",
        "\n",
        "\n",
        "\n",
        "Generally, a function uses inputs to produce outputs. However, some functions produce outputs without needing any input. For example, checking the current time doesn’t require any input.\n",
        "\n"
      ],
      "metadata": {
        "id": "JleIMAArkByn"
      }
    },
    {
      "cell_type": "code",
      "source": [
        "import time\n",
        "print(time.ctime())"
      ],
      "metadata": {
        "id": "csiuh4xzjzLV"
      },
      "execution_count": null,
      "outputs": []
    },
    {
      "cell_type": "markdown",
      "source": [
        "For functions that don’t take in any arguments, we still need parentheses `()` to tell Python to go and do something for us.\n",
        "\n",
        "\n",
        "---\n",
        "\n"
      ],
      "metadata": {
        "id": "COKOzTWjkH-T"
      }
    },
    {
      "cell_type": "markdown",
      "source": [
        "Let’s use three other NumPy functions to get some descriptive values about the dataset. We’ll also use multiple assignment, a convenient Python feature that will enable us to do this all in one line.\n",
        "\n",
        "\n",
        "\n"
      ],
      "metadata": {
        "id": "kmO-Q4uukNBg"
      }
    },
    {
      "cell_type": "code",
      "source": [
        "maxval, minval, stdval = numpy.amax(data), numpy.amin(data), numpy.std(data)\n",
        "\n",
        "print('maximum inflammation:', maxval)\n",
        "print('minimum inflammation:', minval)\n",
        "print('standard deviation:', stdval)"
      ],
      "metadata": {
        "id": "VBe81lUVkIOe",
        "outputId": "d6297854-bf02-4252-882f-bacdddf09d3b",
        "colab": {
          "base_uri": "https://localhost:8080/"
        }
      },
      "execution_count": 28,
      "outputs": [
        {
          "output_type": "stream",
          "name": "stdout",
          "text": [
            "maximum inflammation: 20.0\n",
            "minimum inflammation: 0.0\n",
            "standard deviation: 4.613833197118566\n"
          ]
        }
      ]
    },
    {
      "cell_type": "markdown",
      "source": [
        "Here we’ve assigned the return value from `numpy.amax(data)` to the variable `maxval`, the value from `numpy.amin(data)` to `minval`, and so on."
      ],
      "metadata": {
        "id": "TF63HKMFkwxn"
      }
    },
    {
      "cell_type": "markdown",
      "source": [
        "\n",
        "\n",
        "---\n",
        "\n",
        "\n",
        "### More FYI\n",
        "\n",
        "How did we know what functions NumPy has and how to use them? If you are working in IPython or in a Jupyter Notebook, there is an easy way to find out. If you type the name of something followed by a dot, then you can use tab completion (e.g. type numpy. and then press `Tab`) to see a list of all functions and attributes that you can use. After selecting one, you can also add a question mark (e.g. `numpy.cumprod?`), and IPython will return an explanation of the method! This is the same as doing help(`numpy.cumprod`). Similarly, if you are using the “plain vanilla” Python interpreter, you can type `numpy.` and press the `Tab` key twice for a listing of what is available. You can then use the help`()` function to see an explanation of the function you’re interested in, for example: `help(numpy.cumprod)`.\n",
        "\n",
        "\n",
        "---\n",
        "\n"
      ],
      "metadata": {
        "id": "3pYofliUk9v7"
      }
    },
    {
      "cell_type": "markdown",
      "source": [
        "When analyzing data, though, we often want to look at variations in statistical values, such as the maximum inflammation per patient or the average inflammation per day. One way to do this is to create a new temporary array of the data we want, then ask it to do the calculation:\n",
        "\n"
      ],
      "metadata": {
        "id": "R3LPs0DtlpB9"
      }
    },
    {
      "cell_type": "code",
      "source": [
        "patient_0 = data[0, :] # 0 on the first axis (rows), everything on the second (columns)\n",
        "print('maximum inflammation for patient 0:', numpy.amax(patient_0))"
      ],
      "metadata": {
        "id": "ivY7yktXkuG6",
        "outputId": "f77c08b0-ec92-4592-e777-f94e7f88a1b6",
        "colab": {
          "base_uri": "https://localhost:8080/"
        }
      },
      "execution_count": 29,
      "outputs": [
        {
          "output_type": "stream",
          "name": "stdout",
          "text": [
            "maximum inflammation for patient 0: 18.0\n"
          ]
        }
      ]
    },
    {
      "cell_type": "markdown",
      "source": [
        "We don’t actually need to store the row in a variable of its own. Instead, we can combine the selection and the function call:"
      ],
      "metadata": {
        "id": "45MrPcWsl7dB"
      }
    },
    {
      "cell_type": "code",
      "source": [
        "print('maximum inflammation for patient 2:', numpy.amax(data[2, :]))"
      ],
      "metadata": {
        "id": "IYvVXsRKl2xg",
        "outputId": "fee1fc7d-1ea6-4b4b-9f72-b1f603e4d6c5",
        "colab": {
          "base_uri": "https://localhost:8080/"
        }
      },
      "execution_count": 30,
      "outputs": [
        {
          "output_type": "stream",
          "name": "stdout",
          "text": [
            "maximum inflammation for patient 2: 19.0\n"
          ]
        }
      ]
    },
    {
      "cell_type": "markdown",
      "source": [
        "What if we need the maximum inflammation for each patient over all days (as in the next diagram on the left) or the average for each day (as in the diagram on the right)? As the diagram below shows, we want to perform the operation across an axis:"
      ],
      "metadata": {
        "id": "azxI6YBkmBu4"
      }
    },
    {
      "cell_type": "markdown",
      "source": [
        "\n",
        "<p align=\"center\">\n",
        "  <img src=\"\n",
        "https://swcarpentry.github.io/python-novice-inflammation/fig/python-operations-across-axes.png\" width=\"950\" />\n",
        "</p>\n"
      ],
      "metadata": {
        "id": "uCoO9MiEmJEJ"
      }
    },
    {
      "cell_type": "markdown",
      "source": [
        "To support this functionality, most array functions allow us to specify the axis we want to work on. If we ask for the average across axis 0 (rows in our 2D example), we get:"
      ],
      "metadata": {
        "id": "sCGDfdgrmSkC"
      }
    },
    {
      "cell_type": "code",
      "source": [
        "print(numpy.mean(data, axis=0))"
      ],
      "metadata": {
        "id": "VQOx1y6Vl-UM",
        "outputId": "5d048ffa-7df3-477c-dbdb-17863597d4ef",
        "colab": {
          "base_uri": "https://localhost:8080/"
        }
      },
      "execution_count": 31,
      "outputs": [
        {
          "output_type": "stream",
          "name": "stdout",
          "text": [
            "[ 0.          0.45        1.11666667  1.75        2.43333333  3.15\n",
            "  3.8         3.88333333  5.23333333  5.51666667  5.95        5.9\n",
            "  8.35        7.73333333  8.36666667  9.5         9.58333333 10.63333333\n",
            " 11.56666667 12.35       13.25       11.96666667 11.03333333 10.16666667\n",
            " 10.          8.66666667  9.15        7.25        7.33333333  6.58333333\n",
            "  6.06666667  5.95        5.11666667  3.6         3.3         3.56666667\n",
            "  2.48333333  1.5         1.13333333  0.56666667]\n"
          ]
        }
      ]
    },
    {
      "cell_type": "markdown",
      "source": [
        "As a quick check, we can ask this array what its shape is:"
      ],
      "metadata": {
        "id": "NzDHjx2UmW2k"
      }
    },
    {
      "cell_type": "code",
      "source": [
        "print(numpy.mean(data, axis=0).shape)"
      ],
      "metadata": {
        "id": "18hZzoPCmVCs",
        "outputId": "90a986cd-0f45-45e6-be45-5914629dbedc",
        "colab": {
          "base_uri": "https://localhost:8080/"
        }
      },
      "execution_count": 32,
      "outputs": [
        {
          "output_type": "stream",
          "name": "stdout",
          "text": [
            "(40,)\n"
          ]
        }
      ]
    },
    {
      "cell_type": "markdown",
      "source": [
        "The expression (40,) tells us we have an N×1 vector, so this is the average inflammation per day for all patients. If we average across axis 1 (columns in our 2D example), we get:"
      ],
      "metadata": {
        "id": "3mChefo0mcDk"
      }
    },
    {
      "cell_type": "code",
      "source": [
        "print(numpy.mean(data, axis=1))"
      ],
      "metadata": {
        "id": "96NJCFQHmZJz",
        "outputId": "5a0fb803-af16-4e5a-c38b-82ae4d0377e8",
        "colab": {
          "base_uri": "https://localhost:8080/"
        }
      },
      "execution_count": 33,
      "outputs": [
        {
          "output_type": "stream",
          "name": "stdout",
          "text": [
            "[5.45  5.425 6.1   5.9   5.55  6.225 5.975 6.65  6.625 6.525 6.775 5.8\n",
            " 6.225 5.75  5.225 6.3   6.55  5.7   5.85  6.55  5.775 5.825 6.175 6.1\n",
            " 5.8   6.425 6.05  6.025 6.175 6.55  6.175 6.35  6.725 6.125 7.075 5.725\n",
            " 5.925 6.15  6.075 5.75  5.975 5.725 6.3   5.9   6.75  5.925 7.225 6.15\n",
            " 5.95  6.275 5.7   6.1   6.825 5.975 6.725 5.7   6.25  6.4   7.05  5.9  ]\n"
          ]
        }
      ]
    },
    {
      "cell_type": "markdown",
      "source": [
        "which is the average inflammation per patient across all days."
      ],
      "metadata": {
        "id": "4anTVUCWmiZY"
      }
    },
    {
      "cell_type": "markdown",
      "source": [
        "### Check your understanding"
      ],
      "metadata": {
        "id": "wLyd73stmsQZ"
      }
    },
    {
      "cell_type": "markdown",
      "source": [
        "A section of an array is called a slice. We can take slices of character strings as well..."
      ],
      "metadata": {
        "id": "qWrZrX2Dm5g_"
      }
    },
    {
      "cell_type": "code",
      "source": [
        "element = 'oxygen'\n",
        "print('first three characters:', element[0:3])\n",
        "print('last three characters:', element[3:6])"
      ],
      "metadata": {
        "id": "r3azFhuPmf_I",
        "outputId": "c9bf1188-69ad-425d-c9e0-39830faef56e",
        "colab": {
          "base_uri": "https://localhost:8080/"
        }
      },
      "execution_count": 34,
      "outputs": [
        {
          "output_type": "stream",
          "name": "stdout",
          "text": [
            "first three characters: oxy\n",
            "last three characters: gen\n"
          ]
        }
      ]
    },
    {
      "cell_type": "markdown",
      "source": [
        "1. What is the value of `element[:4]`? What about `element[4:]`? Or `element[:]`?"
      ],
      "metadata": {
        "id": "egQJcmIfm-3x"
      }
    },
    {
      "cell_type": "markdown",
      "source": [
        "2. How about this one?? What is `element[-1]`? What is `element[-2]`?"
      ],
      "metadata": {
        "id": "unGhOBTAnJDm"
      }
    },
    {
      "cell_type": "markdown",
      "source": [
        "3. Given those answers, explain what `element[1:-1]` does"
      ],
      "metadata": {
        "id": "QTG4iknHnVHK"
      }
    },
    {
      "cell_type": "markdown",
      "source": [
        "4. How can we rewrite the slice for getting the last three characters of element, so that it works even if we assign a different string to `element`? Test your solution with the following strings: `'carpentry'`, `'clone'`, `'hi'`."
      ],
      "metadata": {
        "id": "0s7Vky76ncwO"
      }
    },
    {
      "cell_type": "markdown",
      "source": [
        "5. The expression `element[3:3]` produces an empty string, i.e., a string that contains no characters. If data holds our array of patient data, what does `data[3:3, 4:4]` produce? What about `data[3:3, :]`?"
      ],
      "metadata": {
        "id": "GZK-arcDnoZj"
      }
    },
    {
      "cell_type": "markdown",
      "source": [
        "### Try some more\n",
        "\n",
        "The patient data is longitudinal in the sense that each row represents a series of observations relating to one individual. This means that the change in inflammation over time is a meaningful concept. Let’s find out how to calculate changes in the data contained in an array with NumPy.\n",
        "\n",
        "The `numpy.diff()` function takes an array and returns the differences between two successive values. Let’s use it to examine the changes each day across the first week of patient 3 from our inflammation dataset."
      ],
      "metadata": {
        "id": "vj_F5FHvMzP4"
      }
    },
    {
      "cell_type": "code",
      "source": [
        "patient3_week1 = data[3, :7]\n",
        "print(patient3_week1)\n",
        "numpy.diff(patient3_week1)"
      ],
      "metadata": {
        "id": "4IrRACaRm-Ho"
      },
      "execution_count": null,
      "outputs": []
    },
    {
      "cell_type": "markdown",
      "source": [
        "\n",
        "Calling `numpy.diff(patient3_week1)` would do the following calculations and return the 6 difference values in a new array.\n",
        "\n",
        "Note that the array of differences is shorter by one element (length 6).\n",
        "\n",
        "When calling numpy.diff with a multi-dimensional array, an axis argument may be passed to the function to specify which axis to process. When applying numpy.diff to our 2D inflammation array data, which axis would we specify?"
      ],
      "metadata": {
        "id": "lBI455QqM36x"
      }
    },
    {
      "cell_type": "markdown",
      "source": [
        "If the shape of an individual data file is (60, 40) (60 rows and 40 columns), what would the shape of the array be after you run the `diff()` function and why?"
      ],
      "metadata": {
        "id": "1tAojQF2ncQx"
      }
    },
    {
      "cell_type": "markdown",
      "source": [
        "How would you find the largest change in inflammation for each patient? Does it matter if the change in inflammation is an increase or a decrease?"
      ],
      "metadata": {
        "id": "ZRgeB2bBNWho"
      }
    },
    {
      "cell_type": "markdown",
      "source": [
        "### Key points:\n",
        "\n",
        "- Import a library into a program using `import libraryname`.\n",
        "- Use the numpy library to work with arrays in Python.\n",
        "- The expression `array.shape` gives the shape of an array.\n",
        "- Use `array[x, y]` to select a single element from a 2D array.\n",
        "- Array indices start at 0, not 1.\n",
        "- Use `low:high` to specify a slice that includes the indices from low to high-1.\n",
        "- Use `#` some kind of explanation to add comments to programs.\n",
        "- Use `numpy.mean(array)`, `numpy.amax(array)`, and `numpy.amin(array)` to calculate simple statistics.\n",
        "- Use `numpy.mean(array, axis=0)` or `numpy.mean(array, axis=1)` to calculate statistics across the specified axis."
      ],
      "metadata": {
        "id": "5qdCYBroNgWk"
      }
    },
    {
      "cell_type": "code",
      "source": [],
      "metadata": {
        "id": "aPM4d6ZVN3FX"
      },
      "execution_count": null,
      "outputs": []
    }
  ]
}