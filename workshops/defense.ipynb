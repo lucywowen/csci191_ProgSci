{
  "nbformat": 4,
  "nbformat_minor": 0,
  "metadata": {
    "colab": {
      "provenance": [],
      "authorship_tag": "ABX9TyPX9Rr9mZeeMNHjvgjAyM/M",
      "include_colab_link": true
    },
    "kernelspec": {
      "name": "python3",
      "display_name": "Python 3"
    },
    "language_info": {
      "name": "python"
    }
  },
  "cells": [
    {
      "cell_type": "markdown",
      "metadata": {
        "id": "view-in-github",
        "colab_type": "text"
      },
      "source": [
        "<a href=\"https://colab.research.google.com/github/lucywowen/csci191_ProgSci/blob/main/workshops/defense.ipynb\" target=\"_parent\"><img src=\"https://colab.research.google.com/assets/colab-badge.svg\" alt=\"Open In Colab\"/></a>"
      ]
    },
    {
      "cell_type": "markdown",
      "source": [
        "# Defensive programming\n",
        "\n",
        "Our previous lessons have introduced the basic tools of programming: variables and lists, file I/O, loops, conditionals, and functions. What they haven’t done is show us how to tell whether a program is getting the right answer, and how to tell if it’s still getting the right answer as we make changes to it.\n",
        "\n",
        "To achieve that, we need to:\n",
        "\n",
        "- Write programs that check their own operation.\n",
        "- Write and run tests for widely-used functions.\n",
        "- Make sure we know what “correct” actually means.\n",
        "\n",
        "The good news is, doing these things will speed up our programming, not slow it down. As in real carpentry — the kind done with lumber — the time saved by measuring carefully before cutting a piece of wood is much greater than the time that measuring takes."
      ],
      "metadata": {
        "id": "VHlGJGaV8gZm"
      }
    },
    {
      "cell_type": "markdown",
      "source": [
        "### Assertions\n",
        "\n",
        "The first step toward getting the right answers from our programs is to assume that mistakes will happen and to guard against them. This is called defensive programming, and the most common way to do it is to add assertions to our code so that it checks itself as it runs. An assertion is simply a statement that something must be true at a certain point in a program. When Python sees one, it evaluates the assertion’s condition. If it’s true, Python does nothing, but if it’s false, Python halts the program immediately and prints the error message if one is provided. For example, this piece of code halts as soon as the loop encounters a value that isn’t positive:"
      ],
      "metadata": {
        "id": "TWdqd-gN9DPj"
      }
    },
    {
      "cell_type": "code",
      "execution_count": null,
      "metadata": {
        "colab": {
          "base_uri": "https://localhost:8080/",
          "height": 211
        },
        "id": "jwQHMncG8ZON",
        "outputId": "abaed480-27a1-4ade-a93c-ea81c1d9cb17"
      },
      "outputs": [
        {
          "output_type": "error",
          "ename": "AssertionError",
          "evalue": "Data should only contain positive values",
          "traceback": [
            "\u001b[0;31m---------------------------------------------------------------------------\u001b[0m",
            "\u001b[0;31mAssertionError\u001b[0m                            Traceback (most recent call last)",
            "\u001b[0;32m/tmp/ipython-input-2763634290.py\u001b[0m in \u001b[0;36m<cell line: 0>\u001b[0;34m()\u001b[0m\n\u001b[1;32m      2\u001b[0m \u001b[0mtotal\u001b[0m \u001b[0;34m=\u001b[0m \u001b[0;36m0.0\u001b[0m\u001b[0;34m\u001b[0m\u001b[0;34m\u001b[0m\u001b[0m\n\u001b[1;32m      3\u001b[0m \u001b[0;32mfor\u001b[0m \u001b[0mnum\u001b[0m \u001b[0;32min\u001b[0m \u001b[0mnumbers\u001b[0m\u001b[0;34m:\u001b[0m\u001b[0;34m\u001b[0m\u001b[0;34m\u001b[0m\u001b[0m\n\u001b[0;32m----> 4\u001b[0;31m     \u001b[0;32massert\u001b[0m \u001b[0mnum\u001b[0m \u001b[0;34m>\u001b[0m \u001b[0;36m0.0\u001b[0m\u001b[0;34m,\u001b[0m \u001b[0;34m'Data should only contain positive values'\u001b[0m\u001b[0;34m\u001b[0m\u001b[0;34m\u001b[0m\u001b[0m\n\u001b[0m\u001b[1;32m      5\u001b[0m     \u001b[0mtotal\u001b[0m \u001b[0;34m+=\u001b[0m \u001b[0mnum\u001b[0m\u001b[0;34m\u001b[0m\u001b[0;34m\u001b[0m\u001b[0m\n\u001b[1;32m      6\u001b[0m \u001b[0mprint\u001b[0m\u001b[0;34m(\u001b[0m\u001b[0;34m'total is:'\u001b[0m\u001b[0;34m,\u001b[0m \u001b[0mtotal\u001b[0m\u001b[0;34m)\u001b[0m\u001b[0;34m\u001b[0m\u001b[0;34m\u001b[0m\u001b[0m\n",
            "\u001b[0;31mAssertionError\u001b[0m: Data should only contain positive values"
          ]
        }
      ],
      "source": [
        "numbers = [1.5, 2.3, 0.7, -0.001, 4.4]\n",
        "total = 0.0\n",
        "for num in numbers:\n",
        "    assert num > 0.0, 'Data should only contain positive values'\n",
        "    total += num\n",
        "print('total is:', total)\n"
      ]
    },
    {
      "cell_type": "markdown",
      "source": [
        "Programs like the Firefox browser are full of assertions: 10-20% of the code they contain are there to check that the other 80–90% are working correctly. Broadly speaking, assertions fall into three categories:\n",
        "\n",
        "- A **precondition** is something that must be true at the start of a function in order for it to work correctly.\n",
        "\n",
        "- A **postcondition** is something that the function guarantees is true when it finishes.\n",
        "\n",
        "- An **invariant** is something that is always true at a particular point inside a piece of code.\n",
        "\n",
        "For example, suppose we are representing rectangles using a tuple of four coordinates `(x0, y0, x1, y1)`, representing the lower left and upper right corners of the rectangle. In order to do some calculations, we need to normalize the rectangle so that the lower left corner is at the origin and the longest side is 1.0 units long. This function does that, but checks that its input is correctly formatted and that its result makes sense:"
      ],
      "metadata": {
        "id": "PuwNmw9W9aXF"
      }
    },
    {
      "cell_type": "code",
      "source": [
        "def normalize_rectangle(rect):\n",
        "    \"\"\"Normalizes a rectangle so that it is at the origin and 1.0 units long on its longest axis.\n",
        "    Input should be of the format (x0, y0, x1, y1).\n",
        "    (x0, y0) and (x1, y1) define the lower left and upper right corners\n",
        "    of the rectangle, respectively.\"\"\"\n",
        "    assert len(rect) == 4, 'Rectangles must contain 4 coordinates'\n",
        "    x0, y0, x1, y1 = rect\n",
        "    assert x0 < x1, 'Invalid X coordinates'\n",
        "    assert y0 < y1, 'Invalid Y coordinates'\n",
        "\n",
        "    dx = x1 - x0\n",
        "    dy = y1 - y0\n",
        "    if dx > dy:\n",
        "        scaled = dx / dy\n",
        "        upper_x, upper_y = 1.0, scaled\n",
        "    else:\n",
        "        scaled = dx / dy\n",
        "        upper_x, upper_y = scaled, 1.0\n",
        "\n",
        "    assert 0 < upper_x <= 1.0, 'Calculated upper X coordinate invalid'\n",
        "    assert 0 < upper_y <= 1.0, 'Calculated upper Y coordinate invalid'\n",
        "\n",
        "    return (0, 0, upper_x, upper_y)"
      ],
      "metadata": {
        "id": "6mnLRPs_9NHU"
      },
      "execution_count": null,
      "outputs": []
    },
    {
      "cell_type": "markdown",
      "source": [
        "The preconditions on lines 6, 8, and 9 catch invalid inputs:"
      ],
      "metadata": {
        "id": "GRB7WSjn9smh"
      }
    },
    {
      "cell_type": "code",
      "source": [
        "print(normalize_rectangle( (0.0, 1.0, 2.0) )) # missing the fourth coordinate"
      ],
      "metadata": {
        "id": "wb09G4wI9qSR"
      },
      "execution_count": null,
      "outputs": []
    },
    {
      "cell_type": "code",
      "source": [
        "print(normalize_rectangle( (4.0, 2.0, 1.0, 5.0) )) # X axis inverted"
      ],
      "metadata": {
        "colab": {
          "base_uri": "https://localhost:8080/",
          "height": 141
        },
        "id": "fCX9Sh109vMl",
        "outputId": "ca93f712-6c22-48c1-e34e-f32f56853852"
      },
      "execution_count": null,
      "outputs": [
        {
          "output_type": "error",
          "ename": "NameError",
          "evalue": "name 'normalize_rectangle' is not defined",
          "traceback": [
            "\u001b[0;31m---------------------------------------------------------------------------\u001b[0m",
            "\u001b[0;31mNameError\u001b[0m                                 Traceback (most recent call last)",
            "\u001b[0;32m/tmp/ipython-input-2903430415.py\u001b[0m in \u001b[0;36m<cell line: 0>\u001b[0;34m()\u001b[0m\n\u001b[0;32m----> 1\u001b[0;31m \u001b[0mprint\u001b[0m\u001b[0;34m(\u001b[0m\u001b[0mnormalize_rectangle\u001b[0m\u001b[0;34m(\u001b[0m \u001b[0;34m(\u001b[0m\u001b[0;36m4.0\u001b[0m\u001b[0;34m,\u001b[0m \u001b[0;36m2.0\u001b[0m\u001b[0;34m,\u001b[0m \u001b[0;36m1.0\u001b[0m\u001b[0;34m,\u001b[0m \u001b[0;36m5.0\u001b[0m\u001b[0;34m)\u001b[0m \u001b[0;34m)\u001b[0m\u001b[0;34m)\u001b[0m \u001b[0;31m# X axis inverted\u001b[0m\u001b[0;34m\u001b[0m\u001b[0;34m\u001b[0m\u001b[0m\n\u001b[0m",
            "\u001b[0;31mNameError\u001b[0m: name 'normalize_rectangle' is not defined"
          ]
        }
      ]
    },
    {
      "cell_type": "markdown",
      "source": [
        "The post-conditions on lines 20 and 21 help us catch bugs by telling us when our calculations might have been incorrect. For example, if we normalize a rectangle that is taller than it is wide everything seems OK:"
      ],
      "metadata": {
        "id": "yNOv3O4H9woz"
      }
    },
    {
      "cell_type": "code",
      "source": [
        "print(normalize_rectangle( (0.0, 0.0, 1.0, 5.0) ))"
      ],
      "metadata": {
        "colab": {
          "base_uri": "https://localhost:8080/",
          "height": 141
        },
        "id": "bpeN3UEl99h6",
        "outputId": "f7d4de9a-1fd5-4984-a5e4-1486c5ce933c"
      },
      "execution_count": null,
      "outputs": [
        {
          "output_type": "error",
          "ename": "NameError",
          "evalue": "name 'normalize_rectangle' is not defined",
          "traceback": [
            "\u001b[0;31m---------------------------------------------------------------------------\u001b[0m",
            "\u001b[0;31mNameError\u001b[0m                                 Traceback (most recent call last)",
            "\u001b[0;32m/tmp/ipython-input-80270026.py\u001b[0m in \u001b[0;36m<cell line: 0>\u001b[0;34m()\u001b[0m\n\u001b[0;32m----> 1\u001b[0;31m \u001b[0mprint\u001b[0m\u001b[0;34m(\u001b[0m\u001b[0mnormalize_rectangle\u001b[0m\u001b[0;34m(\u001b[0m \u001b[0;34m(\u001b[0m\u001b[0;36m0.0\u001b[0m\u001b[0;34m,\u001b[0m \u001b[0;36m0.0\u001b[0m\u001b[0;34m,\u001b[0m \u001b[0;36m1.0\u001b[0m\u001b[0;34m,\u001b[0m \u001b[0;36m5.0\u001b[0m\u001b[0;34m)\u001b[0m \u001b[0;34m)\u001b[0m\u001b[0;34m)\u001b[0m\u001b[0;34m\u001b[0m\u001b[0;34m\u001b[0m\u001b[0m\n\u001b[0m",
            "\u001b[0;31mNameError\u001b[0m: name 'normalize_rectangle' is not defined"
          ]
        }
      ]
    },
    {
      "cell_type": "markdown",
      "source": [
        "but if we normalize one that’s wider than it is tall, the assertion is triggered:"
      ],
      "metadata": {
        "id": "vL_5GH9tAfCW"
      }
    },
    {
      "cell_type": "code",
      "source": [
        "print(normalize_rectangle( (0.0, 0.0, 5.0, 1.0) ))"
      ],
      "metadata": {
        "colab": {
          "base_uri": "https://localhost:8080/",
          "height": 141
        },
        "id": "b8fdHH34-E8Z",
        "outputId": "4136143e-6c63-4527-9e3f-ca7c375d8449"
      },
      "execution_count": null,
      "outputs": [
        {
          "output_type": "error",
          "ename": "NameError",
          "evalue": "name 'normalize_rectangle' is not defined",
          "traceback": [
            "\u001b[0;31m---------------------------------------------------------------------------\u001b[0m",
            "\u001b[0;31mNameError\u001b[0m                                 Traceback (most recent call last)",
            "\u001b[0;32m/tmp/ipython-input-1480985380.py\u001b[0m in \u001b[0;36m<cell line: 0>\u001b[0;34m()\u001b[0m\n\u001b[0;32m----> 1\u001b[0;31m \u001b[0mprint\u001b[0m\u001b[0;34m(\u001b[0m\u001b[0mnormalize_rectangle\u001b[0m\u001b[0;34m(\u001b[0m \u001b[0;34m(\u001b[0m\u001b[0;36m0.0\u001b[0m\u001b[0;34m,\u001b[0m \u001b[0;36m0.0\u001b[0m\u001b[0;34m,\u001b[0m \u001b[0;36m5.0\u001b[0m\u001b[0;34m,\u001b[0m \u001b[0;36m1.0\u001b[0m\u001b[0;34m)\u001b[0m \u001b[0;34m)\u001b[0m\u001b[0;34m)\u001b[0m\u001b[0;34m\u001b[0m\u001b[0;34m\u001b[0m\u001b[0m\n\u001b[0m",
            "\u001b[0;31mNameError\u001b[0m: name 'normalize_rectangle' is not defined"
          ]
        }
      ]
    },
    {
      "cell_type": "markdown",
      "source": [
        "\n",
        "Re-reading our function, we realize that line 14 should divide dy by dx rather than dx by dy. In a Jupyter notebook, you can display line numbers by typing `Ctrl+M` followed by `L`. If we had left out the assertion at the end of the function, we would have created and returned something that had the right shape as a valid answer, but wasn’t. Detecting and debugging that would almost certainly have taken more time in the long run than writing the assertion.\n",
        "\n",
        "But assertions aren’t just about catching errors: they also help people understand programs. Each assertion gives the person reading the program a chance to check (consciously or otherwise) that their understanding matches what the code is doing.\n",
        "\n",
        "Most good programmers follow two rules when adding assertions to their code. *The first is, fail early, fail often*. The greater the distance between when and where an error occurs and when it’s noticed, the harder the error will be to debug, so good code catches mistakes as early as possible.\n",
        "\n",
        "The second rule is, *turn bugs into assertions or tests*. Whenever you fix a bug, write an assertion that catches the mistake should you make it again. If you made a mistake in a piece of code, the odds are good that you have made other mistakes nearby, or will make the same mistake (or a related one) the next time you change it. Writing assertions to check that you haven’t regressed (i.e., haven’t re-introduced an old problem) can save a lot of time in the long run, and helps to warn people who are reading the code (including your future self) that this bit is tricky."
      ],
      "metadata": {
        "id": "hVBUni5YB1JQ"
      }
    },
    {
      "cell_type": "code",
      "source": [
        "### Fix the scaled rectangle code and rerun the last error"
      ],
      "metadata": {
        "id": "q2lkiwdMAiCJ"
      },
      "execution_count": null,
      "outputs": []
    },
    {
      "cell_type": "markdown",
      "source": [
        "### Test driven assessment\n",
        "\n",
        "An assertion checks that something is true at a particular point in the program. The next step is to check the overall behavior of a piece of code, i.e., to make sure that it produces the right output when it’s given a particular input. For example, suppose we need to find where two or more time series overlap. The range of each time series is represented as a pair of numbers, which are the time the interval started and ended. The output is the largest range that they all include:\n",
        "\n",
        "<p align=\"center\">\n",
        "  <img src=\"\n",
        "https://swcarpentry.github.io/python-novice-inflammation/fig/python-overlapping-ranges.svg\" width=\"350\" />\n",
        "</p>\n",
        "\n",
        "Most novice programmers would solve this problem like this:\n",
        "\n",
        "- Write a function `range_overlap`.\n",
        "- Call it interactively on two or three different inputs.\n",
        "- If it produces the wrong answer, fix the function and re-run that test.\n",
        "\n",
        "This clearly works — after all, thousands of scientists are doing it right now — but there’s a better way:\n",
        "\n",
        "- Write a short function for each test.\n",
        "- Write a `range_overlap` function that should pass those tests.\n",
        "- If `range_overlap` produces any wrong answers, fix it and re-run the test functions.\n",
        "\n",
        "Writing the tests before writing the function they exercise is called test-driven development (TDD). Its advocates believe it produces better code faster because:\n",
        "\n",
        "- If people write tests after writing the thing to be tested, they are subject to confirmation bias, i.e., they subconsciously write tests to show that their code is correct, rather than to find errors.\n",
        "- Writing tests helps programmers figure out what the function is actually supposed to do.\n",
        "\n",
        "We start by defining an empty function `range_overlap`:\n"
      ],
      "metadata": {
        "id": "cDI63bT5C1hP"
      }
    },
    {
      "cell_type": "code",
      "source": [
        "def range_overlap(ranges):\n",
        "    pass"
      ],
      "metadata": {
        "id": "yOv_U9OdC0qR"
      },
      "execution_count": null,
      "outputs": []
    },
    {
      "cell_type": "markdown",
      "source": [
        "Here are three test statements for `range_overlap`:"
      ],
      "metadata": {
        "id": "qeuah7jeDn_5"
      }
    },
    {
      "cell_type": "code",
      "source": [
        "assert range_overlap([ (0.0, 1.0) ]) == (0.0, 1.0)\n",
        "assert range_overlap([ (2.0, 3.0), (2.0, 4.0) ]) == (2.0, 3.0)\n",
        "assert range_overlap([ (0.0, 1.0), (0.0, 2.0), (-1.0, 1.0) ]) == (0.0, 1.0)"
      ],
      "metadata": {
        "colab": {
          "base_uri": "https://localhost:8080/",
          "height": 176
        },
        "id": "ENTDUb54Dl2L",
        "outputId": "6e588552-caae-4bd6-e5e3-6391d003f58b"
      },
      "execution_count": null,
      "outputs": [
        {
          "output_type": "error",
          "ename": "AssertionError",
          "evalue": "",
          "traceback": [
            "\u001b[0;31m---------------------------------------------------------------------------\u001b[0m",
            "\u001b[0;31mAssertionError\u001b[0m                            Traceback (most recent call last)",
            "\u001b[0;32m/tmp/ipython-input-438813206.py\u001b[0m in \u001b[0;36m<cell line: 0>\u001b[0;34m()\u001b[0m\n\u001b[0;32m----> 1\u001b[0;31m \u001b[0;32massert\u001b[0m \u001b[0mrange_overlap\u001b[0m\u001b[0;34m(\u001b[0m\u001b[0;34m[\u001b[0m \u001b[0;34m(\u001b[0m\u001b[0;36m0.0\u001b[0m\u001b[0;34m,\u001b[0m \u001b[0;36m1.0\u001b[0m\u001b[0;34m)\u001b[0m \u001b[0;34m]\u001b[0m\u001b[0;34m)\u001b[0m \u001b[0;34m==\u001b[0m \u001b[0;34m(\u001b[0m\u001b[0;36m0.0\u001b[0m\u001b[0;34m,\u001b[0m \u001b[0;36m1.0\u001b[0m\u001b[0;34m)\u001b[0m\u001b[0;34m\u001b[0m\u001b[0;34m\u001b[0m\u001b[0m\n\u001b[0m\u001b[1;32m      2\u001b[0m \u001b[0;32massert\u001b[0m \u001b[0mrange_overlap\u001b[0m\u001b[0;34m(\u001b[0m\u001b[0;34m[\u001b[0m \u001b[0;34m(\u001b[0m\u001b[0;36m2.0\u001b[0m\u001b[0;34m,\u001b[0m \u001b[0;36m3.0\u001b[0m\u001b[0;34m)\u001b[0m\u001b[0;34m,\u001b[0m \u001b[0;34m(\u001b[0m\u001b[0;36m2.0\u001b[0m\u001b[0;34m,\u001b[0m \u001b[0;36m4.0\u001b[0m\u001b[0;34m)\u001b[0m \u001b[0;34m]\u001b[0m\u001b[0;34m)\u001b[0m \u001b[0;34m==\u001b[0m \u001b[0;34m(\u001b[0m\u001b[0;36m2.0\u001b[0m\u001b[0;34m,\u001b[0m \u001b[0;36m3.0\u001b[0m\u001b[0;34m)\u001b[0m\u001b[0;34m\u001b[0m\u001b[0;34m\u001b[0m\u001b[0m\n\u001b[1;32m      3\u001b[0m \u001b[0;32massert\u001b[0m \u001b[0mrange_overlap\u001b[0m\u001b[0;34m(\u001b[0m\u001b[0;34m[\u001b[0m \u001b[0;34m(\u001b[0m\u001b[0;36m0.0\u001b[0m\u001b[0;34m,\u001b[0m \u001b[0;36m1.0\u001b[0m\u001b[0;34m)\u001b[0m\u001b[0;34m,\u001b[0m \u001b[0;34m(\u001b[0m\u001b[0;36m0.0\u001b[0m\u001b[0;34m,\u001b[0m \u001b[0;36m2.0\u001b[0m\u001b[0;34m)\u001b[0m\u001b[0;34m,\u001b[0m \u001b[0;34m(\u001b[0m\u001b[0;34m-\u001b[0m\u001b[0;36m1.0\u001b[0m\u001b[0;34m,\u001b[0m \u001b[0;36m1.0\u001b[0m\u001b[0;34m)\u001b[0m \u001b[0;34m]\u001b[0m\u001b[0;34m)\u001b[0m \u001b[0;34m==\u001b[0m \u001b[0;34m(\u001b[0m\u001b[0;36m0.0\u001b[0m\u001b[0;34m,\u001b[0m \u001b[0;36m1.0\u001b[0m\u001b[0;34m)\u001b[0m\u001b[0;34m\u001b[0m\u001b[0;34m\u001b[0m\u001b[0m\n",
            "\u001b[0;31mAssertionError\u001b[0m: "
          ]
        }
      ]
    },
    {
      "cell_type": "markdown",
      "source": [
        "The error is actually reassuring: we haven’t implemented any logic into `range_overlap` yet, so if the tests passed, it would indicate that we’ve written an entirely ineffective test.\n",
        "\n",
        "And as a bonus of writing these tests, we’ve implicitly defined what our input and output look like: we expect a list of pairs as input, and produce a single pair as output.\n",
        "\n",
        "Something important is missing, though. We don’t have any tests for the case where the ranges don’t overlap at all:"
      ],
      "metadata": {
        "id": "K0XgEWtfEAfy"
      }
    },
    {
      "cell_type": "code",
      "source": [
        "assert range_overlap([ (0.0, 1.0), (5.0, 6.0) ]) == ???"
      ],
      "metadata": {
        "id": "yj3cQBFKDrgN",
        "outputId": "60e13233-b123-4d33-c3f6-3aed9109182b",
        "colab": {
          "base_uri": "https://localhost:8080/",
          "height": 106
        }
      },
      "execution_count": null,
      "outputs": [
        {
          "output_type": "error",
          "ename": "SyntaxError",
          "evalue": "invalid syntax (ipython-input-2424491541.py, line 1)",
          "traceback": [
            "\u001b[0;36m  File \u001b[0;32m\"/tmp/ipython-input-2424491541.py\"\u001b[0;36m, line \u001b[0;32m1\u001b[0m\n\u001b[0;31m    assert range_overlap([ (0.0, 1.0), (5.0, 6.0) ]) == ???\u001b[0m\n\u001b[0m                                                        ^\u001b[0m\n\u001b[0;31mSyntaxError\u001b[0m\u001b[0;31m:\u001b[0m invalid syntax\n"
          ]
        }
      ]
    },
    {
      "cell_type": "markdown",
      "source": [
        "What should `range_overlap` do in this case: fail with an error message, produce a special value like `(0.0, 0.0)` to signal that there’s no overlap, or something else? Any actual implementation of the function will do one of these things; writing the tests first helps us figure out which is best before we’re emotionally invested in whatever we happened to write before we realized there was an issue.\n",
        "\n",
        "And what about this case?"
      ],
      "metadata": {
        "id": "14k4i-RHESL1"
      }
    },
    {
      "cell_type": "code",
      "source": [
        "assert range_overlap([ (0.0, 1.0), (1.0, 2.0) ]) == ???"
      ],
      "metadata": {
        "id": "Jc6pm2gJEZKc",
        "outputId": "ee15f713-9d70-4f17-de3e-794758735354",
        "colab": {
          "base_uri": "https://localhost:8080/",
          "height": 106
        }
      },
      "execution_count": null,
      "outputs": [
        {
          "output_type": "error",
          "ename": "SyntaxError",
          "evalue": "invalid syntax (ipython-input-2526981338.py, line 1)",
          "traceback": [
            "\u001b[0;36m  File \u001b[0;32m\"/tmp/ipython-input-2526981338.py\"\u001b[0;36m, line \u001b[0;32m1\u001b[0m\n\u001b[0;31m    assert range_overlap([ (0.0, 1.0), (1.0, 2.0) ]) == ???\u001b[0m\n\u001b[0m                                                        ^\u001b[0m\n\u001b[0;31mSyntaxError\u001b[0m\u001b[0;31m:\u001b[0m invalid syntax\n"
          ]
        }
      ]
    },
    {
      "cell_type": "markdown",
      "source": [
        "Do two segments that touch at their endpoints overlap or not? Mathematicians usually say “yes”, but engineers usually say “no”. The best answer is “whatever is most useful in the rest of our program”, but again, any actual implementation of `range_overlap` is going to do something, and whatever it is ought to be consistent with what it does when there’s no overlap at all.\n",
        "\n",
        "Since we’re planning to use the range this function returns as the X axis in a time series chart, we decide that:\n",
        "\n",
        "1. every overlap has to have non-zero width, and\n",
        "2. we will return the special value None when there’s no overlap.\n",
        "\n",
        "`None` is built into Python, and means “nothing here”. (Other languages often call the equivalent value `null` or `nil`). With that decision made, we can finish writing our last two tests:"
      ],
      "metadata": {
        "id": "mFfgxb1GEeeJ"
      }
    },
    {
      "cell_type": "code",
      "source": [
        "assert range_overlap([ (0.0, 1.0), (5.0, 6.0) ]) == None\n",
        "assert range_overlap([ (0.0, 1.0), (1.0, 2.0) ]) == None"
      ],
      "metadata": {
        "id": "AeThNHV3FGAY"
      },
      "execution_count": null,
      "outputs": []
    },
    {
      "cell_type": "markdown",
      "source": [
        "Ok and we’re now ready to do write our function:"
      ],
      "metadata": {
        "id": "O_6uOVtHEKaa"
      }
    },
    {
      "cell_type": "code",
      "source": [
        "def range_overlap(ranges):\n",
        "    \"\"\"Return common overlap among a set of [left, right] ranges.\"\"\"\n",
        "    max_left = 0.0\n",
        "    min_right = 1.0\n",
        "    for (left, right) in ranges:\n",
        "        max_left = max(max_left, left)\n",
        "        min_right = min(min_right, right)\n",
        "    return (max_left, min_right)"
      ],
      "metadata": {
        "id": "cMkPa1P9FTcn"
      },
      "execution_count": null,
      "outputs": []
    },
    {
      "cell_type": "markdown",
      "source": [
        "Take a moment to think about why we calculate the left endpoint of the overlap as the maximum of the input left endpoints, and the overlap right endpoint as the minimum of the input right endpoints. We’d now like to re-run our tests, but they’re scattered across three different cells. To make running them easier, let’s put them all in a function:"
      ],
      "metadata": {
        "id": "0Efb3RfpFeYO"
      }
    },
    {
      "cell_type": "code",
      "source": [
        "def test_range_overlap():\n",
        "    assert range_overlap([ (0.0, 1.0), (5.0, 6.0) ]) == None\n",
        "    assert range_overlap([ (0.0, 1.0), (1.0, 2.0) ]) == None\n",
        "    assert range_overlap([ (0.0, 1.0),  (0.0, 1.0)]) == (0.0, 1.0)\n",
        "    assert range_overlap([ (2.0, 3.0), (2.0, 4.0) ]) == (2.0, 3.0)\n",
        "    assert range_overlap([ (0.0, 1.0), (0.0, 2.0), (-1.0, 1.0) ]) == (0.0, 1.0)"
      ],
      "metadata": {
        "id": "9eNYzuGRFWdl"
      },
      "execution_count": null,
      "outputs": []
    },
    {
      "cell_type": "markdown",
      "source": [
        "We can now test `range_overlap` with a single function call:"
      ],
      "metadata": {
        "id": "i3bkJSiZGRjn"
      }
    },
    {
      "cell_type": "code",
      "source": [
        "test_range_overlap()"
      ],
      "metadata": {
        "id": "tGYERG7EGZpB"
      },
      "execution_count": null,
      "outputs": []
    },
    {
      "cell_type": "markdown",
      "source": [
        "The first test that was supposed to produce `None` fails, so we know something is wrong with our function. We don’t know whether the other tests passed or failed because Python halted the program as soon as it spotted the first error. Still, some information is better than none, and if we trace the behavior of the function with that input, we realize that we’re initializing `max_left` and `min_right` to `0.0` and `1.0` respectively, regardless of the input values. This violates another important rule of programming: *always initialize from data*."
      ],
      "metadata": {
        "id": "JJq9iXpbGeCO"
      }
    },
    {
      "cell_type": "code",
      "source": [
        "### Try to fix that range_overlap function"
      ],
      "metadata": {
        "id": "_9a6dxS6Gq-X"
      },
      "execution_count": null,
      "outputs": []
    },
    {
      "cell_type": "markdown",
      "source": [
        "### Try a few more:"
      ],
      "metadata": {
        "id": "qpbbUyNRPkhD"
      }
    },
    {
      "cell_type": "markdown",
      "source": [
        "Suppose you are writing a function called `average` that calculates the average of the numbers in a NumPy array. What pre-conditions and post-conditions would you write for it? Compare your answer to your neighbor’s: can you think of a function that will pass your tests but not his/hers or vice versa?\n",
        "\n",
        "\n"
      ],
      "metadata": {
        "id": "TyPZ0zVKPJSl"
      }
    },
    {
      "cell_type": "markdown",
      "source": [
        "Given a sequence of a number of cars, the function `get_total_cars` returns the total number of cars.\n",
        "\n"
      ],
      "metadata": {
        "id": "ow1QVdXtPpAQ"
      }
    },
    {
      "cell_type": "code",
      "source": [
        "get_total_cars([1, 2, 3, 4])"
      ],
      "metadata": {
        "colab": {
          "base_uri": "https://localhost:8080/"
        },
        "id": "8guinpgwHa7t",
        "outputId": "28685a84-94e3-4637-ffae-cd1cf226fb80"
      },
      "execution_count": null,
      "outputs": [
        {
          "output_type": "execute_result",
          "data": {
            "text/plain": [
              "10"
            ]
          },
          "metadata": {},
          "execution_count": 112
        }
      ]
    },
    {
      "cell_type": "code",
      "source": [
        "get_total_cars(['a', 'b', 'c'])"
      ],
      "metadata": {
        "colab": {
          "base_uri": "https://localhost:8080/",
          "height": 263
        },
        "id": "12uTvhjYP5Q5",
        "outputId": "ab8b6d6f-e838-4100-fa91-04c73c86b4d0"
      },
      "execution_count": null,
      "outputs": [
        {
          "output_type": "error",
          "ename": "ValueError",
          "evalue": "invalid literal for int() with base 10: 'a'",
          "traceback": [
            "\u001b[0;31m---------------------------------------------------------------------------\u001b[0m",
            "\u001b[0;31mValueError\u001b[0m                                Traceback (most recent call last)",
            "\u001b[0;32m<ipython-input-111-9d3d385d6ef7>\u001b[0m in \u001b[0;36m<cell line: 0>\u001b[0;34m()\u001b[0m\n\u001b[0;32m----> 1\u001b[0;31m \u001b[0mget_total_cars\u001b[0m\u001b[0;34m(\u001b[0m\u001b[0;34m[\u001b[0m\u001b[0;34m'a'\u001b[0m\u001b[0;34m,\u001b[0m \u001b[0;34m'b'\u001b[0m\u001b[0;34m,\u001b[0m \u001b[0;34m'c'\u001b[0m\u001b[0;34m]\u001b[0m\u001b[0;34m)\u001b[0m\u001b[0;34m\u001b[0m\u001b[0;34m\u001b[0m\u001b[0m\n\u001b[0m",
            "\u001b[0;32m<ipython-input-110-2ebbb5cd04d1>\u001b[0m in \u001b[0;36mget_total_cars\u001b[0;34m(values)\u001b[0m\n\u001b[1;32m      2\u001b[0m     \u001b[0;32massert\u001b[0m \u001b[0mlen\u001b[0m\u001b[0;34m(\u001b[0m\u001b[0mvalues\u001b[0m\u001b[0;34m)\u001b[0m \u001b[0;34m>\u001b[0m \u001b[0;36m0\u001b[0m\u001b[0;34m\u001b[0m\u001b[0;34m\u001b[0m\u001b[0m\n\u001b[1;32m      3\u001b[0m     \u001b[0;32mfor\u001b[0m \u001b[0melement\u001b[0m \u001b[0;32min\u001b[0m \u001b[0mvalues\u001b[0m\u001b[0;34m:\u001b[0m\u001b[0;34m\u001b[0m\u001b[0;34m\u001b[0m\u001b[0m\n\u001b[0;32m----> 4\u001b[0;31m         \u001b[0;32massert\u001b[0m \u001b[0mint\u001b[0m\u001b[0;34m(\u001b[0m\u001b[0melement\u001b[0m\u001b[0;34m)\u001b[0m\u001b[0;34m\u001b[0m\u001b[0;34m\u001b[0m\u001b[0m\n\u001b[0m\u001b[1;32m      5\u001b[0m     \u001b[0mvalues\u001b[0m \u001b[0;34m=\u001b[0m \u001b[0;34m[\u001b[0m\u001b[0mint\u001b[0m\u001b[0;34m(\u001b[0m\u001b[0melement\u001b[0m\u001b[0;34m)\u001b[0m \u001b[0;32mfor\u001b[0m \u001b[0melement\u001b[0m \u001b[0;32min\u001b[0m \u001b[0mvalues\u001b[0m\u001b[0;34m]\u001b[0m\u001b[0;34m\u001b[0m\u001b[0;34m\u001b[0m\u001b[0m\n\u001b[1;32m      6\u001b[0m     \u001b[0mtotal\u001b[0m \u001b[0;34m=\u001b[0m \u001b[0msum\u001b[0m\u001b[0;34m(\u001b[0m\u001b[0mvalues\u001b[0m\u001b[0;34m)\u001b[0m\u001b[0;34m\u001b[0m\u001b[0;34m\u001b[0m\u001b[0m\n",
            "\u001b[0;31mValueError\u001b[0m: invalid literal for int() with base 10: 'a'"
          ]
        }
      ]
    },
    {
      "cell_type": "markdown",
      "source": [
        "Explain in words what the assertions in this function check, and for each one, give an example of input that will make that assertion fail."
      ],
      "metadata": {
        "id": "h5RehIN8P84t"
      }
    },
    {
      "cell_type": "code",
      "source": [
        "def get_total_cars(values):\n",
        "    assert len(values) > 0\n",
        "    for element in values:\n",
        "        assert int(element)\n",
        "    values = [int(element) for element in values]\n",
        "    total = sum(values)\n",
        "    assert total > 0\n",
        "    return total"
      ],
      "metadata": {
        "id": "bdDNw2VcPwbW"
      },
      "execution_count": null,
      "outputs": []
    },
    {
      "cell_type": "markdown",
      "source": [
        "### Key points:\n",
        "- Program defensively, i.e., assume that errors are going to arise, and write code to detect them when they do.\n",
        "- Put assertions in programs to check their state as they run, and to help readers understand how those programs are supposed to work.\n",
        "- Use preconditions to check that the inputs to a function are safe to use.\n",
        "- Use postconditions to check that the output from a function is safe to use.\n",
        "- Write tests before writing code in order to help determine exactly what that code is supposed to do.\n"
      ],
      "metadata": {
        "id": "aBlkmIcrQKgt"
      }
    },
    {
      "cell_type": "code",
      "source": [],
      "metadata": {
        "id": "IHURFwBDQDsF"
      },
      "execution_count": null,
      "outputs": []
    }
  ]
}