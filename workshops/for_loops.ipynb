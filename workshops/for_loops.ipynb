{
  "nbformat": 4,
  "nbformat_minor": 0,
  "metadata": {
    "colab": {
      "provenance": [],
      "authorship_tag": "ABX9TyMny/+SBa8kF9sjqdjfyqGu",
      "include_colab_link": true
    },
    "kernelspec": {
      "name": "python3",
      "display_name": "Python 3"
    },
    "language_info": {
      "name": "python"
    }
  },
  "cells": [
    {
      "cell_type": "markdown",
      "metadata": {
        "id": "view-in-github",
        "colab_type": "text"
      },
      "source": [
        "<a href=\"https://colab.research.google.com/github/lucywowen/csci191_ProgSci/blob/main/workshops/for_loops.ipynb\" target=\"_parent\"><img src=\"https://colab.research.google.com/assets/colab-badge.svg\" alt=\"Open In Colab\"/></a>"
      ]
    },
    {
      "cell_type": "markdown",
      "source": [
        "# Repeating actions with loops\n",
        "\n"
      ],
      "metadata": {
        "id": "_uH_83ZzwaEM"
      }
    },
    {
      "cell_type": "markdown",
      "source": [
        "When we talked about visualizing data, we wrote Python code that plots values of interest from our first inflammation dataset (`inflammation-01.csv`), which revealed some suspicious features in it.\n",
        "\n",
        "<p align=\"center\">\n",
        "  <img src=\"\n",
        "https://swcarpentry.github.io/python-novice-inflammation/fig/03-loop_2_0.png\" width=\"950\" />\n",
        "</p>\n",
        "\n",
        "\n",
        "We have a dozen data sets right now and potentially more on the way if Dr. Maverick can keep up their surprisingly fast clinical trial rate. We want to create plots for all of our data sets with a single statement. To do that, we’ll have to teach the computer how to repeat things.\n",
        "\n",
        "An example task that we might want to repeat is accessing numbers in a list, which we will do by printing each number on a line of its own.\n"
      ],
      "metadata": {
        "id": "ZNlueErUwkC_"
      }
    },
    {
      "cell_type": "code",
      "execution_count": 1,
      "metadata": {
        "id": "wfb-pFk1wWpG"
      },
      "outputs": [],
      "source": [
        "odds = [1, 3, 5, 7]"
      ]
    },
    {
      "cell_type": "markdown",
      "source": [
        "In Python, a list is basically an ordered collection of elements, and every element has a unique number associated with it — its index. This means that we can access elements in a list using their indices. For example, we can get the first number in the list odds, by using `odds[0]`. One way to print each number is to use four print statements:"
      ],
      "metadata": {
        "id": "S4cdV2npw48u"
      }
    },
    {
      "cell_type": "code",
      "source": [
        "print(odds[0])\n",
        "print(odds[1])\n",
        "print(odds[2])\n",
        "print(odds[3])"
      ],
      "metadata": {
        "colab": {
          "base_uri": "https://localhost:8080/"
        },
        "id": "053xEzI_w1B0",
        "outputId": "60f21cca-25e7-4d17-e5e2-738a285d5bc7"
      },
      "execution_count": 2,
      "outputs": [
        {
          "output_type": "stream",
          "name": "stdout",
          "text": [
            "1\n",
            "3\n",
            "5\n",
            "7\n"
          ]
        }
      ]
    },
    {
      "cell_type": "markdown",
      "source": [
        "This is a bad approach for three reasons:\n",
        "\n",
        "1. Not scalable. Imagine you need to print a list that has hundreds of elements. It might be easier to type them in manually.\n",
        "\n",
        "2. Difficult to maintain. If we want to decorate each printed element with an asterisk or any other character, we would have to change four lines of code. While this might not be a problem for small lists, it would definitely be a problem for longer ones.\n",
        "\n",
        "3. Fragile. If we use it with a list that has more elements than what we initially envisioned, it will only display part of the list’s elements. A shorter list, on the other hand, will cause an error because it will be trying to display elements of the list that do not exist."
      ],
      "metadata": {
        "id": "DD__P5GexA0i"
      }
    },
    {
      "cell_type": "code",
      "source": [
        "odds = [1, 3, 5]\n",
        "print(odds[0])\n",
        "print(odds[1])\n",
        "print(odds[2])\n",
        "print(odds[3])"
      ],
      "metadata": {
        "colab": {
          "base_uri": "https://localhost:8080/",
          "height": 228
        },
        "id": "kUs2Do8aw9ZU",
        "outputId": "ac1e3212-2af9-4cce-aa5f-6812a263b377"
      },
      "execution_count": 3,
      "outputs": [
        {
          "output_type": "stream",
          "name": "stdout",
          "text": [
            "1\n",
            "3\n",
            "5\n"
          ]
        },
        {
          "output_type": "error",
          "ename": "IndexError",
          "evalue": "list index out of range",
          "traceback": [
            "\u001b[0;31m---------------------------------------------------------------------------\u001b[0m",
            "\u001b[0;31mIndexError\u001b[0m                                Traceback (most recent call last)",
            "\u001b[0;32m<ipython-input-3-b48c9fadc7bf>\u001b[0m in \u001b[0;36m<cell line: 0>\u001b[0;34m()\u001b[0m\n\u001b[1;32m      3\u001b[0m \u001b[0mprint\u001b[0m\u001b[0;34m(\u001b[0m\u001b[0modds\u001b[0m\u001b[0;34m[\u001b[0m\u001b[0;36m1\u001b[0m\u001b[0;34m]\u001b[0m\u001b[0;34m)\u001b[0m\u001b[0;34m\u001b[0m\u001b[0;34m\u001b[0m\u001b[0m\n\u001b[1;32m      4\u001b[0m \u001b[0mprint\u001b[0m\u001b[0;34m(\u001b[0m\u001b[0modds\u001b[0m\u001b[0;34m[\u001b[0m\u001b[0;36m2\u001b[0m\u001b[0;34m]\u001b[0m\u001b[0;34m)\u001b[0m\u001b[0;34m\u001b[0m\u001b[0;34m\u001b[0m\u001b[0m\n\u001b[0;32m----> 5\u001b[0;31m \u001b[0mprint\u001b[0m\u001b[0;34m(\u001b[0m\u001b[0modds\u001b[0m\u001b[0;34m[\u001b[0m\u001b[0;36m3\u001b[0m\u001b[0;34m]\u001b[0m\u001b[0;34m)\u001b[0m\u001b[0;34m\u001b[0m\u001b[0;34m\u001b[0m\u001b[0m\n\u001b[0m",
            "\u001b[0;31mIndexError\u001b[0m: list index out of range"
          ]
        }
      ]
    },
    {
      "cell_type": "markdown",
      "source": [
        "Here’s a better approach: a **for loop**"
      ],
      "metadata": {
        "id": "na1Vil_RxLrg"
      }
    },
    {
      "cell_type": "code",
      "source": [
        "odds = [1, 3, 5, 7]\n",
        "for num in odds:\n",
        "    print(num)\n"
      ],
      "metadata": {
        "colab": {
          "base_uri": "https://localhost:8080/"
        },
        "id": "7DKIjqRFxHlZ",
        "outputId": "60bf467c-12ee-4b21-bf11-9cba191b5ad9"
      },
      "execution_count": 4,
      "outputs": [
        {
          "output_type": "stream",
          "name": "stdout",
          "text": [
            "1\n",
            "3\n",
            "5\n",
            "7\n"
          ]
        }
      ]
    },
    {
      "cell_type": "markdown",
      "source": [
        "This is shorter — certainly shorter than something that prints every number in a hundred-number list — and more robust as well:\n",
        "\n"
      ],
      "metadata": {
        "id": "BrYIWZm7yH1N"
      }
    },
    {
      "cell_type": "code",
      "source": [
        "odds = [1, 3, 5, 7, 9, 11]\n",
        "for num in odds:\n",
        "    print(num)"
      ],
      "metadata": {
        "colab": {
          "base_uri": "https://localhost:8080/"
        },
        "id": "9l28pArIxQya",
        "outputId": "84dad2a7-d23d-4e8a-ae88-94797c5f56d6"
      },
      "execution_count": 5,
      "outputs": [
        {
          "output_type": "stream",
          "name": "stdout",
          "text": [
            "1\n",
            "3\n",
            "5\n",
            "7\n",
            "9\n",
            "11\n"
          ]
        }
      ]
    },
    {
      "cell_type": "markdown",
      "source": [
        "The improved version uses a **for loop** to repeat an operation — in this case, printing — once for each thing in a sequence.\n",
        "\n",
        "Using the odds example above, the loop might look like this:\n",
        "\n",
        "<p align=\"center\">\n",
        "  <img src=\"\n",
        "https://swcarpentry.github.io/python-novice-inflammation/fig/05-loops_image_num.png\" width=\"400\" />\n",
        "</p>\n",
        "\n",
        "where each number (`num`) in the variable `odds` is looped through and printed one number after another. The other numbers in the diagram denote which loop cycle the number was printed in (1 being the first loop cycle, and 6 being the final loop cycle).\n",
        "\n",
        "We can call the loop variable anything we like, but there must be a colon at the end of the line starting the loop, and we must indent anything we want to run inside the loop. Unlike many other languages, there is no command to signify the end of the loop body (e.g. `end` `for`); everything indented after the for statement belongs to the loop."
      ],
      "metadata": {
        "id": "_OFFtRUIyQeS"
      }
    },
    {
      "cell_type": "markdown",
      "source": [
        "In the example above, the loop variable was given the name `num` as a mnemonic; it is short for ‘number’. We can choose any name we want for variables. We might just as easily have chosen the name `banana` for the loop variable, as long as we use the same name when we invoke the variable inside the loop:"
      ],
      "metadata": {
        "id": "I33ByPFHn8Di"
      }
    },
    {
      "cell_type": "code",
      "source": [
        "odds = [1, 3, 5, 7, 9, 11]\n",
        "for banana in odds:\n",
        "    print(banana)"
      ],
      "metadata": {
        "colab": {
          "base_uri": "https://localhost:8080/"
        },
        "id": "1ZsnLp4KyLRA",
        "outputId": "c042d113-dab6-40d0-f6ec-9d0aac78c9fb"
      },
      "execution_count": 6,
      "outputs": [
        {
          "output_type": "stream",
          "name": "stdout",
          "text": [
            "1\n",
            "3\n",
            "5\n",
            "7\n",
            "9\n",
            "11\n"
          ]
        }
      ]
    },
    {
      "cell_type": "markdown",
      "source": [
        "Here’s another loop that repeatedly updates a variable:"
      ],
      "metadata": {
        "id": "Y0ux2DSNoFNz"
      }
    },
    {
      "cell_type": "code",
      "source": [
        "length = 0\n",
        "names = ['Curie', 'Darwin', 'Turing']\n",
        "for value in names:\n",
        "    length = length + 1\n",
        "print('There are', length, 'names in the list.')"
      ],
      "metadata": {
        "colab": {
          "base_uri": "https://localhost:8080/"
        },
        "id": "s9EzOCd5oDTH",
        "outputId": "19999338-ebe2-4643-96dd-70f6ceaa62ba"
      },
      "execution_count": 7,
      "outputs": [
        {
          "output_type": "stream",
          "name": "stdout",
          "text": [
            "There are 3 names in the list.\n"
          ]
        }
      ]
    },
    {
      "cell_type": "markdown",
      "source": [
        "It’s worth tracing the execution of this little program step by step. Since there are three names in `names`, the statement on line 4 will be executed three times. The first time around, `length` is zero (the value assigned to it on line 1) and `value` is `Curie`. The statement adds 1 to the old value of `length`, producing 1, and updates `length` to refer to that new value. The next time around, value is `Darwin` and `length` is 1, so `length` is updated to be 2. After one more update, `length` is 3; since there is nothing left in `names` for Python to process, the loop finishes and the `print` function on line 5 tells us our final answer.\n",
        "\n",
        "Note that a loop variable is a variable that is being used to record progress in a loop. It still exists after the loop is over, and we can re-use variables previously defined as loop variables as well:"
      ],
      "metadata": {
        "id": "0jKakSWxoMOi"
      }
    },
    {
      "cell_type": "code",
      "source": [
        "name = 'Rosalind'\n",
        "for name in ['Curie', 'Darwin', 'Turing']:\n",
        "    print(name)\n",
        "print('after the loop, name is', name)"
      ],
      "metadata": {
        "colab": {
          "base_uri": "https://localhost:8080/"
        },
        "id": "sIX4kmkDoII9",
        "outputId": "515a5bbb-ccb3-4409-f3fa-0eb4bc4d07f4"
      },
      "execution_count": 8,
      "outputs": [
        {
          "output_type": "stream",
          "name": "stdout",
          "text": [
            "Curie\n",
            "Darwin\n",
            "Turing\n",
            "after the loop, name is Turing\n"
          ]
        }
      ]
    },
    {
      "cell_type": "markdown",
      "source": [
        "Note also that finding the length of an object is such a common operation that Python actually has a built-in function to do it called `len`:\n",
        "\n"
      ],
      "metadata": {
        "id": "eXsMgEw-o3Wr"
      }
    },
    {
      "cell_type": "code",
      "source": [
        "print(len([0, 1, 2, 3]))"
      ],
      "metadata": {
        "colab": {
          "base_uri": "https://localhost:8080/"
        },
        "id": "tIfQUxlqoxot",
        "outputId": "112bab0f-880a-46e4-f0ae-598febd8ed49"
      },
      "execution_count": 9,
      "outputs": [
        {
          "output_type": "stream",
          "name": "stdout",
          "text": [
            "4\n"
          ]
        }
      ]
    },
    {
      "cell_type": "markdown",
      "source": [
        "`len` is much faster than any function we could write ourselves, and much easier to read than a two-line loop; it will also give us the length of many other things that we haven’t met yet, so we should always use it when we can."
      ],
      "metadata": {
        "id": "3XQ0oPfMpC5R"
      }
    },
    {
      "cell_type": "markdown",
      "source": [
        "### Range\n",
        "\n",
        "Python has a built-in function called `range` that generates a sequence of numbers. `range` can accept 1, 2, or 3 parameters.\n",
        "\n",
        "If one parameter is given, `range` generates a sequence of that length, starting at zero and incrementing by 1. For example, `range(3)` produces the numbers `0, 1, 2`.\n",
        "If two parameters are given, range starts at the first and ends just before the second, incrementing by one. For example, `range(2, 5)` produces `2, 3, 4`.\n",
        "If range is given 3 parameters, it starts at the first one, ends just before the second one, and increments by the third one. For example, `range(3, 10, 2)` produces `3, 5, 7, 9`.\n",
        "\n",
        "\n",
        "Using range, write a loop that prints the first 3 natural numbers:"
      ],
      "metadata": {
        "id": "ygmv64zypY50"
      }
    },
    {
      "cell_type": "code",
      "source": [
        "### What do you think??\n"
      ],
      "metadata": {
        "id": "fWtxkkvjpCPt"
      },
      "execution_count": 10,
      "outputs": []
    },
    {
      "cell_type": "markdown",
      "source": [
        "### Check your understanding:\n",
        "\n",
        "Given the following loop:"
      ],
      "metadata": {
        "id": "masAs8jPp16R"
      }
    },
    {
      "cell_type": "code",
      "source": [
        "word = 'oxygen'\n",
        "for letter in word:\n",
        "    print(letter)"
      ],
      "metadata": {
        "colab": {
          "base_uri": "https://localhost:8080/"
        },
        "id": "bneAT7Y_pwce",
        "outputId": "4479bffd-146f-4161-c368-6488bdf8c065"
      },
      "execution_count": 11,
      "outputs": [
        {
          "output_type": "stream",
          "name": "stdout",
          "text": [
            "o\n",
            "x\n",
            "y\n",
            "g\n",
            "e\n",
            "n\n"
          ]
        }
      ]
    },
    {
      "cell_type": "markdown",
      "source": [
        "How many times is the body of the loop executed?\n",
        "\n",
        "- 3 times\n",
        "- 4 times\n",
        "- 5 times\n",
        "- 6 times"
      ],
      "metadata": {
        "id": "mwm1k4lfp_AB"
      }
    },
    {
      "cell_type": "markdown",
      "source": [
        "Write a loop that calculates the same result as `5 ** 3` using multiplication (and without exponentiation).\n",
        "\n",
        "\n"
      ],
      "metadata": {
        "id": "B_UgzBj1qNNM"
      }
    },
    {
      "cell_type": "code",
      "source": [
        "### What do you think??"
      ],
      "metadata": {
        "id": "8dp9LtMDp71K"
      },
      "execution_count": 12,
      "outputs": []
    },
    {
      "cell_type": "markdown",
      "source": [
        "Write a loop that calculates the sum of elements in a list by adding each element and printing the final value, so `[124, 402, 36]` prints `562`."
      ],
      "metadata": {
        "id": "cSIE4ETRqVa3"
      }
    },
    {
      "cell_type": "code",
      "source": [
        "### Go for it!"
      ],
      "metadata": {
        "id": "8IPMVIc0qS6K"
      },
      "execution_count": 13,
      "outputs": []
    },
    {
      "cell_type": "markdown",
      "source": [
        "The built-in function `enumerate` takes a sequence (e.g. a list) and generates a new sequence of the same length. Each element of the new sequence is a pair composed of the index (0, 1, 2,…) and the value from the original sequence:"
      ],
      "metadata": {
        "id": "8VAaSdyVqeUI"
      }
    },
    {
      "cell_type": "code",
      "source": [
        "for idx, val in enumerate(a_list):\n",
        "    # Do something using idx and val"
      ],
      "metadata": {
        "id": "rz8ayQ-Pqa2W"
      },
      "execution_count": null,
      "outputs": []
    },
    {
      "cell_type": "markdown",
      "source": [
        "The code above loops through `a_list`, assigning the index to `idx` and the value to `val`.\n",
        "\n",
        "Suppose you have encoded a polynomial as a list of coefficients in the following way: the first element is the constant term, the second element is the coefficient of the linear term, the third is the coefficient of the quadratic term, where the polynomial is of the form $𝑎𝑥^0+𝑏𝑥^1+𝑐𝑥^2$\n",
        "."
      ],
      "metadata": {
        "id": "9ZPXXZsfqrRq"
      }
    },
    {
      "cell_type": "code",
      "source": [
        "x = 5\n",
        "coefs = [2, 4, 3]\n",
        "y = coefs[0] * x**0 + coefs[1] * x**1 + coefs[2] * x**2\n",
        "print(y)\n"
      ],
      "metadata": {
        "colab": {
          "base_uri": "https://localhost:8080/"
        },
        "id": "orPMdKzQqmbT",
        "outputId": "2221d14d-6b29-4315-cfdb-f989ce2eb7b5"
      },
      "execution_count": 15,
      "outputs": [
        {
          "output_type": "stream",
          "name": "stdout",
          "text": [
            "97\n"
          ]
        }
      ]
    },
    {
      "cell_type": "markdown",
      "source": [
        "Write a loop using `enumerate(coefs)` which computes the value `y` of any polynomial, given `x` and `coefs`.\n",
        "\n",
        "\n"
      ],
      "metadata": {
        "id": "rp6qPfy5rB8B"
      }
    },
    {
      "cell_type": "code",
      "source": [
        "### Try it!  This one is a bit tricky"
      ],
      "metadata": {
        "id": "9J3GI3H_q8tO"
      },
      "execution_count": 16,
      "outputs": []
    },
    {
      "cell_type": "markdown",
      "source": [
        "### Key points:\n",
        "\n",
        "- Use for variable in sequence to process the elements of a sequence one at a time.\n",
        "- The body of a for loop must be indented.\n",
        "- Use `len(thing)` to determine the length of something that contains other values."
      ],
      "metadata": {
        "id": "EpCwcetdrpSU"
      }
    }
  ]
}