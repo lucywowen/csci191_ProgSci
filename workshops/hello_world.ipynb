{
  "nbformat": 4,
  "nbformat_minor": 0,
  "metadata": {
    "colab": {
      "provenance": [],
      "authorship_tag": "ABX9TyP041KPEOPeTWEWgKK8yaN8",
      "include_colab_link": true
    },
    "kernelspec": {
      "name": "python3",
      "display_name": "Python 3"
    },
    "language_info": {
      "name": "python"
    }
  },
  "cells": [
    {
      "cell_type": "markdown",
      "metadata": {
        "id": "view-in-github",
        "colab_type": "text"
      },
      "source": [
        "<a href=\"https://colab.research.google.com/github/lucywowen/csci191_ProgSci/blob/main/workshops/hello_world.ipynb\" target=\"_parent\"><img src=\"https://colab.research.google.com/assets/colab-badge.svg\" alt=\"Open In Colab\"/></a>"
      ]
    },
    {
      "cell_type": "markdown",
      "source": [
        "# Welcome!\n",
        "\n",
        "These notebooks are modified from [Software Carpentry](https://swcarpentry.github.io/python-novice-inflammation/instructor/01-intro.html)'s Python course.\n",
        "\n",
        "We're going to start with the most simple environment set up.  We're going to use this notebook in Google's Colab (just open it right up!). We'll practice using these notebooks and we'll get familiar with some of Python's syntax.  Ready?? OK!"
      ],
      "metadata": {
        "id": "kulTYG7Tf5Kz"
      }
    },
    {
      "cell_type": "markdown",
      "source": [
        "Nothing says learning python like a good 'hello world'.  Just to get familiar with code in these cells, we'll start a basic print function.  This function takes whatever is in the parentheses `()` and spits it out on the screen.  In this case, it will print the text 'hello world!'.  "
      ],
      "metadata": {
        "id": "x_ByYG0QhofS"
      }
    },
    {
      "cell_type": "code",
      "execution_count": null,
      "metadata": {
        "colab": {
          "base_uri": "https://localhost:8080/"
        },
        "id": "4mJrhBn2dGcr",
        "outputId": "f68432b0-eec3-4730-dad7-2291b660a2ac"
      },
      "outputs": [
        {
          "output_type": "stream",
          "name": "stdout",
          "text": [
            "hello world!\n"
          ]
        }
      ],
      "source": [
        "print('hello world!')"
      ]
    },
    {
      "cell_type": "markdown",
      "source": [
        "You can start by pressing that little play button in the corner of the cell... but a pro tip: trying pressing `shift` and `enter`.  Neat huh??"
      ],
      "metadata": {
        "id": "kHCIdzaQiCTE"
      }
    },
    {
      "cell_type": "markdown",
      "source": [
        "## Datatypes"
      ],
      "metadata": {
        "id": "NiGTHIbXmSsj"
      }
    },
    {
      "cell_type": "markdown",
      "source": [
        "There are several data types in Python datatypes we should be familar with.  Three common ones are:\n",
        "\n",
        "- integer numbers `int`\n",
        "- floating point numbers `float`(numbers with decimals)\n",
        "- strings `str`\n",
        "- booleans `bool` (`False` and `True`)"
      ],
      "metadata": {
        "id": "Pt27S_0AkA4U"
      }
    },
    {
      "cell_type": "markdown",
      "source": [
        "To create a string, we add single or double quotes around some text. To identify and track a patient throughout our study, we can assign each person a unique identifier by storing it in a string:"
      ],
      "metadata": {
        "id": "UgRMI-Ifk4DJ"
      }
    },
    {
      "cell_type": "code",
      "source": [
        "patient_id = '001'"
      ],
      "metadata": {
        "id": "UqlHSUWlhmCs"
      },
      "execution_count": null,
      "outputs": []
    },
    {
      "cell_type": "markdown",
      "source": [
        "**Question**\n",
        "\n",
        "What's the datatype `'hello world!'`??"
      ],
      "metadata": {
        "id": "8i2m9Tx4l-b5"
      }
    },
    {
      "cell_type": "markdown",
      "source": [
        "**Try it!**\n",
        "\n",
        "\n",
        "How would you `print` this `patient_id` info??  "
      ],
      "metadata": {
        "id": "meuqleU-lUov"
      }
    },
    {
      "cell_type": "code",
      "source": [],
      "metadata": {
        "id": "SpBJkzCKlIPa"
      },
      "execution_count": null,
      "outputs": []
    },
    {
      "cell_type": "markdown",
      "source": [
        "## Variables\n",
        "\n",
        "Great!  Ok now let's do some calculations...\n"
      ],
      "metadata": {
        "id": "BY5_s3-dmQTn"
      }
    },
    {
      "cell_type": "code",
      "source": [
        "3 + 5 * 4"
      ],
      "metadata": {
        "colab": {
          "base_uri": "https://localhost:8080/"
        },
        "id": "R3PDWfJImifQ",
        "outputId": "782b5af9-0e27-4e54-f7b5-7bc84bc633d0"
      },
      "execution_count": null,
      "outputs": [
        {
          "output_type": "execute_result",
          "data": {
            "text/plain": [
              "23"
            ]
          },
          "metadata": {},
          "execution_count": 3
        }
      ]
    },
    {
      "cell_type": "markdown",
      "source": [
        "Cool!  So just putting in some numbers with some basic math operators, you can treat these cells just like a calculator.  So that's fun..."
      ],
      "metadata": {
        "id": "stMIRBjMmnB4"
      }
    },
    {
      "cell_type": "markdown",
      "source": [
        "**Question**\n",
        "\n",
        "What's the datatype of those numbers???"
      ],
      "metadata": {
        "id": "AOch7b9Ymz7A"
      }
    },
    {
      "cell_type": "markdown",
      "source": [
        "Here's a hint... you can use another one of Python's built-in functions `type` to figure it out! Remember, don't forget those `()` when you're calling the function or else it won't run!  We'll learn more about functions later.  "
      ],
      "metadata": {
        "id": "H4zC5UBApsTH"
      }
    },
    {
      "cell_type": "code",
      "source": [
        "type(3)"
      ],
      "metadata": {
        "colab": {
          "base_uri": "https://localhost:8080/"
        },
        "id": "RPUKT8v0pqtJ",
        "outputId": "87ee55b3-7a34-47fe-8f9c-740945b0ed00"
      },
      "execution_count": null,
      "outputs": [
        {
          "output_type": "execute_result",
          "data": {
            "text/plain": [
              "int"
            ]
          },
          "metadata": {},
          "execution_count": 7
        }
      ]
    },
    {
      "cell_type": "markdown",
      "source": [
        "This is great but not very interesting. To do anything useful with data, we need to assign its value to a variable. In Python, we can assign a value to a variable, using the equals sign `=`.\n",
        "\n",
        "For example, we can track the weight of a patient who weighs 60 kilograms by assigning the value 60 to a variable `weight_kg`:"
      ],
      "metadata": {
        "id": "upTeoifFm_Hy"
      }
    },
    {
      "cell_type": "code",
      "source": [
        "weight_kg = 60"
      ],
      "metadata": {
        "id": "i0lTHpWsmlwh"
      },
      "execution_count": null,
      "outputs": []
    },
    {
      "cell_type": "markdown",
      "source": [
        "From now on, whenever we use `weight_kg`, Python will substitute the value we assigned to it. In layperson’s terms, a variable is a name for a value.\n",
        "\n",
        "In Python, variable names:\n",
        "\n",
        "- can include letters, digits, and underscores\n",
        "- cannot start with a digit\n",
        "- are case sensitive.\n",
        "\n",
        "This means that, for example:\n",
        "\n",
        "- `weight0` is a valid variable name, whereas `0weight` is not\n",
        "- `weight` and `Weight` are different variables"
      ],
      "metadata": {
        "id": "kOqn5bBtnRvY"
      }
    },
    {
      "cell_type": "markdown",
      "source": [
        "Once we have data stored with variable names, we can make use of it in calculations. We may want to store our patient’s weight in pounds as well as kilograms:"
      ],
      "metadata": {
        "id": "ctebqSujn4LL"
      }
    },
    {
      "cell_type": "code",
      "source": [
        "weight_lb = 2.2 * weight_kg"
      ],
      "metadata": {
        "id": "BuFHixuOnKEm"
      },
      "execution_count": null,
      "outputs": []
    },
    {
      "cell_type": "markdown",
      "source": [
        "**Try it!**\n",
        "\n",
        "\n",
        "How would you `print` this `weight_lb`??  "
      ],
      "metadata": {
        "id": "FWHvLW3VoAcy"
      }
    },
    {
      "cell_type": "code",
      "source": [],
      "metadata": {
        "id": "-0CKA7FkpDVQ"
      },
      "execution_count": null,
      "outputs": []
    },
    {
      "cell_type": "markdown",
      "source": [
        "We might decide to add a prefix to our patient identifier:"
      ],
      "metadata": {
        "id": "odmvtxXvoZut"
      }
    },
    {
      "cell_type": "code",
      "source": [
        "patient_id = 'inflam_' + patient_id"
      ],
      "metadata": {
        "id": "4KxaaB8An9Bo"
      },
      "execution_count": null,
      "outputs": []
    },
    {
      "cell_type": "markdown",
      "source": [
        "**Question**\n",
        "\n",
        "We reassigned the `patient_id` with a new value... what do you expect that new value to be??"
      ],
      "metadata": {
        "id": "eusidAZConRj"
      }
    },
    {
      "cell_type": "markdown",
      "source": [
        "Ok.  Now... let's try to combine all this info into one line of code.  *Before you run it, try to predict what will be printed.*"
      ],
      "metadata": {
        "id": "4TE4qjQmpTjG"
      }
    },
    {
      "cell_type": "code",
      "source": [
        "print(patient_id, 'weight in kilograms:', weight_kg)"
      ],
      "metadata": {
        "id": "4EaYqMueolsZ"
      },
      "execution_count": null,
      "outputs": []
    },
    {
      "cell_type": "markdown",
      "source": [
        "Moreover, we can do arithmetic with variables right inside the print function:"
      ],
      "metadata": {
        "id": "oZ_oP_hHqZMo"
      }
    },
    {
      "cell_type": "code",
      "source": [
        "print('weight in pounds:', 2.2 * weight_kg)"
      ],
      "metadata": {
        "colab": {
          "base_uri": "https://localhost:8080/"
        },
        "id": "a6X8dU4FqZ3p",
        "outputId": "a4097ea2-f6cb-4d0a-ba07-cb88262ab567"
      },
      "execution_count": null,
      "outputs": [
        {
          "output_type": "stream",
          "name": "stdout",
          "text": [
            "weight in pounds: 132.0\n"
          ]
        }
      ]
    },
    {
      "cell_type": "markdown",
      "source": [
        "To change the value of the `weight_kg` variable, we have to assign `weight_kg` a new value using the equals `=` sign:"
      ],
      "metadata": {
        "id": "6rmzDy7Pqgve"
      }
    },
    {
      "cell_type": "code",
      "source": [
        "weight_kg = 65.0\n",
        "print('weight in kilograms is now:', weight_kg)"
      ],
      "metadata": {
        "colab": {
          "base_uri": "https://localhost:8080/"
        },
        "id": "KlVk884Eqb5d",
        "outputId": "966cf91d-3889-461b-efc5-31fdadd108a5"
      },
      "execution_count": null,
      "outputs": [
        {
          "output_type": "stream",
          "name": "stdout",
          "text": [
            "weight in kilograms is now: 65.0\n"
          ]
        }
      ]
    },
    {
      "cell_type": "markdown",
      "source": [
        "## Getting help\n",
        "\n",
        "Use the built-in function help to get help for a function. Every built-in function has extensive documentation that can also be found online."
      ],
      "metadata": {
        "id": "qVh_6J7_qoiV"
      }
    },
    {
      "cell_type": "code",
      "source": [
        "help(print)"
      ],
      "metadata": {
        "colab": {
          "base_uri": "https://localhost:8080/"
        },
        "id": "QiI4UfPoqlbZ",
        "outputId": "303b37a2-362b-412e-b1cf-6c08c63df419"
      },
      "execution_count": null,
      "outputs": [
        {
          "output_type": "stream",
          "name": "stdout",
          "text": [
            "Help on built-in function print in module builtins:\n",
            "\n",
            "print(*args, sep=' ', end='\\n', file=None, flush=False)\n",
            "    Prints the values to a stream, or to sys.stdout by default.\n",
            "    \n",
            "    sep\n",
            "      string inserted between values, default a space.\n",
            "    end\n",
            "      string appended after the last value, default a newline.\n",
            "    file\n",
            "      a file-like object (stream); defaults to the current sys.stdout.\n",
            "    flush\n",
            "      whether to forcibly flush the stream.\n",
            "\n"
          ]
        }
      ]
    },
    {
      "cell_type": "markdown",
      "source": [
        "### Check your understanding"
      ],
      "metadata": {
        "id": "ewzKDbBEq6PC"
      }
    },
    {
      "cell_type": "markdown",
      "source": [
        "What values do the variables mass and age have after each of the following statements? Test your answer by executing the lines."
      ],
      "metadata": {
        "id": "1P7nkzI4q8rf"
      }
    },
    {
      "cell_type": "code",
      "source": [
        "mass = 47.5\n",
        "age = 122\n",
        "mass = mass * 2.0\n",
        "age = age - 20"
      ],
      "metadata": {
        "id": "BOypBQCSqvgX"
      },
      "execution_count": null,
      "outputs": []
    },
    {
      "cell_type": "markdown",
      "source": [
        "Python allows you to assign multiple values to multiple variables in one line by separating the variables and values with commas. What does the following program print out?"
      ],
      "metadata": {
        "id": "Avicm2JYFDEP"
      }
    },
    {
      "cell_type": "code",
      "source": [
        "first, second = 'Grace', 'Hopper'\n",
        "third, fourth = second, first\n",
        "print(third, fourth)"
      ],
      "metadata": {
        "id": "Ld_ALa89q9i4"
      },
      "execution_count": null,
      "outputs": []
    },
    {
      "cell_type": "markdown",
      "source": [
        "What are the data types of the following variables?"
      ],
      "metadata": {
        "id": "6hjQ21bmFIwC"
      }
    },
    {
      "cell_type": "code",
      "source": [
        "planet = 'Earth'\n",
        "apples = 5\n",
        "distance = 10.5"
      ],
      "metadata": {
        "id": "tVscbbV1FN1a"
      },
      "execution_count": null,
      "outputs": []
    },
    {
      "cell_type": "markdown",
      "source": [
        "### Key Points:\n",
        "\n",
        "- Basic data types in Python include integers, strings, and floating-point numbers.\n",
        "- Use `variable` `=` `value` to assign a value to a variable in order to record it in memory.\n",
        "- Variables are created on demand whenever a value is assigned to them.\n",
        "- Use `print(something)` to display the value of something.\n",
        "- Use `#` some kind of explanation to add comments to programs.\n",
        "- Built-in functions are always available to use.\n",
        "- Use `help(thing)` to view help for something.\n",
        "- Error messages provide information about what has gone wrong with your program and where.\n"
      ],
      "metadata": {
        "id": "mwhWnWAQFTwd"
      }
    }
  ]
}