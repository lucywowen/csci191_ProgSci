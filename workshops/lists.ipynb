{
  "nbformat": 4,
  "nbformat_minor": 0,
  "metadata": {
    "colab": {
      "provenance": [],
      "authorship_tag": "ABX9TyMpsuoZFQDf2ojb3MW52vxP",
      "include_colab_link": true
    },
    "kernelspec": {
      "name": "python3",
      "display_name": "Python 3"
    },
    "language_info": {
      "name": "python"
    }
  },
  "cells": [
    {
      "cell_type": "markdown",
      "metadata": {
        "id": "view-in-github",
        "colab_type": "text"
      },
      "source": [
        "<a href=\"https://colab.research.google.com/github/lucywowen/csci191_ProgSci/blob/main/workshops/lists.ipynb\" target=\"_parent\"><img src=\"https://colab.research.google.com/assets/colab-badge.svg\" alt=\"Open In Colab\"/></a>"
      ]
    },
    {
      "cell_type": "markdown",
      "source": [
        "# Storing data\n",
        "\n",
        "Previously, we analyzed a single file of clinical trial inflammation data. However, after finding some peculiar and potentially suspicious trends in the trial data we ask Dr. Maverick if they have performed any other clinical trials. Surprisingly, they say that they have and provide us with 11 more CSV files for a further 11 clinical trials they have undertaken since the initial trial.\n",
        "\n",
        "Our goal now is to process all the inflammation data we have, which means that we still have eleven more files to go!\n",
        "\n",
        "The natural first step is to collect the names of all the files that we have to process. In Python, a list is a way to store multiple values together. In this episode, we will learn how to store multiple values in a list as well as how to work with lists."
      ],
      "metadata": {
        "id": "RjX6FgfuajMN"
      }
    },
    {
      "cell_type": "markdown",
      "source": [
        "### Python lists\n",
        "\n",
        "Unlike NumPy arrays, lists are built into the language so we do not have to load a library to use them. We create a list by putting values inside square brackets and separating the values with commas:"
      ],
      "metadata": {
        "id": "ApIYHc8oa4lK"
      }
    },
    {
      "cell_type": "code",
      "execution_count": 1,
      "metadata": {
        "colab": {
          "base_uri": "https://localhost:8080/"
        },
        "id": "aaz2qlF7af-H",
        "outputId": "b6637f06-3864-470e-d46c-b4694a79d9b8"
      },
      "outputs": [
        {
          "output_type": "stream",
          "name": "stdout",
          "text": [
            "odds are: [1, 3, 5, 7]\n"
          ]
        }
      ],
      "source": [
        "odds = [1, 3, 5, 7]\n",
        "print('odds are:', odds)"
      ]
    },
    {
      "cell_type": "markdown",
      "source": [
        "We can access elements of a list using indices again –\n",
        "those same numbered positions of elements in the list. These positions are numbered starting at 0, so the first element has an index of 0."
      ],
      "metadata": {
        "id": "7g59fc7FbHxI"
      }
    },
    {
      "cell_type": "code",
      "source": [
        "print('first element:', odds[0])\n",
        "print('last element:', odds[3])\n",
        "print('\"-1\" element:', odds[-1])"
      ],
      "metadata": {
        "colab": {
          "base_uri": "https://localhost:8080/"
        },
        "id": "F1wQeU2ZbDPL",
        "outputId": "ea3dea82-25ec-4a0e-e852-f9edd23695a7"
      },
      "execution_count": 2,
      "outputs": [
        {
          "output_type": "stream",
          "name": "stdout",
          "text": [
            "first element: 1\n",
            "last element: 7\n",
            "\"-1\" element: 7\n"
          ]
        }
      ]
    },
    {
      "cell_type": "markdown",
      "source": [
        "Yes, we can use negative numbers as indices in Python. When we do so, the index -1 gives us the last element in the list, -2 the second to last, and so on. Because of this, `odds[3]` and `odds[-1]` point to the same element here.\n",
        "\n",
        "There is one important difference between lists and strings: we can change the values in a list, but we cannot change individual characters in a string. For example:"
      ],
      "metadata": {
        "id": "O8oQjfG5bRTV"
      }
    },
    {
      "cell_type": "code",
      "source": [
        "names = ['Curie', 'Darwing', 'Turing']  # typo in Darwin's name\n",
        "print('names is originally:', names)\n",
        "names[1] = 'Darwin'  # correct the name\n",
        "print('final value of names:', names)"
      ],
      "metadata": {
        "colab": {
          "base_uri": "https://localhost:8080/"
        },
        "id": "dHbc2-5pbOB3",
        "outputId": "86e1f473-b508-43e4-c089-9f16ea9b2a0c"
      },
      "execution_count": 3,
      "outputs": [
        {
          "output_type": "stream",
          "name": "stdout",
          "text": [
            "names is originally: ['Curie', 'Darwing', 'Turing']\n",
            "final value of names: ['Curie', 'Darwin', 'Turing']\n"
          ]
        }
      ]
    },
    {
      "cell_type": "markdown",
      "source": [
        "But trying to subsitute a letter in string doesn't:"
      ],
      "metadata": {
        "id": "VEPK8ltVbif_"
      }
    },
    {
      "cell_type": "code",
      "source": [
        "name = 'Darwin'\n",
        "name[0] = 'd'"
      ],
      "metadata": {
        "id": "Y6WeNchabdGu"
      },
      "execution_count": null,
      "outputs": []
    },
    {
      "cell_type": "markdown",
      "source": [
        "\n",
        "\n",
        "---\n",
        "### Mutable\n",
        "(Changeable)\n",
        "\n",
        "Data which can be modified in place is called mutable, while data which cannot be modified is called immutable. Strings and numbers are immutable. This does not mean that variables with string or number values are constants, but when we want to change the value of a string or number variable, we can only replace the old value with a completely new value.\n",
        "\n",
        "Lists and arrays, on the other hand, are mutable: we can modify them after they have been created. We can change individual elements, append new elements, or reorder the whole list. For some operations, like sorting, we can choose whether to use a function that modifies the data in-place or a function that returns a modified copy and leaves the original unchanged.\n",
        "\n",
        "Be careful when modifying data in-place. If two variables refer to the same list, and you modify the list value, it will change for both variables!\n"
      ],
      "metadata": {
        "id": "Y6TTKeEqbucT"
      }
    },
    {
      "cell_type": "code",
      "source": [
        "mild_salsa = ['peppers', 'onions', 'cilantro', 'tomatoes']\n",
        "hot_salsa = mild_salsa        # <-- mild_salsa and hot_salsa point to the *same* list data in memory\n",
        "hot_salsa[0] = 'hot peppers'\n",
        "print('Ingredients in mild salsa:', mild_salsa)\n",
        "print('Ingredients in hot salsa:', hot_salsa)"
      ],
      "metadata": {
        "colab": {
          "base_uri": "https://localhost:8080/"
        },
        "id": "shBR2qkNb5eW",
        "outputId": "b6d2b47b-84ab-4688-bb4e-78915241251c"
      },
      "execution_count": 4,
      "outputs": [
        {
          "output_type": "stream",
          "name": "stdout",
          "text": [
            "Ingredients in mild salsa: ['hot peppers', 'onions', 'cilantro', 'tomatoes']\n",
            "Ingredients in hot salsa: ['hot peppers', 'onions', 'cilantro', 'tomatoes']\n"
          ]
        }
      ]
    },
    {
      "cell_type": "markdown",
      "source": [
        "If you want variables with mutable values to be independent, you must make a copy of the value when you assign it."
      ],
      "metadata": {
        "id": "8Ki-QVB3b4o-"
      }
    },
    {
      "cell_type": "code",
      "source": [
        "mild_salsa = ['peppers', 'onions', 'cilantro', 'tomatoes']\n",
        "hot_salsa = list(mild_salsa)        # <-- makes a *copy* of the list\n",
        "hot_salsa[0] = 'hot peppers'\n",
        "print('Ingredients in mild salsa:', mild_salsa)\n",
        "print('Ingredients in hot salsa:', hot_salsa)"
      ],
      "metadata": {
        "colab": {
          "base_uri": "https://localhost:8080/"
        },
        "id": "a3gGXIEucPYr",
        "outputId": "c871d53f-0b93-439d-dde0-d4828ccb06cd"
      },
      "execution_count": 5,
      "outputs": [
        {
          "output_type": "stream",
          "name": "stdout",
          "text": [
            "Ingredients in mild salsa: ['peppers', 'onions', 'cilantro', 'tomatoes']\n",
            "Ingredients in hot salsa: ['hot peppers', 'onions', 'cilantro', 'tomatoes']\n"
          ]
        }
      ]
    },
    {
      "cell_type": "markdown",
      "source": [
        "Because of pitfalls like this, code which modifies data in place can be more difficult to understand. However, it is often far more efficient to modify a large data structure in place than to create a modified copy for every small change. You should consider both of these aspects when writing your code.\n",
        "\n",
        "\n",
        "\n",
        "---\n",
        "\n"
      ],
      "metadata": {
        "id": "WVOWkNwvcTXt"
      }
    },
    {
      "cell_type": "markdown",
      "source": [
        "### Nested lists\n",
        "\n",
        "Since a list can contain any Python variables, it can even contain other lists.\n",
        "\n",
        "For example, you could represent the products on the shelves of a small grocery shop as a nested list called veg:\n",
        "\n",
        "<p align=\"center\">\n",
        "  <img src=\"\n",
        "https://swcarpentry.github.io/python-novice-inflammation/fig/04_groceries_veg.png\" width=\"750\" />\n",
        "</p>\n",
        "\n",
        "To store the contents of the shelf in a nested list, you write it this way:"
      ],
      "metadata": {
        "id": "mJWZUqLXcglD"
      }
    },
    {
      "cell_type": "code",
      "source": [
        "veg = [['lettuce', 'lettuce', 'peppers', 'zucchini'],\n",
        "     ['lettuce', 'lettuce', 'peppers', 'zucchini'],\n",
        "     ['lettuce', 'cilantro', 'peppers', 'zucchini']]"
      ],
      "metadata": {
        "id": "A6aBOBLQcPzw"
      },
      "execution_count": 6,
      "outputs": []
    },
    {
      "cell_type": "markdown",
      "source": [
        "Here are some visual examples of how indexing a list of lists `veg` works. First, you can reference each row on the shelf as a separate list. For example, `veg[2]` represents the bottom row, which is a list of the baskets in that row.\n",
        "\n",
        "\n",
        "<p align=\"center\">\n",
        "  <img src=\"\n",
        "https://swcarpentry.github.io/python-novice-inflammation/fig/04_groceries_veg0.png\" width=\"750\" />\n",
        "</p>\n",
        "\n",
        "\n",
        "Index operations using the image would work like this:"
      ],
      "metadata": {
        "id": "i3egD9Eoc3NM"
      }
    },
    {
      "cell_type": "code",
      "source": [
        "print(veg[2])"
      ],
      "metadata": {
        "colab": {
          "base_uri": "https://localhost:8080/"
        },
        "id": "pS3N6pDrc0bv",
        "outputId": "40682e69-ec86-4025-8619-fdc1118ddfa8"
      },
      "execution_count": 7,
      "outputs": [
        {
          "output_type": "stream",
          "name": "stdout",
          "text": [
            "['lettuce', 'cilantro', 'peppers', 'zucchini']\n"
          ]
        }
      ]
    },
    {
      "cell_type": "markdown",
      "source": [
        "To reference a specific basket on a specific shelf, you use two indexes. The first index represents the row (from top to bottom) and the second index represents the specific basket (from left to right)."
      ],
      "metadata": {
        "id": "NOMY-LN6dU8o"
      }
    },
    {
      "cell_type": "code",
      "source": [
        "print(veg[0][0])"
      ],
      "metadata": {
        "colab": {
          "base_uri": "https://localhost:8080/"
        },
        "id": "31GY4BQfdRJJ",
        "outputId": "225bb4ae-6f5b-4a62-ac07-f028a26019f1"
      },
      "execution_count": 8,
      "outputs": [
        {
          "output_type": "stream",
          "name": "stdout",
          "text": [
            "lettuce\n"
          ]
        }
      ]
    },
    {
      "cell_type": "markdown",
      "source": [
        "### Hetergeneous lists\n",
        "\n",
        "Lists in Python can contain elements of different types. Example:"
      ],
      "metadata": {
        "id": "nS3suNJpdgGs"
      }
    },
    {
      "cell_type": "code",
      "source": [
        "sample_ages = [10, 12.5, 'Unknown']"
      ],
      "metadata": {
        "id": "U0bGqaSIdYgO"
      },
      "execution_count": 9,
      "outputs": []
    },
    {
      "cell_type": "markdown",
      "source": [
        "There are many ways to change the contents of lists besides assigning new values to individual elements:\n",
        "\n"
      ],
      "metadata": {
        "id": "F9pBAWLHdu5a"
      }
    },
    {
      "cell_type": "code",
      "source": [
        "odds.append(11)\n",
        "print('odds after adding a value:', odds)"
      ],
      "metadata": {
        "colab": {
          "base_uri": "https://localhost:8080/"
        },
        "id": "T0rWxDTAdsvf",
        "outputId": "44c4d9f0-a018-4aa3-a62a-e8fa734014ce"
      },
      "execution_count": 11,
      "outputs": [
        {
          "output_type": "stream",
          "name": "stdout",
          "text": [
            "odds after adding a value: [1, 3, 5, 7, 11]\n"
          ]
        }
      ]
    },
    {
      "cell_type": "code",
      "source": [
        "removed_element = odds.pop(0)\n",
        "print('odds after removing the first element:', odds)\n",
        "print('removed_element:', removed_element)"
      ],
      "metadata": {
        "colab": {
          "base_uri": "https://localhost:8080/"
        },
        "id": "HpBuV3yydyM3",
        "outputId": "64a0de5d-a40d-445d-ea1e-ac03cef662fa"
      },
      "execution_count": 12,
      "outputs": [
        {
          "output_type": "stream",
          "name": "stdout",
          "text": [
            "odds after removing the first element: [3, 5, 7, 11]\n",
            "removed_element: 1\n"
          ]
        }
      ]
    },
    {
      "cell_type": "code",
      "source": [
        "odds.reverse()\n",
        "print('odds after reversing:', odds)"
      ],
      "metadata": {
        "colab": {
          "base_uri": "https://localhost:8080/"
        },
        "id": "xoFa53uVd5vY",
        "outputId": "bbe54ef2-3a82-4b7a-83ef-7f44da3cca5a"
      },
      "execution_count": 13,
      "outputs": [
        {
          "output_type": "stream",
          "name": "stdout",
          "text": [
            "odds after reversing: [11, 7, 5, 3]\n"
          ]
        }
      ]
    },
    {
      "cell_type": "markdown",
      "source": [
        "While modifying in place, it is useful to remember that Python treats lists in a slightly counter-intuitive way.\n",
        "\n",
        "As we saw earlier, when we modified the mild_salsa list item in-place, if we make a list, (attempt to) copy it and then modify this list, we can cause all sorts of trouble. This also applies to modifying the list using the above functions:"
      ],
      "metadata": {
        "id": "S6ZTmYkMd_uP"
      }
    },
    {
      "cell_type": "code",
      "source": [
        "odds = [3, 5, 7]\n",
        "primes = odds\n",
        "primes.append(2)\n",
        "print('primes:', primes)\n",
        "print('odds:', odds)"
      ],
      "metadata": {
        "colab": {
          "base_uri": "https://localhost:8080/"
        },
        "id": "P1Uoq_Lud9TJ",
        "outputId": "9a374fae-c867-4246-807b-d5c6aa1b8e18"
      },
      "execution_count": 14,
      "outputs": [
        {
          "output_type": "stream",
          "name": "stdout",
          "text": [
            "primes: [3, 5, 7, 2]\n",
            "odds: [3, 5, 7, 2]\n"
          ]
        }
      ]
    },
    {
      "cell_type": "markdown",
      "source": [
        "This is because Python stores a list in memory, and then can use multiple names to refer to the same list. If all we want to do is copy a (simple) list, we can again use the `list` function, so we do not modify a list we did not mean to:"
      ],
      "metadata": {
        "id": "0UAB4k2GeGlb"
      }
    },
    {
      "cell_type": "code",
      "source": [
        "odds = [3, 5, 7]\n",
        "primes = list(odds)\n",
        "primes.append(2)\n",
        "print('primes:', primes)\n",
        "print('odds:', odds)"
      ],
      "metadata": {
        "colab": {
          "base_uri": "https://localhost:8080/"
        },
        "id": "rPoyyKDEeD6w",
        "outputId": "621f31b9-e71b-4de2-83cf-7acec81f3375"
      },
      "execution_count": 15,
      "outputs": [
        {
          "output_type": "stream",
          "name": "stdout",
          "text": [
            "primes: [3, 5, 7, 2]\n",
            "odds: [3, 5, 7]\n"
          ]
        }
      ]
    },
    {
      "cell_type": "markdown",
      "source": [
        "Subsets of lists and strings can be accessed by specifying ranges of values in brackets, similar to how we accessed ranges of positions in a NumPy array. This is commonly referred to as “slicing” the list/string."
      ],
      "metadata": {
        "id": "T6CNFtWMeO0Q"
      }
    },
    {
      "cell_type": "code",
      "source": [
        "binomial_name = 'Drosophila melanogaster'\n",
        "group = binomial_name[0:10]\n",
        "print('group:', group)\n",
        "\n",
        "species = binomial_name[11:23]\n",
        "print('species:', species)\n",
        "\n",
        "chromosomes = ['X', 'Y', '2', '3', '4']\n",
        "autosomes = chromosomes[2:5]\n",
        "print('autosomes:', autosomes)\n",
        "\n",
        "last = chromosomes[-1]\n",
        "print('last:', last)"
      ],
      "metadata": {
        "colab": {
          "base_uri": "https://localhost:8080/"
        },
        "id": "39cme3YqeOCp",
        "outputId": "0fca5e3e-fd20-4afa-b272-ee936066190e"
      },
      "execution_count": 16,
      "outputs": [
        {
          "output_type": "stream",
          "name": "stdout",
          "text": [
            "group: Drosophila\n",
            "species: melanogaster\n",
            "autosomes: ['2', '3', '4']\n",
            "last: 4\n"
          ]
        }
      ]
    },
    {
      "cell_type": "markdown",
      "source": [
        "### Lets try some exercises!"
      ],
      "metadata": {
        "id": "Gr9UnX-leOQC"
      }
    },
    {
      "cell_type": "markdown",
      "source": [
        "Use slicing to access only the last four characters of a string or entries of a list."
      ],
      "metadata": {
        "id": "EgjXtPuied66"
      }
    },
    {
      "cell_type": "code",
      "source": [
        "string_for_slicing = 'Observation date: 02-Feb-2013'\n",
        "list_for_slicing = [['fluorine', 'F'],\n",
        "                    ['chlorine', 'Cl'],\n",
        "                    ['bromine', 'Br'],\n",
        "                    ['iodine', 'I'],\n",
        "                    ['astatine', 'At']]\n"
      ],
      "metadata": {
        "id": "9eT9jheceLop"
      },
      "execution_count": 17,
      "outputs": []
    },
    {
      "cell_type": "code",
      "source": [
        "### What's your solution??"
      ],
      "metadata": {
        "id": "x90gGa7Geyls"
      },
      "execution_count": null,
      "outputs": []
    },
    {
      "cell_type": "markdown",
      "source": [
        "Would your solution work regardless of whether you knew beforehand the length of the string or list (e.g. if you wanted to apply the solution to a set of lists of different lengths)? If not, try to change your approach to make it more robust.\n",
        "\n",
        "Hint: Remember that indices can be negative as well as positive"
      ],
      "metadata": {
        "id": "RXpL_d4Sehps"
      }
    },
    {
      "cell_type": "markdown",
      "source": [
        "### Noncontinuous slices\n",
        "\n",
        "So far we’ve seen how to use slicing to take single blocks of successive entries from a sequence. But what if we want to take a subset of entries that aren’t next to each other in the sequence?\n",
        "\n",
        "You can achieve this by providing a third argument to the range within the brackets, called the step size. The example below shows how you can take every third entry in a list:"
      ],
      "metadata": {
        "id": "C1JLH9Ije4KW"
      }
    },
    {
      "cell_type": "code",
      "source": [
        "primes = [2, 3, 5, 7, 11, 13, 17, 19, 23, 29, 31, 37]\n",
        "subset = primes[0:12:3]\n",
        "print('subset', subset)"
      ],
      "metadata": {
        "colab": {
          "base_uri": "https://localhost:8080/"
        },
        "id": "LZoH-nJre_uZ",
        "outputId": "f168870b-853f-40d8-a113-6ca7862d8b7b"
      },
      "execution_count": 20,
      "outputs": [
        {
          "output_type": "stream",
          "name": "stdout",
          "text": [
            "subset [2, 7, 17, 29]\n"
          ]
        }
      ]
    },
    {
      "cell_type": "markdown",
      "source": [
        "Notice that the slice taken begins with the first entry in the range, followed by entries taken at equally-spaced intervals (the steps) thereafter. If you wanted to begin the subset with the third entry, you would need to specify that as the starting point of the sliced range:"
      ],
      "metadata": {
        "id": "w5UJSc6LehE4"
      }
    },
    {
      "cell_type": "code",
      "source": [
        "primes = [2, 3, 5, 7, 11, 13, 17, 19, 23, 29, 31, 37]\n",
        "subset = primes[2:12:3]\n",
        "print('subset', subset)"
      ],
      "metadata": {
        "colab": {
          "base_uri": "https://localhost:8080/"
        },
        "id": "zkoP4utzfLsT",
        "outputId": "83cbe55d-a32a-4911-d9ee-cb17a95703b0"
      },
      "execution_count": 19,
      "outputs": [
        {
          "output_type": "stream",
          "name": "stdout",
          "text": [
            "subset [5, 13, 23, 37]\n"
          ]
        }
      ]
    },
    {
      "cell_type": "markdown",
      "source": [
        "Use the step size argument to create a new string that contains only every other character in the string “In an octopus’s garden in the shade”. Start with creating a variable to hold the string"
      ],
      "metadata": {
        "id": "X76-Nr2BfTWD"
      }
    },
    {
      "cell_type": "code",
      "source": [
        "beatles = \"In an octopus's garden in the shade\""
      ],
      "metadata": {
        "id": "rGriFixPfPpZ"
      },
      "execution_count": 21,
      "outputs": []
    },
    {
      "cell_type": "markdown",
      "source": [
        "What slice of `beatles` will produce the following output (i.e., the first character, third character, and every other character through the end of the string)?\n",
        "`I notpssgre ntesae`"
      ],
      "metadata": {
        "id": "Br3eTcsffZ3B"
      }
    },
    {
      "cell_type": "code",
      "source": [
        "### what do you think?"
      ],
      "metadata": {
        "id": "TC3ll_6kfZIM"
      },
      "execution_count": null,
      "outputs": []
    },
    {
      "cell_type": "markdown",
      "source": [
        "If you want to take a slice from the beginning of a sequence, you can omit the first index in the range:"
      ],
      "metadata": {
        "id": "oCZT85ldfnlL"
      }
    },
    {
      "cell_type": "code",
      "source": [
        "date = 'Monday 4 January 2016'\n",
        "day = date[0:6]\n",
        "print('Using 0 to begin range:', day)\n",
        "day = date[:6]\n",
        "print('Omitting beginning index:', day)"
      ],
      "metadata": {
        "colab": {
          "base_uri": "https://localhost:8080/"
        },
        "id": "_8I9P_TbuUQ0",
        "outputId": "c5720db0-6433-4d9a-c737-cc77c14d7d5b"
      },
      "execution_count": 22,
      "outputs": [
        {
          "output_type": "stream",
          "name": "stdout",
          "text": [
            "Using 0 to begin range: Monday\n",
            "Omitting beginning index: Monday\n"
          ]
        }
      ]
    },
    {
      "cell_type": "markdown",
      "source": [
        "And similarly, you can omit the ending index in the range to take a slice to the very end of the sequence:"
      ],
      "metadata": {
        "id": "ijWgzw3VuW9p"
      }
    },
    {
      "cell_type": "code",
      "source": [
        "months = ['jan', 'feb', 'mar', 'apr', 'may', 'jun', 'jul', 'aug', 'sep', 'oct', 'nov', 'dec']\n",
        "sond = months[8:12]\n",
        "print('With known last position:', sond)\n",
        "sond = months[8:len(months)]\n",
        "print('Using len() to get last entry:', sond)\n",
        "sond = months[8:]\n",
        "print('Omitting ending index:', sond)"
      ],
      "metadata": {
        "colab": {
          "base_uri": "https://localhost:8080/"
        },
        "id": "ucDh5pWiuUnh",
        "outputId": "834b0531-bc99-4c7e-ead1-52a56693c1ed"
      },
      "execution_count": 23,
      "outputs": [
        {
          "output_type": "stream",
          "name": "stdout",
          "text": [
            "With known last position: ['sep', 'oct', 'nov', 'dec']\n",
            "Using len() to get last entry: ['sep', 'oct', 'nov', 'dec']\n",
            "Omitting ending index: ['sep', 'oct', 'nov', 'dec']\n"
          ]
        }
      ]
    },
    {
      "cell_type": "markdown",
      "source": [
        "`+` usually means addition, but when used on strings or lists, it means “concatenate”. Given that, what do you think the multiplication operator `*` does on lists? In particular, what will be the output of the following code?"
      ],
      "metadata": {
        "id": "EyFE-emOu3wO"
      }
    },
    {
      "cell_type": "code",
      "source": [
        "counts = [2, 4, 6, 8, 10]\n",
        "repeats = counts * 2"
      ],
      "metadata": {
        "id": "pWQ9FZcZueGj"
      },
      "execution_count": 25,
      "outputs": []
    },
    {
      "cell_type": "markdown",
      "source": [
        "1. [2, 4, 6, 8, 10, 2, 4, 6, 8, 10]\n",
        "2. [4, 8, 12, 16, 20]\n",
        "3. [[2, 4, 6, 8, 10], [2, 4, 6, 8, 10]]\n",
        "4. [2, 4, 6, 8, 10, 4, 8, 12, 16, 20]"
      ],
      "metadata": {
        "id": "HN8RVW0GvD6T"
      }
    },
    {
      "cell_type": "code",
      "source": [
        "### Which do you think?  Try it!"
      ],
      "metadata": {
        "id": "8d-mLQ_iu87N"
      },
      "execution_count": 26,
      "outputs": []
    },
    {
      "cell_type": "markdown",
      "source": [
        "### Key points\n",
        "\n",
        "- `[value1, value2, value3, ...]` creates a list.\n",
        "- Lists can contain any Python object, including lists (i.e., list of lists).\n",
        "- Lists are indexed and sliced with square brackets (e.g., `list[0]` and `list[2:9]`), in the same way as strings and arrays.\n",
        "- Lists are mutable (i.e., their values can be changed in place).\n",
        "- Strings are immutable (i.e., the characters in them cannot be changed)."
      ],
      "metadata": {
        "id": "yv35PjKEvO50"
      }
    },
    {
      "cell_type": "code",
      "source": [],
      "metadata": {
        "id": "bd3YELFuvLN7"
      },
      "execution_count": null,
      "outputs": []
    }
  ]
}