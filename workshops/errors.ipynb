{
  "nbformat": 4,
  "nbformat_minor": 0,
  "metadata": {
    "colab": {
      "provenance": [],
      "authorship_tag": "ABX9TyNoNYKOFdGVh1ZYyoEu8xY4",
      "include_colab_link": true
    },
    "kernelspec": {
      "name": "python3",
      "display_name": "Python 3"
    },
    "language_info": {
      "name": "python"
    }
  },
  "cells": [
    {
      "cell_type": "markdown",
      "metadata": {
        "id": "view-in-github",
        "colab_type": "text"
      },
      "source": [
        "<a href=\"https://colab.research.google.com/github/lucywowen/csci191_ProgSci/blob/main/workshops/errors.ipynb\" target=\"_parent\"><img src=\"https://colab.research.google.com/assets/colab-badge.svg\" alt=\"Open In Colab\"/></a>"
      ]
    },
    {
      "cell_type": "markdown",
      "source": [
        "# Errors and exceptions\n",
        "\n",
        "Every programmer encounters errors, both those who are just beginning, and those who have been programming for years. Encountering errors and exceptions can be very frustrating at times, and can make coding feel like a hopeless endeavour. However, understanding what the different types of errors are and when you are likely to encounter them can help a lot. Once you know why you get certain types of errors, they become much easier to fix.\n",
        "\n",
        "Errors in Python have a very specific form, called a traceback. Let’s examine one:"
      ],
      "metadata": {
        "id": "Wi5gokOIrEML"
      }
    },
    {
      "cell_type": "code",
      "execution_count": 1,
      "metadata": {
        "colab": {
          "base_uri": "https://localhost:8080/",
          "height": 297
        },
        "id": "0obpFSPVrC7B",
        "outputId": "f00a404a-2da3-476d-a6c2-a11a68cd08f9"
      },
      "outputs": [
        {
          "output_type": "error",
          "ename": "IndexError",
          "evalue": "list index out of range",
          "traceback": [
            "\u001b[0;31m---------------------------------------------------------------------------\u001b[0m",
            "\u001b[0;31mIndexError\u001b[0m                                Traceback (most recent call last)",
            "\u001b[0;32m<ipython-input-1-e5b074b4d20d>\u001b[0m in \u001b[0;36m<cell line: 0>\u001b[0;34m()\u001b[0m\n\u001b[1;32m      9\u001b[0m     \u001b[0mprint\u001b[0m\u001b[0;34m(\u001b[0m\u001b[0mice_creams\u001b[0m\u001b[0;34m[\u001b[0m\u001b[0;36m3\u001b[0m\u001b[0;34m]\u001b[0m\u001b[0;34m)\u001b[0m\u001b[0;34m\u001b[0m\u001b[0;34m\u001b[0m\u001b[0m\n\u001b[1;32m     10\u001b[0m \u001b[0;34m\u001b[0m\u001b[0m\n\u001b[0;32m---> 11\u001b[0;31m \u001b[0mfavorite_ice_cream\u001b[0m\u001b[0;34m(\u001b[0m\u001b[0;34m)\u001b[0m\u001b[0;34m\u001b[0m\u001b[0;34m\u001b[0m\u001b[0m\n\u001b[0m",
            "\u001b[0;32m<ipython-input-1-e5b074b4d20d>\u001b[0m in \u001b[0;36mfavorite_ice_cream\u001b[0;34m()\u001b[0m\n\u001b[1;32m      7\u001b[0m         \u001b[0;34m'strawberry'\u001b[0m\u001b[0;34m\u001b[0m\u001b[0;34m\u001b[0m\u001b[0m\n\u001b[1;32m      8\u001b[0m     ]\n\u001b[0;32m----> 9\u001b[0;31m     \u001b[0mprint\u001b[0m\u001b[0;34m(\u001b[0m\u001b[0mice_creams\u001b[0m\u001b[0;34m[\u001b[0m\u001b[0;36m3\u001b[0m\u001b[0;34m]\u001b[0m\u001b[0;34m)\u001b[0m\u001b[0;34m\u001b[0m\u001b[0;34m\u001b[0m\u001b[0m\n\u001b[0m\u001b[1;32m     10\u001b[0m \u001b[0;34m\u001b[0m\u001b[0m\n\u001b[1;32m     11\u001b[0m \u001b[0mfavorite_ice_cream\u001b[0m\u001b[0;34m(\u001b[0m\u001b[0;34m)\u001b[0m\u001b[0;34m\u001b[0m\u001b[0;34m\u001b[0m\u001b[0m\n",
            "\u001b[0;31mIndexError\u001b[0m: list index out of range"
          ]
        }
      ],
      "source": [
        "# This code has an intentional error. You can type it directly or\n",
        "# use it for reference to understand the error message below.\n",
        "def favorite_ice_cream():\n",
        "    ice_creams = [\n",
        "        'chocolate',\n",
        "        'vanilla',\n",
        "        'strawberry'\n",
        "    ]\n",
        "    print(ice_creams[3])\n",
        "\n",
        "favorite_ice_cream()"
      ]
    },
    {
      "cell_type": "markdown",
      "source": [
        "This particular traceback has two levels. You can determine the number of levels by looking for the number of arrows on the left hand side. In this case:\n",
        "\n",
        "1. The first shows code from the cell above, with an arrow pointing to Line 11 (which is `favorite_ice_cream()`).\n",
        "\n",
        "2. The second shows some code in the function `favorite_ice_cream`, with an arrow pointing to Line 9 (which is `print(ice_creams[3])`).\n",
        "\n",
        "The last level is the actual place where the error occurred. The other level(s) show what function the program executed to get to the next level down. So, in this case, the program first performed a function call to the function `favorite_ice_cream`. Inside this function, the program encountered an error on Line 6, when it tried to run the code `print(ice_creams[3])`.\n",
        "\n",
        "Sometimes, you might see a traceback that is very long -- sometimes they might even be 20 levels deep! This can make it seem like something horrible happened, but the length of the error message does not reflect severity, rather, it indicates that your program called many functions before it encountered the error. Most of the time, the actual place where the error occurred is at the bottom-most level, so you can skip down the traceback to the bottom.\n",
        "\n",
        "So what error did the program actually encounter? In the last line of the traceback, Python helpfully tells us the category or type of error (in this case, it is an `IndexError`) and a more detailed error message (in this case, it says “list index out of range”).\n",
        "\n",
        "If you encounter an error and don’t know what it means, it is still important to read the traceback closely. That way, if you fix the error, but encounter a new one, you can tell that the error changed. Additionally, sometimes knowing where the error occurred is enough to fix it, even if you don’t entirely understand the message.\n",
        "\n",
        "If you do encounter an error you don’t recognize, try looking at the official documentation on errors. However, note that you may not always be able to find the error there, as it is possible to create custom errors. In that case, hopefully the custom error message is informative enough to help you figure out what went wrong."
      ],
      "metadata": {
        "id": "D-CvU6qVrSaY"
      }
    },
    {
      "cell_type": "markdown",
      "source": [
        "### You try it\n",
        "\n",
        "Read the Python code and the resulting traceback below, and answer the following questions:\n",
        "\n",
        "1. How many levels does the traceback have?\n",
        "2. What is the function name where the error occurred?\n",
        "3. On which line number in this function did the error occur?\n",
        "4. What is the type of error?\n",
        "5. What is the error message?"
      ],
      "metadata": {
        "id": "WV5LwzTbrw5J"
      }
    },
    {
      "cell_type": "code",
      "source": [
        "# This code has an intentional error. Do not type it directly;\n",
        "# use it for reference to understand the error message below.\n",
        "def print_message(day):\n",
        "    messages = [\n",
        "        'Hello, world!',\n",
        "        'Today is Tuesday!',\n",
        "        'It is the middle of the week.',\n",
        "        'Today is Donnerstag in German!',\n",
        "        'Last day of the week!',\n",
        "        'Hooray for the weekend!',\n",
        "        'Aw, the weekend is almost over.'\n",
        "    ]\n",
        "    print(messages[day])\n",
        "\n",
        "def print_sunday_message():\n",
        "    print_message(7)\n",
        "\n",
        "print_sunday_message()"
      ],
      "metadata": {
        "id": "BhycGMu2rN9Y"
      },
      "execution_count": null,
      "outputs": []
    },
    {
      "cell_type": "markdown",
      "source": [
        "### Syntax errors\n",
        "\n",
        "When you forget a colon at the end of a line, accidentally add one space too many when indenting under an if statement, or forget a parenthesis, you will encounter a syntax error. This means that Python couldn’t figure out how to read your program. This is similar to forgetting punctuation in English: for example, this text is difficult to read there is no punctuation there is also no capitalization why is this hard because you have to figure out where each sentence ends you also have to figure out where each sentence begins to some extent it might be ambiguous if there should be a sentence break or not\n",
        "\n",
        "People can typically figure out what is meant by text with no punctuation, but people are much smarter than computers. If Python doesn’t know how to read the program, it will give up and inform you with an error. For example:"
      ],
      "metadata": {
        "id": "dvEuX0RWsMef"
      }
    },
    {
      "cell_type": "code",
      "source": [
        "def some_function()\n",
        "    msg = 'hello, world!'\n",
        "    print(msg)\n",
        "     return msg"
      ],
      "metadata": {
        "id": "BLK8SSyhsSj8"
      },
      "execution_count": null,
      "outputs": []
    },
    {
      "cell_type": "markdown",
      "source": [
        "Here, Python tells us that there is a `SyntaxError` on line 1, and even puts a little arrow in the place where there is an issue. In this case the problem is that the function definition is missing a colon at the end.\n",
        "\n",
        "Actually, the function above has two issues with syntax. If we fix the problem with the colon, we see that there is also an `IndentationError`, which means that the lines in the function definition do not all have the same indentation:"
      ],
      "metadata": {
        "id": "RZQ3Cw8qshOx"
      }
    },
    {
      "cell_type": "code",
      "source": [
        "def some_function():\n",
        "    msg = 'hello, world!'\n",
        "    print(msg)\n",
        "     return msg"
      ],
      "metadata": {
        "id": "XJ_hmScZsnlN"
      },
      "execution_count": null,
      "outputs": []
    },
    {
      "cell_type": "markdown",
      "source": [
        "Both `SyntaxError` and `IndentationError` indicate a problem with the syntax of your program, but an `IndentationError` is more specific: it always means that there is a problem with how your code is indented.\n",
        "\n",
        "Some indentation errors are harder to spot than others. In particular, mixing spaces and tabs can be difficult to spot because they are both whitespace. In the example below, the first two lines in the body of the function `some_function` are indented with tabs, while the third line — with spaces. If you’re working in a Jupyter notebook, be sure to copy and paste this example rather than trying to type it in manually because Jupyter automatically replaces tabs with spaces."
      ],
      "metadata": {
        "id": "ISSduAW0sq0M"
      }
    },
    {
      "cell_type": "code",
      "source": [
        "def some_function():\n",
        "\tmsg = 'hello, world!'\n",
        "\tprint(msg)\n",
        "        return msg"
      ],
      "metadata": {
        "id": "natZaqfOs2ML"
      },
      "execution_count": null,
      "outputs": []
    },
    {
      "cell_type": "markdown",
      "source": [
        "Visually it is impossible to spot the error. Fortunately, Python does not allow you to mix tabs and spaces."
      ],
      "metadata": {
        "id": "96cQyk8Fs5OW"
      }
    },
    {
      "cell_type": "markdown",
      "source": [
        "### Variable name errors\n",
        "\n",
        "Another very common type of error is called a `NameError`, and occurs when you try to use a variable that does not exist. For example:"
      ],
      "metadata": {
        "id": "07QpYhk3s7VS"
      }
    },
    {
      "cell_type": "code",
      "source": [
        "print(a)"
      ],
      "metadata": {
        "colab": {
          "base_uri": "https://localhost:8080/",
          "height": 141
        },
        "id": "vBhq-x4Gs87w",
        "outputId": "77da029d-149b-439c-b720-87e73fdf9e1a"
      },
      "execution_count": 2,
      "outputs": [
        {
          "output_type": "error",
          "ename": "NameError",
          "evalue": "name 'a' is not defined",
          "traceback": [
            "\u001b[0;31m---------------------------------------------------------------------------\u001b[0m",
            "\u001b[0;31mNameError\u001b[0m                                 Traceback (most recent call last)",
            "\u001b[0;32m<ipython-input-2-bca0e2660b9f>\u001b[0m in \u001b[0;36m<cell line: 0>\u001b[0;34m()\u001b[0m\n\u001b[0;32m----> 1\u001b[0;31m \u001b[0mprint\u001b[0m\u001b[0;34m(\u001b[0m\u001b[0ma\u001b[0m\u001b[0;34m)\u001b[0m\u001b[0;34m\u001b[0m\u001b[0;34m\u001b[0m\u001b[0m\n\u001b[0m",
            "\u001b[0;31mNameError\u001b[0m: name 'a' is not defined"
          ]
        }
      ]
    },
    {
      "cell_type": "markdown",
      "source": [
        "Variable name errors come with some of the most informative error messages, which are usually of the form “name ‘the_variable_name’ is not defined”.\n",
        "\n",
        "Why does this error message occur? That’s a harder question to answer, because it depends on what your code is supposed to do. However, there are a few very common reasons why you might have an undefined variable. The first is that you meant to use a string, but forgot to put quotes around it:"
      ],
      "metadata": {
        "id": "P2wDlGgNtFKU"
      }
    },
    {
      "cell_type": "code",
      "source": [
        "print(hello)"
      ],
      "metadata": {
        "colab": {
          "base_uri": "https://localhost:8080/",
          "height": 141
        },
        "id": "hcHNXcL1tBz7",
        "outputId": "978d96ec-a2e8-471a-ac41-ec553aea6291"
      },
      "execution_count": 3,
      "outputs": [
        {
          "output_type": "error",
          "ename": "NameError",
          "evalue": "name 'hello' is not defined",
          "traceback": [
            "\u001b[0;31m---------------------------------------------------------------------------\u001b[0m",
            "\u001b[0;31mNameError\u001b[0m                                 Traceback (most recent call last)",
            "\u001b[0;32m<ipython-input-3-1cd80308eb4c>\u001b[0m in \u001b[0;36m<cell line: 0>\u001b[0;34m()\u001b[0m\n\u001b[0;32m----> 1\u001b[0;31m \u001b[0mprint\u001b[0m\u001b[0;34m(\u001b[0m\u001b[0mhello\u001b[0m\u001b[0;34m)\u001b[0m\u001b[0;34m\u001b[0m\u001b[0;34m\u001b[0m\u001b[0m\n\u001b[0m",
            "\u001b[0;31mNameError\u001b[0m: name 'hello' is not defined"
          ]
        }
      ]
    },
    {
      "cell_type": "markdown",
      "source": [
        "The second reason is that you might be trying to use a variable that does not yet exist. In the following example, count should have been defined (e.g., with `count = 0`) before the for loop:"
      ],
      "metadata": {
        "id": "8jXe1wUMtKtU"
      }
    },
    {
      "cell_type": "code",
      "source": [
        "for number in range(10):\n",
        "    count = count + number\n",
        "print('The count is:', count)"
      ],
      "metadata": {
        "colab": {
          "base_uri": "https://localhost:8080/",
          "height": 176
        },
        "id": "bwDlg2aTtKIv",
        "outputId": "41dd37aa-b868-4839-f366-73af56e5d7ef"
      },
      "execution_count": 4,
      "outputs": [
        {
          "output_type": "error",
          "ename": "NameError",
          "evalue": "name 'count' is not defined",
          "traceback": [
            "\u001b[0;31m---------------------------------------------------------------------------\u001b[0m",
            "\u001b[0;31mNameError\u001b[0m                                 Traceback (most recent call last)",
            "\u001b[0;32m<ipython-input-4-64cce701dab9>\u001b[0m in \u001b[0;36m<cell line: 0>\u001b[0;34m()\u001b[0m\n\u001b[1;32m      1\u001b[0m \u001b[0;32mfor\u001b[0m \u001b[0mnumber\u001b[0m \u001b[0;32min\u001b[0m \u001b[0mrange\u001b[0m\u001b[0;34m(\u001b[0m\u001b[0;36m10\u001b[0m\u001b[0;34m)\u001b[0m\u001b[0;34m:\u001b[0m\u001b[0;34m\u001b[0m\u001b[0;34m\u001b[0m\u001b[0m\n\u001b[0;32m----> 2\u001b[0;31m     \u001b[0mcount\u001b[0m \u001b[0;34m=\u001b[0m \u001b[0mcount\u001b[0m \u001b[0;34m+\u001b[0m \u001b[0mnumber\u001b[0m\u001b[0;34m\u001b[0m\u001b[0;34m\u001b[0m\u001b[0m\n\u001b[0m\u001b[1;32m      3\u001b[0m \u001b[0mprint\u001b[0m\u001b[0;34m(\u001b[0m\u001b[0;34m'The count is:'\u001b[0m\u001b[0;34m,\u001b[0m \u001b[0mcount\u001b[0m\u001b[0;34m)\u001b[0m\u001b[0;34m\u001b[0m\u001b[0;34m\u001b[0m\u001b[0m\n",
            "\u001b[0;31mNameError\u001b[0m: name 'count' is not defined"
          ]
        }
      ]
    },
    {
      "cell_type": "markdown",
      "source": [
        "\n",
        "Finally, the third possibility is that you made a typo when you were writing your code. Let’s say we fixed the error above by adding the line `Count = 0` before the for loop. Frustratingly, this actually does not fix the error. Remember that variables are case-sensitive, so the variable count is different from Count. We still get the same error, because we still have not defined count:"
      ],
      "metadata": {
        "id": "NWbi1HfPtUMc"
      }
    },
    {
      "cell_type": "code",
      "source": [
        "Count = 0\n",
        "for number in range(10):\n",
        "    count = count + number\n",
        "print('The count is:', count)"
      ],
      "metadata": {
        "colab": {
          "base_uri": "https://localhost:8080/",
          "height": 193
        },
        "id": "yi0olm5StPaR",
        "outputId": "b8e2007b-629f-4829-d884-8b6612bb64ec"
      },
      "execution_count": 5,
      "outputs": [
        {
          "output_type": "error",
          "ename": "NameError",
          "evalue": "name 'count' is not defined",
          "traceback": [
            "\u001b[0;31m---------------------------------------------------------------------------\u001b[0m",
            "\u001b[0;31mNameError\u001b[0m                                 Traceback (most recent call last)",
            "\u001b[0;32m<ipython-input-5-7190aa30e930>\u001b[0m in \u001b[0;36m<cell line: 0>\u001b[0;34m()\u001b[0m\n\u001b[1;32m      1\u001b[0m \u001b[0mCount\u001b[0m \u001b[0;34m=\u001b[0m \u001b[0;36m0\u001b[0m\u001b[0;34m\u001b[0m\u001b[0;34m\u001b[0m\u001b[0m\n\u001b[1;32m      2\u001b[0m \u001b[0;32mfor\u001b[0m \u001b[0mnumber\u001b[0m \u001b[0;32min\u001b[0m \u001b[0mrange\u001b[0m\u001b[0;34m(\u001b[0m\u001b[0;36m10\u001b[0m\u001b[0;34m)\u001b[0m\u001b[0;34m:\u001b[0m\u001b[0;34m\u001b[0m\u001b[0;34m\u001b[0m\u001b[0m\n\u001b[0;32m----> 3\u001b[0;31m     \u001b[0mcount\u001b[0m \u001b[0;34m=\u001b[0m \u001b[0mcount\u001b[0m \u001b[0;34m+\u001b[0m \u001b[0mnumber\u001b[0m\u001b[0;34m\u001b[0m\u001b[0;34m\u001b[0m\u001b[0m\n\u001b[0m\u001b[1;32m      4\u001b[0m \u001b[0mprint\u001b[0m\u001b[0;34m(\u001b[0m\u001b[0;34m'The count is:'\u001b[0m\u001b[0;34m,\u001b[0m \u001b[0mcount\u001b[0m\u001b[0;34m)\u001b[0m\u001b[0;34m\u001b[0m\u001b[0;34m\u001b[0m\u001b[0m\n",
            "\u001b[0;31mNameError\u001b[0m: name 'count' is not defined"
          ]
        }
      ]
    },
    {
      "cell_type": "markdown",
      "source": [
        "### Index error\n",
        "\n",
        "Next up are errors having to do with containers (like lists and strings) and the items within them. If you try to access an item in a list or a string that does not exist, then you will get an error. This makes sense: if you asked someone what day they would like to get coffee, and they answered “caturday”, you might be a bit annoyed. Python gets similarly annoyed if you try to ask it for an item that doesn’t exist:"
      ],
      "metadata": {
        "id": "wiIZK8DMtbYt"
      }
    },
    {
      "cell_type": "code",
      "source": [
        "letters = ['a', 'b', 'c']\n",
        "print('Letter #1 is', letters[0])\n",
        "print('Letter #2 is', letters[1])\n",
        "print('Letter #3 is', letters[2])\n",
        "print('Letter #4 is', letters[3])"
      ],
      "metadata": {
        "colab": {
          "base_uri": "https://localhost:8080/",
          "height": 228
        },
        "id": "-zQuaBOatZ0E",
        "outputId": "06c1a5bf-d42c-40aa-b321-3a80356d4204"
      },
      "execution_count": 6,
      "outputs": [
        {
          "output_type": "stream",
          "name": "stdout",
          "text": [
            "Letter #1 is a\n",
            "Letter #2 is b\n",
            "Letter #3 is c\n"
          ]
        },
        {
          "output_type": "error",
          "ename": "IndexError",
          "evalue": "list index out of range",
          "traceback": [
            "\u001b[0;31m---------------------------------------------------------------------------\u001b[0m",
            "\u001b[0;31mIndexError\u001b[0m                                Traceback (most recent call last)",
            "\u001b[0;32m<ipython-input-6-af8f97c9a1ff>\u001b[0m in \u001b[0;36m<cell line: 0>\u001b[0;34m()\u001b[0m\n\u001b[1;32m      3\u001b[0m \u001b[0mprint\u001b[0m\u001b[0;34m(\u001b[0m\u001b[0;34m'Letter #2 is'\u001b[0m\u001b[0;34m,\u001b[0m \u001b[0mletters\u001b[0m\u001b[0;34m[\u001b[0m\u001b[0;36m1\u001b[0m\u001b[0;34m]\u001b[0m\u001b[0;34m)\u001b[0m\u001b[0;34m\u001b[0m\u001b[0;34m\u001b[0m\u001b[0m\n\u001b[1;32m      4\u001b[0m \u001b[0mprint\u001b[0m\u001b[0;34m(\u001b[0m\u001b[0;34m'Letter #3 is'\u001b[0m\u001b[0;34m,\u001b[0m \u001b[0mletters\u001b[0m\u001b[0;34m[\u001b[0m\u001b[0;36m2\u001b[0m\u001b[0;34m]\u001b[0m\u001b[0;34m)\u001b[0m\u001b[0;34m\u001b[0m\u001b[0;34m\u001b[0m\u001b[0m\n\u001b[0;32m----> 5\u001b[0;31m \u001b[0mprint\u001b[0m\u001b[0;34m(\u001b[0m\u001b[0;34m'Letter #4 is'\u001b[0m\u001b[0;34m,\u001b[0m \u001b[0mletters\u001b[0m\u001b[0;34m[\u001b[0m\u001b[0;36m3\u001b[0m\u001b[0;34m]\u001b[0m\u001b[0;34m)\u001b[0m\u001b[0;34m\u001b[0m\u001b[0;34m\u001b[0m\u001b[0m\n\u001b[0m",
            "\u001b[0;31mIndexError\u001b[0m: list index out of range"
          ]
        }
      ]
    },
    {
      "cell_type": "markdown",
      "source": [
        "Here, Python is telling us that there is an `IndexError `in our code, meaning we tried to access a list index that did not exist.\n",
        "\n"
      ],
      "metadata": {
        "id": "655AHH_Ftkrj"
      }
    },
    {
      "cell_type": "markdown",
      "source": [
        "### File errors\n",
        "\n",
        "The last type of error we’ll cover today are those associated with reading and writing files: `FileNotFoundError`. If you try to read a file that does not exist, you will receive a `FileNotFoundError` telling you so. If you attempt to write to a file that was opened read-only, Python 3 returns an `UnsupportedOperationError`. More generally, problems with input and output manifest as `OSErrors`, which may show up as a more specific subclass; you can see the list in the Python docs. They all have a unique UNIX `errno`, which is you can see in the error message."
      ],
      "metadata": {
        "id": "OBtfZcsatpjk"
      }
    },
    {
      "cell_type": "code",
      "source": [
        "file_handle = open('myfile.txt', 'r')"
      ],
      "metadata": {
        "colab": {
          "base_uri": "https://localhost:8080/",
          "height": 141
        },
        "id": "7_i4z-1Ltiiv",
        "outputId": "755aa48e-f67a-4faa-e69c-561bbc7df6b2"
      },
      "execution_count": 7,
      "outputs": [
        {
          "output_type": "error",
          "ename": "FileNotFoundError",
          "evalue": "[Errno 2] No such file or directory: 'myfile.txt'",
          "traceback": [
            "\u001b[0;31m---------------------------------------------------------------------------\u001b[0m",
            "\u001b[0;31mFileNotFoundError\u001b[0m                         Traceback (most recent call last)",
            "\u001b[0;32m<ipython-input-7-080b0e91cc46>\u001b[0m in \u001b[0;36m<cell line: 0>\u001b[0;34m()\u001b[0m\n\u001b[0;32m----> 1\u001b[0;31m \u001b[0mfile_handle\u001b[0m \u001b[0;34m=\u001b[0m \u001b[0mopen\u001b[0m\u001b[0;34m(\u001b[0m\u001b[0;34m'myfile.txt'\u001b[0m\u001b[0;34m,\u001b[0m \u001b[0;34m'r'\u001b[0m\u001b[0;34m)\u001b[0m\u001b[0;34m\u001b[0m\u001b[0;34m\u001b[0m\u001b[0m\n\u001b[0m",
            "\u001b[0;31mFileNotFoundError\u001b[0m: [Errno 2] No such file or directory: 'myfile.txt'"
          ]
        }
      ]
    },
    {
      "cell_type": "markdown",
      "source": [
        "One reason for receiving this error is that you specified an incorrect path to the file. For example, if I am currently in a folder called `myproject`, and I have a file in `myproject/writing/myfile.txt`, but I try to open `myfile.txt`, this will fail. The correct path would be `writing/myfile.txt`. It is also possible that the file name or its path contains a typo.\n",
        "\n",
        "A related issue can occur if you use the “read” flag instead of the “write” flag. Python will not give you an error if you try to open a file for writing when the file does not exist. However, if you meant to open a file for reading, but accidentally opened it for writing, and then try to read from it, you will get an `UnsupportedOperation` error telling you that the file was not opened for reading:"
      ],
      "metadata": {
        "id": "YIL0fHfEt3W3"
      }
    },
    {
      "cell_type": "code",
      "source": [
        "file_handle = open('myfile.txt', 'w')\n",
        "file_handle.read()"
      ],
      "metadata": {
        "colab": {
          "base_uri": "https://localhost:8080/",
          "height": 158
        },
        "id": "Uz8DiDEYtyTl",
        "outputId": "66d1612e-af5e-4f80-f31c-76186ba0dd0e"
      },
      "execution_count": 8,
      "outputs": [
        {
          "output_type": "error",
          "ename": "UnsupportedOperation",
          "evalue": "not readable",
          "traceback": [
            "\u001b[0;31m---------------------------------------------------------------------------\u001b[0m",
            "\u001b[0;31mUnsupportedOperation\u001b[0m                      Traceback (most recent call last)",
            "\u001b[0;32m<ipython-input-8-063a9999adc0>\u001b[0m in \u001b[0;36m<cell line: 0>\u001b[0;34m()\u001b[0m\n\u001b[1;32m      1\u001b[0m \u001b[0mfile_handle\u001b[0m \u001b[0;34m=\u001b[0m \u001b[0mopen\u001b[0m\u001b[0;34m(\u001b[0m\u001b[0;34m'myfile.txt'\u001b[0m\u001b[0;34m,\u001b[0m \u001b[0;34m'w'\u001b[0m\u001b[0;34m)\u001b[0m\u001b[0;34m\u001b[0m\u001b[0;34m\u001b[0m\u001b[0m\n\u001b[0;32m----> 2\u001b[0;31m \u001b[0mfile_handle\u001b[0m\u001b[0;34m.\u001b[0m\u001b[0mread\u001b[0m\u001b[0;34m(\u001b[0m\u001b[0;34m)\u001b[0m\u001b[0;34m\u001b[0m\u001b[0;34m\u001b[0m\u001b[0m\n\u001b[0m",
            "\u001b[0;31mUnsupportedOperation\u001b[0m: not readable"
          ]
        }
      ]
    },
    {
      "cell_type": "markdown",
      "source": [
        "These are the most common errors with files, though many others exist. If you get an error that you’ve never seen before, searching the Internet for that error type often reveals common reasons why you might get that error."
      ],
      "metadata": {
        "id": "rQHA_O2nuDUn"
      }
    },
    {
      "cell_type": "markdown",
      "source": [
        "### Now you try!\n",
        "\n",
        "1. Read the code below, and (without running it) try to identify what the errors are.\n",
        "2. Run the code, and read the error message. Is it a `SyntaxError` or an `IndentationError`?\n",
        "3. Fix the error.\n",
        "4. Repeat steps 2 and 3, until you have fixed all the errors.\n"
      ],
      "metadata": {
        "id": "dKDuf6SjuG_h"
      }
    },
    {
      "cell_type": "code",
      "source": [
        "def another_function\n",
        "  print('Syntax errors are annoying.')\n",
        "   print('But at least Python tells us about them!')\n",
        "  print('So they are usually not too hard to fix.')"
      ],
      "metadata": {
        "id": "qsv3YAiTuBdL"
      },
      "execution_count": null,
      "outputs": []
    },
    {
      "cell_type": "markdown",
      "source": [
        "1. Read the code below, and (without running it) try to identify what the errors are.\n",
        "2. Run the code, and read the error message. What type of `NameError` do you think this is? In other words, is it a string with no quotes, a misspelled variable, or a variable that should have been defined but was not?\n",
        "3. Fix the error.\n",
        "4. Repeat steps 2 and 3, until you have fixed all the errors."
      ],
      "metadata": {
        "id": "1Nzp9_AxuVNf"
      }
    },
    {
      "cell_type": "code",
      "source": [
        "for number in range(10):\n",
        "    # use a if the number is a multiple of 3, otherwise use b\n",
        "    if (Number % 3) == 0:\n",
        "        message = message + a\n",
        "    else:\n",
        "        message = message + 'b'\n",
        "print(message)"
      ],
      "metadata": {
        "id": "29k2teAtubNY"
      },
      "execution_count": null,
      "outputs": []
    },
    {
      "cell_type": "markdown",
      "source": [
        "1. Read the code below, and (without running it) try to identify what the errors are.\n",
        "2. Run the code, and read the error message. What type of error is it?\n",
        "3. Fix the error."
      ],
      "metadata": {
        "id": "_d_ASxSRudO_"
      }
    },
    {
      "cell_type": "code",
      "source": [
        "seasons = ['Spring', 'Summer', 'Fall', 'Winter']\n",
        "print('My favorite season is ', seasons[4])\n",
        "\n"
      ],
      "metadata": {
        "id": "0ucVQ55JuiJ0"
      },
      "execution_count": null,
      "outputs": []
    },
    {
      "cell_type": "markdown",
      "source": [
        "### Key points:\n",
        "\n",
        "- Tracebacks can look intimidating, but they give us a lot of useful information about what went wrong in our program, including where the error occurred and what type of error it was.\n",
        "- An error having to do with the ‘grammar’ or syntax of the program is called a `SyntaxError`. If the issue has to do with how the code is indented, then it will be called an `IndentationError`.\n",
        "- A `NameError` will occur when trying to use a variable that does not exist. Possible causes are that a variable definition is missing, a variable reference differs from its definition in spelling or capitalization, or the code contains a string that is missing quotes around it.\n",
        "- Containers like lists and strings will generate errors if you try to access items in them that do not exist. This type of error is called an `IndexError`.\n",
        "- Trying to read a file that does not exist will give you an `FileNotFoundError`. Trying to read a file that is open for writing, or writing to a file that is open for reading, will give you an `IOError`.\n"
      ],
      "metadata": {
        "id": "BDN_eM-aukDI"
      }
    }
  ]
}